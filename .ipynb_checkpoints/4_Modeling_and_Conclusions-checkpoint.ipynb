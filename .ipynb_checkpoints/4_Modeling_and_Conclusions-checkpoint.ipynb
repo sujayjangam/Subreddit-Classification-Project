{
 "cells": [
  {
   "cell_type": "markdown",
   "id": "3e8c24b6",
   "metadata": {},
   "source": [
    "# Modeling and Conclusions"
   ]
  },
  {
   "cell_type": "markdown",
   "id": "9080efcb",
   "metadata": {},
   "source": [
    "In the previous notebooks, we have cleaned, preprocessed and conducted EDA on our data. Now we will proceed to model our data using `LogisticRegression`, `NaiveBayes`, and `RandomForest`."
   ]
  },
  {
   "cell_type": "markdown",
   "id": "96057777",
   "metadata": {},
   "source": [
    "We will be carrying out the following steps:\n",
    "\n",
    "1. [Stop Words Removal](#Stop-Words-Removal)\n",
    "2. [Getting our data reading for modeling](#Getting-our-data-ready-for-modeling)\n",
    "3. [Benchmark Model Score](#Benchmark-Model-Score)\n",
    "4. [Model Testing](#Model-Testing)\n",
    "    - [Logistic Regression](#Logistic-Regression)<br>\n",
    "    - [Multinomial Naive Bayes](#Naive-Bayes)<br>\n",
    "    - [Random Forest](#Random-Forest)<br>\n",
    "5. [Tuning Models](#Tuning-Models)\n",
    "6. [Further Tuning](#Further-Tuning)\n",
    "7. [Error Analysis](#Error-Analysis)\n",
    "8. [Rerun Modeling](#Rerun-Modeling)\n",
    "9. [Model Limitations](#Model-Limitations)"
   ]
  },
  {
   "cell_type": "markdown",
   "id": "477d15ce",
   "metadata": {},
   "source": [
    "This is the fourth of four notebooks:\n",
    "1. [Subreddit Scraping](1_Subreddit_Scraping.ipynb)\n",
    "2. [Data Cleaning](2_Data_Cleaning.ipynb)\n",
    "3. [EDA on Cleaned Subreddits Data](3_EDA_on_Subreddits.ipynb)\n",
    "4. **Modeling and Conclusions (Current Notebook)**"
   ]
  },
  {
   "cell_type": "markdown",
   "id": "9bf56d52",
   "metadata": {},
   "source": [
    "# Imports"
   ]
  },
  {
   "cell_type": "code",
   "execution_count": 141,
   "id": "7b7a1c62",
   "metadata": {},
   "outputs": [],
   "source": [
    "import pandas as pd\n",
    "import numpy as np\n",
    "import matplotlib.pyplot as plt\n",
    "import seaborn as sns\n",
    "import re\n",
    "\n",
    "from sklearn.feature_extraction.text import CountVectorizer, TfidfVectorizer, HashingVectorizer\n",
    "\n",
    "from sklearn.model_selection import train_test_split, GridSearchCV, RandomizedSearchCV, cross_val_score\n",
    "\n",
    "from sklearn.pipeline import Pipeline\n",
    "from sklearn.linear_model import LogisticRegression\n",
    "\n",
    "from sklearn.metrics import confusion_matrix, classification_report, \\\n",
    "                            accuracy_score, precision_score, \\\n",
    "                            recall_score, make_scorer\n",
    "\n",
    "from sklearn.tree import DecisionTreeClassifier\n",
    "\n",
    "from sklearn.ensemble import RandomForestClassifier\n",
    "\n",
    "from sklearn.naive_bayes import MultinomialNB"
   ]
  },
  {
   "cell_type": "markdown",
   "id": "7087b605",
   "metadata": {},
   "source": [
    "> Reading in the 2 subreddits data."
   ]
  },
  {
   "cell_type": "code",
   "execution_count": 5,
   "id": "06e43703",
   "metadata": {},
   "outputs": [],
   "source": [
    "# cleaned data from r/keto\n",
    "keto = pd.read_csv('datasets/keto_cleaned.csv')\n",
    "\n",
    "# cleaned data from r/zerocarb\n",
    "zerocarb = pd.read_csv('datasets/zerocarb_cleaned.csv')"
   ]
  },
  {
   "cell_type": "markdown",
   "id": "e7907d62",
   "metadata": {},
   "source": [
    "# Stop Words Removal"
   ]
  },
  {
   "cell_type": "markdown",
   "id": "0cad52e0",
   "metadata": {},
   "source": [
    "The very first step that we will take will be to remove stop words. These are words that will cause bias in our model, and we want to get rid of those words within reason. In addition to using the stop words in the CountVectorizer library and the TFID library, we will also add in those words that will indicate the subreddit the text is from strongly, e.g. 'Keto', 'Zero', 'Carb', etc.\n",
    "\n",
    "We will take a look at some of the most common words that occur within our 2 dataframes, and use those to compile a list of stop words. This will be an iterative process. We will use count vectorizer to help with this."
   ]
  },
  {
   "cell_type": "code",
   "execution_count": 542,
   "id": "794e0374",
   "metadata": {},
   "outputs": [],
   "source": [
    "custom_stop_words = list(CountVectorizer(stop_words='english').get_stop_words())"
   ]
  },
  {
   "cell_type": "code",
   "execution_count": 543,
   "id": "716add2a",
   "metadata": {},
   "outputs": [],
   "source": [
    "def get_top_words(data, col, \n",
    "                  num_of_words=30, \n",
    "                  stop_words=[], \n",
    "                  n_gram=()):\n",
    "    \n",
    "    \"\"\"Accepts input of DataFrame, string column name, \n",
    "    number of words, existing stop words list, n_gram.\"\"\"\n",
    "    \n",
    "    # defining variable\n",
    "    stop_words = stop_words\n",
    "    \n",
    "    # check variable length and define vectorizer \n",
    "    # based on if statements\n",
    "    if len(stop_words) and len(n_gram):\n",
    "        cvec = CountVectorizer(stop_words=stop_words,\n",
    "                              ngram_range=(n_gram))\n",
    "    elif len(stop_words):\n",
    "        cvec = CountVectorizer(stop_words=stop_words)\n",
    "    elif len(n_gram):\n",
    "        cvec = CountVectorizer(ngram_range=(n_gram))\n",
    "    else:\n",
    "        cvec = CountVectorizer()\n",
    "        \n",
    "    # Vectorize our column        \n",
    "    X = data[col]\n",
    "    X_cvec = cvec.fit_transform(X)\n",
    "\n",
    "    # temp DataFrame for sake of creating top words\n",
    "    df = pd.DataFrame(X_cvec.todense(),\n",
    "                       columns=cvec.get_feature_names_out())\n",
    "    \n",
    "    # return the top n words\n",
    "    return df.sum().sort_values(ascending=False).head(num_of_words)\n",
    "    "
   ]
  },
  {
   "cell_type": "markdown",
   "id": "3d677d94",
   "metadata": {},
   "source": [
    "#### Run 1"
   ]
  },
  {
   "cell_type": "code",
   "execution_count": 544,
   "id": "a12f91a9",
   "metadata": {},
   "outputs": [
    {
     "data": {
      "text/plain": [
       "Index(['keto', 'just', 'weight', 'im', 'like', 'carbs', 'day', 'diet', 'eat',\n",
       "       'time', 'eating', 've', 'fat', 'know', 'feel', 'really', 'started',\n",
       "       'doing', 'ive', 'week', 'days', 'lost', 'want', 'carb', 'good',\n",
       "       'protein', 'food', 'months', 'calories', 'weeks'],\n",
       "      dtype='object')"
      ]
     },
     "execution_count": 544,
     "metadata": {},
     "output_type": "execute_result"
    }
   ],
   "source": [
    "get_top_words(keto, 'c_text', 30, custom_stop_words).index"
   ]
  },
  {
   "cell_type": "code",
   "execution_count": 545,
   "id": "623c8a38",
   "metadata": {},
   "outputs": [
    {
     "data": {
      "text/plain": [
       "Index(['just', 'meat', 'diet', 'like', 'eat', 'eating', 'fat', 'beef', 've',\n",
       "       'day', 'carnivore', 'zc', 'feel', 'carb', 'know', 'time', 'im',\n",
       "       'really', 'days', 'zero', 'good', 'don', 'people', 'weight', 'food',\n",
       "       'keto', 'way', 'think', 'want', 'week'],\n",
       "      dtype='object')"
      ]
     },
     "execution_count": 545,
     "metadata": {},
     "output_type": "execute_result"
    }
   ],
   "source": [
    "get_top_words(zerocarb, 'c_text', 30, custom_stop_words).index"
   ]
  },
  {
   "cell_type": "code",
   "execution_count": 546,
   "id": "4656618f",
   "metadata": {},
   "outputs": [
    {
     "data": {
      "text/plain": [
       "Index(['keto diet', 'weight loss', 'doing keto', 'started keto', 'low carb',\n",
       "       'net carbs', 'feel like', 'lose weight', 'losing weight', 'blood sugar',\n",
       "       'years ago', 'carbs day', 'keto months', 'weeks ago',\n",
       "       'intermittent fasting', 'water weight', 'goal weight', 'calories day',\n",
       "       'keto flu', 'keto weeks', 'keto friendly', 'don want', 'start keto',\n",
       "       'don know', 'keto years', 'starting keto', 'blood pressure', 've keto',\n",
       "       'did keto', 'dont know'],\n",
       "      dtype='object')"
      ]
     },
     "execution_count": 546,
     "metadata": {},
     "output_type": "execute_result"
    }
   ],
   "source": [
    "get_top_words(keto, 'c_text', 30, custom_stop_words, (2,2)).index"
   ]
  },
  {
   "cell_type": "code",
   "execution_count": 547,
   "id": "2edff782",
   "metadata": {},
   "outputs": [
    {
     "data": {
      "text/plain": [
       "Index(['zero carb', 'ground beef', 'carnivore diet', 'feel like',\n",
       "       'weight loss', 'grass fed', 'low carb', 'don know', 'eating meat',\n",
       "       'red meat', 'way eating', 'eat meat', 'bone broth', 'carb diet',\n",
       "       'lose weight', 'don want', 'years ago', 'long time', '30 days',\n",
       "       'body fat', 'beef liver', 'just wondering', 'days ago', 'just eat',\n",
       "       'feel better', 'gt gt', 'hey guys', 've eating', 've tried',\n",
       "       've doing'],\n",
       "      dtype='object')"
      ]
     },
     "execution_count": 547,
     "metadata": {},
     "output_type": "execute_result"
    }
   ],
   "source": [
    "get_top_words(zerocarb, 'c_text', 30, custom_stop_words, (2,2)).index"
   ]
  },
  {
   "cell_type": "markdown",
   "id": "a9d748ba",
   "metadata": {},
   "source": [
    "Looking at the list above, we will add the following words to our custom stop word list:\n",
    "> 'keto', 'meat', 'carnivore', 'zero', 'carb', 'carbs', 'zerocarb'\n",
    "\n",
    "After error analysis of our model, we also added in the following: 'ketosis'"
   ]
  },
  {
   "cell_type": "code",
   "execution_count": 548,
   "id": "22ff7363",
   "metadata": {},
   "outputs": [],
   "source": [
    "custom_stop_words += ['keto', 'meat', 'carnivore', 'zero', 'carb', 'carbs', 'zerocarb', 'ketosis']"
   ]
  },
  {
   "cell_type": "markdown",
   "id": "3896b8c2",
   "metadata": {},
   "source": [
    "#### Run 2"
   ]
  },
  {
   "cell_type": "code",
   "execution_count": 549,
   "id": "aebc250e",
   "metadata": {},
   "outputs": [
    {
     "data": {
      "text/plain": [
       "Index(['just', 'weight', 'im', 'like', 'day', 'diet', 'eat', 'time', 'eating',\n",
       "       've', 'fat', 'know', 'feel', 'really', 'started', 'doing', 'ive',\n",
       "       'week', 'days', 'lost', 'want', 'good', 'protein', 'food', 'months',\n",
       "       'calories', 'weeks', 'sugar', 'going', 'don'],\n",
       "      dtype='object')"
      ]
     },
     "execution_count": 549,
     "metadata": {},
     "output_type": "execute_result"
    }
   ],
   "source": [
    "get_top_words(keto, 'c_text', 30, custom_stop_words).index"
   ]
  },
  {
   "cell_type": "code",
   "execution_count": 550,
   "id": "13e7e278",
   "metadata": {},
   "outputs": [
    {
     "data": {
      "text/plain": [
       "Index(['just', 'diet', 'like', 'eat', 'eating', 'fat', 'beef', 've', 'day',\n",
       "       'zc', 'feel', 'know', 'time', 'im', 'really', 'days', 'good', 'don',\n",
       "       'people', 'weight', 'food', 'way', 'think', 'want', 'week', 'going',\n",
       "       'eggs', 'water', 'started', 'lot'],\n",
       "      dtype='object')"
      ]
     },
     "execution_count": 550,
     "metadata": {},
     "output_type": "execute_result"
    }
   ],
   "source": [
    "get_top_words(zerocarb, 'c_text', 30, custom_stop_words).index"
   ]
  },
  {
   "cell_type": "markdown",
   "id": "3a739e13",
   "metadata": {},
   "source": [
    "Looking at the list above, we will add the following words to our custom stop word list:\n",
    "> 'zc', 'beef', 'eggs', 'sugar'"
   ]
  },
  {
   "cell_type": "code",
   "execution_count": 551,
   "id": "a306feee",
   "metadata": {},
   "outputs": [],
   "source": [
    "custom_stop_words += ['zc', 'beef', 'eggs', 'sugar']"
   ]
  },
  {
   "cell_type": "markdown",
   "id": "c15dd46c",
   "metadata": {},
   "source": [
    "Now we will do one last check on bigrams to see if we can get any further insight into words we should remove from our model."
   ]
  },
  {
   "cell_type": "code",
   "execution_count": 552,
   "id": "223257d9",
   "metadata": {},
   "outputs": [
    {
     "data": {
      "text/plain": [
       "Index(['weight loss', 'feel like', 'lose weight', 'losing weight', 'years ago',\n",
       "       'weeks ago', 'intermittent fasting', 'water weight', 'goal weight',\n",
       "       'calories day', 'don want', 'don know', 'blood pressure', 'dont know',\n",
       "       'make sure', 'thanks advance', 'days week', 'lost weight', 'body fat',\n",
       "       'im just', 've doing', 'ive lost', 'feel better', 'just wanted',\n",
       "       'dont want', 'long term', 'ice cream', 'days ago', 've lost',\n",
       "       'months ago'],\n",
       "      dtype='object')"
      ]
     },
     "execution_count": 552,
     "metadata": {},
     "output_type": "execute_result"
    }
   ],
   "source": [
    "get_top_words(keto, 'c_text', 30, custom_stop_words, (2,2)).index"
   ]
  },
  {
   "cell_type": "code",
   "execution_count": 553,
   "id": "e75dd60a",
   "metadata": {},
   "outputs": [
    {
     "data": {
      "text/plain": [
       "Index(['feel like', 'weight loss', 'grass fed', 'don know', 'way eating',\n",
       "       'bone broth', 'lose weight', 'don want', 'years ago', 'long time',\n",
       "       '30 days', 'body fat', 'just wondering', 'days ago', 'gt gt',\n",
       "       'just eat', 'feel better', 'hey guys', 've eating', 've tried',\n",
       "       've doing', 'salt water', 'little bit', 'high fat', 'organ meats',\n",
       "       'thanks advance', 'felt like', 'heavy cream', 'months ago',\n",
       "       'feel great'],\n",
       "      dtype='object')"
      ]
     },
     "execution_count": 553,
     "metadata": {},
     "output_type": "execute_result"
    }
   ],
   "source": [
    "get_top_words(zerocarb, 'c_text', 30, custom_stop_words, (2,2)).index"
   ]
  },
  {
   "cell_type": "markdown",
   "id": "10471c76",
   "metadata": {},
   "source": [
    "From the above, we can see that there are quite a few words more that we should add into our `custom_stop_words` list. Let's do that now.\n",
    "> 'intermittent', 'fasting', 'blood', 'pressure', 'ice', 'cream', 'bone', 'broth', 'organ', 'meats', 'heavy', 'cream', 'gt'"
   ]
  },
  {
   "cell_type": "code",
   "execution_count": 554,
   "id": "876b748c",
   "metadata": {},
   "outputs": [],
   "source": [
    "custom_stop_words += ['intermittent', 'fasting', 'blood', 'pressure', \n",
    "                      'ice', 'cream', 'bone', 'broth', 'organ', 'meats', \n",
    "                      'heavy', 'cream', 'gt']"
   ]
  },
  {
   "cell_type": "markdown",
   "id": "3580bef0",
   "metadata": {},
   "source": [
    "#### Run 3"
   ]
  },
  {
   "cell_type": "code",
   "execution_count": 555,
   "id": "aa9eabe1",
   "metadata": {},
   "outputs": [
    {
     "data": {
      "text/plain": [
       "Index(['weight loss', 'feel like', 'lose weight', 'losing weight', 'years ago',\n",
       "       'weeks ago', 'water weight', 'goal weight', 'calories day', 'don want',\n",
       "       'don know', 'dont know', 'make sure', 'thanks advance', 'days week',\n",
       "       'lost weight', 'body fat', 'im just', 've doing', 'ive lost',\n",
       "       'feel better', 'just wanted', 'dont want', 'long term', 'days ago',\n",
       "       've lost', 'months ago', 'long time', 'just want', 'im doing'],\n",
       "      dtype='object')"
      ]
     },
     "execution_count": 555,
     "metadata": {},
     "output_type": "execute_result"
    }
   ],
   "source": [
    "get_top_words(keto, 'c_text', 30, custom_stop_words, (2,2)).index"
   ]
  },
  {
   "cell_type": "code",
   "execution_count": 556,
   "id": "c0e6b944",
   "metadata": {},
   "outputs": [
    {
     "data": {
      "text/plain": [
       "Index(['feel like', 'weight loss', 'grass fed', 'don know', 'way eating',\n",
       "       'lose weight', 'don want', 'years ago', 'long time', '30 days',\n",
       "       'body fat', 'just wondering', 'days ago', 'just eat', 'feel better',\n",
       "       'hey guys', 've eating', 've tried', 've doing', 'salt water',\n",
       "       'little bit', 'high fat', 'thanks advance', 'felt like', 'months ago',\n",
       "       'feel great', 'long term', 'brain fog', 'weeks ago', 'just curious'],\n",
       "      dtype='object')"
      ]
     },
     "execution_count": 556,
     "metadata": {},
     "output_type": "execute_result"
    }
   ],
   "source": [
    "get_top_words(zerocarb, 'c_text', 30, custom_stop_words, (2,2)).index"
   ]
  },
  {
   "cell_type": "code",
   "execution_count": 557,
   "id": "f8c048c1",
   "metadata": {},
   "outputs": [],
   "source": [
    "custom_stop_words = pd.DataFrame(custom_stop_words, columns=['words'])\n",
    "custom_stop_words.to_csv('datasets/custom_stop_words.csv', index=False)"
   ]
  },
  {
   "cell_type": "markdown",
   "id": "2edd31dd",
   "metadata": {},
   "source": [
    "Now we have our stop words list and we are ready to use it in our modeling."
   ]
  },
  {
   "cell_type": "markdown",
   "id": "0326e9d9",
   "metadata": {},
   "source": [
    "---"
   ]
  },
  {
   "cell_type": "markdown",
   "id": "3ea075c5",
   "metadata": {},
   "source": [
    "# Getting our data ready for modeling"
   ]
  },
  {
   "cell_type": "markdown",
   "id": "18e4bfd2",
   "metadata": {},
   "source": [
    "In order to start modeling on our dataset, we will need to merge our two different dataframes into 1 dataframe to feed into our model."
   ]
  },
  {
   "cell_type": "code",
   "execution_count": 559,
   "id": "e84170d2",
   "metadata": {},
   "outputs": [],
   "source": [
    "# concat our 2 datasets\n",
    "df = pd.concat([keto, zerocarb], ignore_index=True)"
   ]
  },
  {
   "cell_type": "markdown",
   "id": "e75d8f3e",
   "metadata": {},
   "source": [
    "After merging the two dataframes, we should be left with a new dataframe with 14 columns. Let's check this now."
   ]
  },
  {
   "cell_type": "code",
   "execution_count": 23,
   "id": "db92c027",
   "metadata": {},
   "outputs": [
    {
     "data": {
      "text/plain": [
       "(19669, 14)"
      ]
     },
     "execution_count": 23,
     "metadata": {},
     "output_type": "execute_result"
    }
   ],
   "source": [
    "df.shape"
   ]
  },
  {
   "cell_type": "markdown",
   "id": "bbe39736",
   "metadata": {},
   "source": [
    "Next we will adjust the values in the `subreddit` column to take 1s and 0s. <br>\n",
    "1 will denote `r/keto`, and 0 will denote `r/zerocarb`."
   ]
  },
  {
   "cell_type": "code",
   "execution_count": 24,
   "id": "3cbd3d68",
   "metadata": {},
   "outputs": [
    {
     "data": {
      "text/plain": [
       "keto        0.5015\n",
       "zerocarb    0.4985\n",
       "Name: subreddit, dtype: float64"
      ]
     },
     "execution_count": 24,
     "metadata": {},
     "output_type": "execute_result"
    }
   ],
   "source": [
    "# check ratio of 'r/keot' vs 'r/zerocarb' before mapping\n",
    "df['subreddit'].value_counts(normalize=True)"
   ]
  },
  {
   "cell_type": "code",
   "execution_count": 25,
   "id": "427887e7",
   "metadata": {},
   "outputs": [],
   "source": [
    "# map 1 if keto and 0 if not keto (i.e. 0 if zerocarb)\n",
    "df['subreddit'] = df['subreddit'].map(\n",
    "                                    lambda x: 1 if x == 'zerocarb'\n",
    "                                    else 0)"
   ]
  },
  {
   "cell_type": "code",
   "execution_count": 26,
   "id": "5a9fafa5",
   "metadata": {},
   "outputs": [
    {
     "data": {
      "text/plain": [
       "0    0.5015\n",
       "1    0.4985\n",
       "Name: subreddit, dtype: float64"
      ]
     },
     "execution_count": 26,
     "metadata": {},
     "output_type": "execute_result"
    }
   ],
   "source": [
    "# sanity check to ensure mapping is done correctly\n",
    "df['subreddit'].value_counts(normalize=True)"
   ]
  },
  {
   "cell_type": "code",
   "execution_count": 28,
   "id": "d7b03648",
   "metadata": {},
   "outputs": [],
   "source": [
    "# rename 'subreddit' column to make model evaluation later easier\n",
    "df.rename(columns={'subreddit': 'is_zerocarb'}, inplace=True)"
   ]
  },
  {
   "cell_type": "code",
   "execution_count": 30,
   "id": "56c0c0b7",
   "metadata": {},
   "outputs": [],
   "source": [
    "# dropping unecessary columns to make our merged DataFrame lighter\n",
    "df.drop(columns=['num_comments', 'score', 'upvote_ratio',\n",
    "                 'subreddit_subscribers', 'subreddit_type', \n",
    "                 'total_awards_received', 'whitelist_status',\n",
    "                 'month_year'], inplace=True)"
   ]
  },
  {
   "cell_type": "code",
   "execution_count": 32,
   "id": "055c1df3",
   "metadata": {},
   "outputs": [],
   "source": [
    "df.to_csv('datasets/merged_for_modeling.csv', index=False)"
   ]
  },
  {
   "cell_type": "markdown",
   "id": "bebc3fb3",
   "metadata": {},
   "source": [
    "With a custom list of stop words, and our merged dataset, we are now ready to begin modeling. In terms of re-running models when we come back to this notebook in the future, we would be able to skip all the above steps, and just read in the merged DataFrame and simply begin modeling from there."
   ]
  },
  {
   "cell_type": "markdown",
   "id": "0dcab119",
   "metadata": {},
   "source": [
    "# Benchmark Model Score"
   ]
  },
  {
   "cell_type": "markdown",
   "id": "cc693209",
   "metadata": {},
   "source": [
    "We will build a simple Multinomial Naive Bayes model, with the CountVectorizer, with removal of our `custom_stop_words` list to get our baseline score that we will measure our other models against."
   ]
  },
  {
   "cell_type": "code",
   "execution_count": 351,
   "id": "0a7a94ec",
   "metadata": {},
   "outputs": [],
   "source": [
    "# re-read in our merged DataFrame and custom_stop_words\n",
    "df = pd.read_csv('datasets/merged_for_modeling.csv')\n",
    "\n",
    "custom_stop_words = pd.read_csv('datasets/custom_stop_words.csv')\n",
    "custom_stop_words = custom_stop_words['words'].tolist()"
   ]
  },
  {
   "cell_type": "code",
   "execution_count": 55,
   "id": "4d008a4e",
   "metadata": {},
   "outputs": [],
   "source": [
    "# getting train_test_split for our baseline model\n",
    "# this train_test_split will be used for ALL our models\n",
    "X = df['c_text']\n",
    "y = df['is_zerocarb']\n",
    "X_train, X_test, y_train, y_test = train_test_split(X,\n",
    "                                                    y,\n",
    "                                                    test_size=0.2,\n",
    "                                                    stratify=y,\n",
    "                                                    random_state=42)"
   ]
  },
  {
   "cell_type": "code",
   "execution_count": 81,
   "id": "4cc8c2f9",
   "metadata": {},
   "outputs": [],
   "source": [
    "# creating pipeline for baseline model\n",
    "pipe_baseline = Pipeline([\n",
    "    ('tvec', TfidfVectorizer(stop_words=custom_stop_words)),\n",
    "    ('nb', MultinomialNB())]\n",
    ")"
   ]
  },
  {
   "cell_type": "code",
   "execution_count": 86,
   "id": "4d4219ae",
   "metadata": {},
   "outputs": [
    {
     "data": {
      "text/plain": [
       "Pipeline(steps=[('tvec',\n",
       "                 TfidfVectorizer(stop_words=['amoungst', 'rather', 'everyone',\n",
       "                                             'either', 'upon', 'which',\n",
       "                                             'amount', 'when', 'least', 'from',\n",
       "                                             'mostly', 'thereby', 'nobody',\n",
       "                                             'inc', 'still', 'has', 'twelve',\n",
       "                                             'were', 'about', 'between',\n",
       "                                             'formerly', 'through', 'put',\n",
       "                                             'with', 'ours', 'take', 'himself',\n",
       "                                             'often', 'thereafter', 'can', ...])),\n",
       "                ('nb', MultinomialNB())])"
      ]
     },
     "execution_count": 86,
     "metadata": {},
     "output_type": "execute_result"
    }
   ],
   "source": [
    "# fitting our model\n",
    "pipe_baseline.fit(X_train, y_train)"
   ]
  },
  {
   "cell_type": "code",
   "execution_count": 88,
   "id": "dbbddc82",
   "metadata": {},
   "outputs": [
    {
     "data": {
      "text/plain": [
       "0.8856053384175405"
      ]
     },
     "execution_count": 88,
     "metadata": {},
     "output_type": "execute_result"
    }
   ],
   "source": [
    "# training score\n",
    "pipe_baseline.score(X_train, y_train)"
   ]
  },
  {
   "cell_type": "code",
   "execution_count": 87,
   "id": "043b277a",
   "metadata": {},
   "outputs": [
    {
     "data": {
      "text/plain": [
       "0.8274021352313167"
      ]
     },
     "execution_count": 87,
     "metadata": {},
     "output_type": "execute_result"
    }
   ],
   "source": [
    "# testing score\n",
    "pipe_baseline.score(X_test, y_test)"
   ]
  },
  {
   "cell_type": "code",
   "execution_count": 85,
   "id": "bfd5f447",
   "metadata": {},
   "outputs": [
    {
     "name": "stdout",
     "output_type": "stream",
     "text": [
      "True Negatives: 1756\n",
      "False Positives: 217\n",
      "False Negatives: 462\n",
      "True Positives: 1499\n"
     ]
    }
   ],
   "source": [
    "# baseline predictions to create confusion matrix\n",
    "bm_predictions = pipe_baseline.predict(X_test)\n",
    "\n",
    "tn, fp, fn, tp = confusion_matrix(y_test, bm_predictions).ravel()\n",
    "\n",
    "print(f'True Negatives: {tn}')\n",
    "print(f'False Positives: {fp}')\n",
    "print(f'False Negatives: {fn}')\n",
    "print(f'True Positives: {tp}')"
   ]
  },
  {
   "cell_type": "markdown",
   "id": "4cc62db3",
   "metadata": {},
   "source": [
    "We now have a baseline score of **82.7%** which we will measure our other models against, and attempt to create the best model via fine tuning our hyper parameters and other adjustments to the model.\n",
    "\n",
    "As a side note, we can see that our baseline model is definitely overfit as the score on our training data is **89%**, however the score on our test data is **83%**. We will attempt to address this as we select the best models and we tune our models."
   ]
  },
  {
   "cell_type": "markdown",
   "id": "a9cca6be",
   "metadata": {},
   "source": [
    "# Model Testing"
   ]
  },
  {
   "cell_type": "markdown",
   "id": "ce53d52b",
   "metadata": {},
   "source": [
    "For this section of the notebook, we will be mainly focusing on three model types:<br>\n",
    "*each model will use random_state 42(where possible), so that we can repeat the model performance which makes for easier comparison*\n",
    "\n",
    "[1. Logistic Regression](#Logistic-Regression)<br>\n",
    "[2. Multinomial Naive Bayes](#Naive-Bayes)<br>\n",
    "[3. Random Forest Trees](#Random_Forest_Trees)<br>\n",
    "\n",
    "For each of them, we will attempt to get the best possible model performance by tuning the model, and at the end will will compare the best model from each type. Following which we will attempt further tuning if possible."
   ]
  },
  {
   "cell_type": "markdown",
   "id": "b0ecf2f6",
   "metadata": {},
   "source": [
    "For this section, we opted to creat a custom function that will fit our model, and add the results to a list, which we can view and compare across different models. For this function, we will instatiate all our vectorizers, models, and parameters which can be tuned."
   ]
  },
  {
   "cell_type": "code",
   "execution_count": 414,
   "id": "49d59728",
   "metadata": {},
   "outputs": [],
   "source": [
    "# Instantiate vectorizers\n",
    "vectorizers = {'cvec': CountVectorizer(stop_words=custom_stop_words),\n",
    "               'tvec': TfidfVectorizer(stop_words=custom_stop_words)}"
   ]
  },
  {
   "cell_type": "code",
   "execution_count": 415,
   "id": "a0374ae1",
   "metadata": {},
   "outputs": [],
   "source": [
    "# Instantiate models\n",
    "models = {'lr': LogisticRegression(max_iter=1_000, random_state=42),\n",
    "          'nb': MultinomialNB(),\n",
    "          'rf': RandomForestClassifier(random_state=42),\n",
    "}"
   ]
  },
  {
   "cell_type": "code",
   "execution_count": 353,
   "id": "508e1800",
   "metadata": {},
   "outputs": [],
   "source": [
    "lr_params = {\n",
    "    # Trying different types of regularization\n",
    "    'lr__penalty':['l2','l1'],\n",
    "\n",
    "     # Trying different C of: 10, 1, 0.1 (C = 1/alpha)\n",
    "    'lr__C':[0.1, 1, 10, 11]\n",
    "}\n",
    "\n",
    "nb_params = { \n",
    "    # Trying different fit priors\n",
    "    'nb__fit_prior': [True, False],\n",
    "    \n",
    "    # Trying different types of alpha\n",
    "    'nb__alpha': [0, 0.4, 0.8]\n",
    "}\n",
    "\n",
    "rf_params = {\n",
    "    'rf__n_estimators': [100, 200, 300],\n",
    "    'rf__max_depth': [None, 1, 2, 3, 4, 5],\n",
    "    'rf__max_features': ['sqrt', 'log2', 0.5]\n",
    "}"
   ]
  },
  {
   "cell_type": "code",
   "execution_count": 354,
   "id": "7aeb0a8c",
   "metadata": {},
   "outputs": [],
   "source": [
    "cvec_params = {\n",
    "    # Setting a limit of n-number of features included\n",
    "    'cvec__max_features': [None, 10_000],\n",
    "\n",
    "    # Setting a minimum number of times the \n",
    "    # word/token has to appear in n-documents\n",
    "    'cvec__min_df':[2, 3, 4],\n",
    "    \n",
    "    # Setting an upper threshold/max percentage \n",
    "    # of n% of documents from corpus \n",
    "    'cvec__max_df': [0.4, 0.5, 0.8],\n",
    "    \n",
    "    # Testing with ngrams\n",
    "    'cvec__ngram_range':[(1,1), (1,2)]\n",
    "}\n",
    "\n",
    "tvec_params = {\n",
    "    # Setting a limit of n-number of features included\n",
    "    'tvec__max_features': [None, 10_000],\n",
    "    \n",
    "    # Setting a minimum number of times the \n",
    "    # word/token has to appear in n-documents\n",
    "    'tvec__min_df':[2, 3, 4],\n",
    "    \n",
    "    # Setting an upper threshold/max percentage \n",
    "    # of n% of documents from corpus\n",
    "    'tvec__max_df': [0.4, 0.5, 0.8],\n",
    "    \n",
    "    # Testing with ngrams\n",
    "    'tvec__ngram_range':[(1,1), (1,2)]\n",
    "}"
   ]
  },
  {
   "cell_type": "code",
   "execution_count": 561,
   "id": "ea37618c",
   "metadata": {},
   "outputs": [],
   "source": [
    "# Function to run model -- input vectorizer and model\n",
    "def get_model_scores(model_name, \n",
    "                     vec, \n",
    "                     mod, \n",
    "                     vec_params={}, \n",
    "                     mod_params={}, \n",
    "                     grid_search=False):\n",
    "    \n",
    "    \"\"\"Function accepts following inputs:\n",
    "    Name of model (str), vectorizer to be used (str), \n",
    "    model to be used (str), vectorizer params(dict, optional), \n",
    "    model params(dict, optional), grid_seach(boolean, optional)\n",
    "    If grid_search is True, then please also input the relevant \n",
    "    params for GridSearching\n",
    "    \"\"\"\n",
    "    \n",
    "    # empty dict for appending results\n",
    "    results = {}\n",
    "    \n",
    "    # instantiate pipe\n",
    "    pipe = Pipeline([\n",
    "            (vec, vectorizers[vec]),\n",
    "            (mod, models[mod])\n",
    "            ])\n",
    "    \n",
    "    # check if GridSearch true or false\n",
    "    if grid_search:\n",
    "        \n",
    "        # combine vectorizer and mod params together\n",
    "        gs_params = {}\n",
    "        gs_params.update(vec_params)\n",
    "        gs_params.update(mod_params)\n",
    "        \n",
    "        # instantiate GridSearchCV\n",
    "        gs = GridSearchCV(pipe, \n",
    "                          param_grid=gs_params,\n",
    "                          cv=5, \n",
    "                          verbose=2, \n",
    "                          n_jobs=-2)\n",
    "        \n",
    "        # fit model\n",
    "        gs.fit(X_train, y_train)\n",
    "        pipe = gs\n",
    "        \n",
    "    else:\n",
    "        # else fit model\n",
    "        pipe.fit(X_train, y_train)\n",
    "    \n",
    "    # create predictions and confusion matrix\n",
    "    predictions = pipe.predict(X_test)\n",
    "    tn, fp, fn, tp = confusion_matrix(y_test, \n",
    "                                      predictions).ravel()\n",
    "    \n",
    "    # Retrieve metrics and add to results\n",
    "    results['model_name'] = model_name\n",
    "    results['model'] = mod\n",
    "    results['vectorizer'] = vec\n",
    "    results['train_score'] = pipe.score(X_train, y_train)\n",
    "    results['test_score'] = pipe.score(X_test, y_test)\n",
    "    \n",
    "    results['recall'] = recall_score(y_test, \n",
    "                                     predictions)\n",
    "    \n",
    "    results['true_neg_rate'] = tn/(tn+fp)\n",
    "    \n",
    "    results['precision'] = precision_score(y_test, \n",
    "                                           predictions)\n",
    "    results['is_tuned'] = grid_search\n",
    "    \n",
    "    if grid_search:\n",
    "        print('BEST PARAMS-->')\n",
    "        display(pipe.best_params_)\n",
    "    \n",
    "    # add results to list for model evaluation later\n",
    "    model_eval.append(results)\n",
    "    \n",
    "    print('METRICS-->')\n",
    "    display(results)\n",
    "    \n",
    "    tn, fp, fn, tp = confusion_matrix(y_test, \n",
    "                                      predictions).ravel()\n",
    "    \n",
    "    print(f\"True Negatives: {tn}\")\n",
    "    print(f\"False Positives: {fp}\")\n",
    "    print(f\"False Negatives: {fn}\")\n",
    "    print(f\"True Positives: {tp}\")\n",
    "    \n",
    "    return pipe"
   ]
  },
  {
   "cell_type": "code",
   "execution_count": 75,
   "id": "0bd71491",
   "metadata": {},
   "outputs": [],
   "source": [
    "# creating list to store the model scores.\n",
    "model_eval = []"
   ]
  },
  {
   "cell_type": "markdown",
   "id": "6e44d13d",
   "metadata": {},
   "source": [
    "## Logistic Regression"
   ]
  },
  {
   "cell_type": "markdown",
   "id": "6570071a",
   "metadata": {},
   "source": [
    "We will be testing both CountVectorizer and TfidfVectorizer for each model, without any tuning of hyper parameters."
   ]
  },
  {
   "cell_type": "code",
   "execution_count": 76,
   "id": "36112fe8",
   "metadata": {},
   "outputs": [
    {
     "name": "stdout",
     "output_type": "stream",
     "text": [
      "METRICS-->\n"
     ]
    },
    {
     "data": {
      "text/plain": [
       "{'model_name': 'cvec_lr',\n",
       " 'model': 'lr',\n",
       " 'vectorizer': 'cvec',\n",
       " 'train_score': 0.9883063234826819,\n",
       " 'test_score': 0.8362989323843416,\n",
       " 'recall': 0.8449770525242223,\n",
       " 'true_neg_rate': 0.8276735935124176,\n",
       " 'precision': 0.829744616925388,\n",
       " 'is_tuned': False}"
      ]
     },
     "metadata": {},
     "output_type": "display_data"
    },
    {
     "name": "stdout",
     "output_type": "stream",
     "text": [
      "True Negatives: 1633\n",
      "False Positives: 340\n",
      "False Negatives: 304\n",
      "True Positives: 1657\n"
     ]
    }
   ],
   "source": [
    "cvec_lr = get_model_scores('cvec_lr', \n",
    "                           'cvec', \n",
    "                           'lr')"
   ]
  },
  {
   "cell_type": "code",
   "execution_count": 77,
   "id": "5c131cc0",
   "metadata": {},
   "outputs": [
    {
     "name": "stdout",
     "output_type": "stream",
     "text": [
      "METRICS-->\n"
     ]
    },
    {
     "data": {
      "text/plain": [
       "{'model_name': 'tvec_lr',\n",
       " 'model': 'lr',\n",
       " 'vectorizer': 'tvec',\n",
       " 'train_score': 0.9103908484270734,\n",
       " 'test_score': 0.8474834773767158,\n",
       " 'recall': 0.8342682304946456,\n",
       " 'true_neg_rate': 0.8606183476938672,\n",
       " 'precision': 0.8560962846677133,\n",
       " 'is_tuned': False}"
      ]
     },
     "metadata": {},
     "output_type": "display_data"
    },
    {
     "name": "stdout",
     "output_type": "stream",
     "text": [
      "True Negatives: 1698\n",
      "False Positives: 275\n",
      "False Negatives: 325\n",
      "True Positives: 1636\n"
     ]
    }
   ],
   "source": [
    "tvec_lr = get_model_scores('tvec_lr',\n",
    "                           'tvec', \n",
    "                           'lr')"
   ]
  },
  {
   "cell_type": "markdown",
   "id": "96fdb2a4",
   "metadata": {},
   "source": [
    "Without any sort of tuning, we can see that the `TfidfVectorizer` has improved our score from the baseline score of **83.6%**, to now **84.7%**. Let's now take a look at Naive Bayes."
   ]
  },
  {
   "cell_type": "markdown",
   "id": "685f1114",
   "metadata": {},
   "source": [
    "## Naive Bayes"
   ]
  },
  {
   "cell_type": "code",
   "execution_count": 78,
   "id": "ad491543",
   "metadata": {},
   "outputs": [
    {
     "name": "stdout",
     "output_type": "stream",
     "text": [
      "METRICS-->\n"
     ]
    },
    {
     "data": {
      "text/plain": [
       "{'model_name': 'cvec_nb',\n",
       " 'model': 'nb',\n",
       " 'vectorizer': 'cvec',\n",
       " 'train_score': 0.8955830950111217,\n",
       " 'test_score': 0.8304524656837824,\n",
       " 'recall': 0.8077511473737888,\n",
       " 'true_neg_rate': 0.8530157121135327,\n",
       " 'precision': 0.8452508004268944,\n",
       " 'is_tuned': False}"
      ]
     },
     "metadata": {},
     "output_type": "display_data"
    },
    {
     "name": "stdout",
     "output_type": "stream",
     "text": [
      "True Negatives: 1683\n",
      "False Positives: 290\n",
      "False Negatives: 377\n",
      "True Positives: 1584\n"
     ]
    }
   ],
   "source": [
    "cvec_nb = get_model_scores('cvec_nb',\n",
    "                           'cvec', \n",
    "                           'nb')"
   ]
  },
  {
   "cell_type": "code",
   "execution_count": 211,
   "id": "fc172eb1",
   "metadata": {},
   "outputs": [
    {
     "name": "stdout",
     "output_type": "stream",
     "text": [
      "METRICS-->\n"
     ]
    },
    {
     "data": {
      "text/plain": [
       "{'model_name': 'tvec_nb',\n",
       " 'model': 'nb',\n",
       " 'vectorizer': 'tvec',\n",
       " 'train_score': 0.8856053384175405,\n",
       " 'test_score': 0.8274021352313167,\n",
       " 'recall': 0.7644059153493116,\n",
       " 'true_neg_rate': 0.8900152052711606,\n",
       " 'precision': 0.8735431235431236,\n",
       " 'is_tuned': False}"
      ]
     },
     "metadata": {},
     "output_type": "display_data"
    },
    {
     "name": "stdout",
     "output_type": "stream",
     "text": [
      "True Negatives: 1756\n",
      "False Positives: 217\n",
      "False Negatives: 462\n",
      "True Positives: 1499\n"
     ]
    }
   ],
   "source": [
    "tvec_nb = get_model_scores('tvec_nb', \n",
    "                           'tvec', \n",
    "                           'nb')"
   ]
  },
  {
   "cell_type": "markdown",
   "id": "19f0bd3c",
   "metadata": {},
   "source": [
    "In the case of Naive Bayes, it turns out that the `CountVectorizer` led to a better performance, however this performs below our base model."
   ]
  },
  {
   "cell_type": "markdown",
   "id": "4b78b16d",
   "metadata": {},
   "source": [
    "---"
   ]
  },
  {
   "cell_type": "markdown",
   "id": "8c05bcf4",
   "metadata": {},
   "source": [
    "## Random Forest"
   ]
  },
  {
   "cell_type": "code",
   "execution_count": 90,
   "id": "90d5d06a",
   "metadata": {},
   "outputs": [
    {
     "name": "stdout",
     "output_type": "stream",
     "text": [
      "METRICS-->\n"
     ]
    },
    {
     "data": {
      "text/plain": [
       "{'model_name': 'cvec_rf',\n",
       " 'model': 'rf',\n",
       " 'vectorizer': 'cvec',\n",
       " 'train_score': 1.0,\n",
       " 'test_score': 0.8256227758007118,\n",
       " 'recall': 0.815910249872514,\n",
       " 'true_neg_rate': 0.8352762290927521,\n",
       " 'precision': 0.8311688311688312,\n",
       " 'is_tuned': False}"
      ]
     },
     "metadata": {},
     "output_type": "display_data"
    },
    {
     "name": "stdout",
     "output_type": "stream",
     "text": [
      "True Negatives: 1648\n",
      "False Positives: 325\n",
      "False Negatives: 361\n",
      "True Positives: 1600\n"
     ]
    }
   ],
   "source": [
    "cvec_rf = get_model_scores('cvec_rf', \n",
    "                           'cvec', \n",
    "                           'rf')"
   ]
  },
  {
   "cell_type": "code",
   "execution_count": 91,
   "id": "8bc3f251",
   "metadata": {},
   "outputs": [
    {
     "name": "stdout",
     "output_type": "stream",
     "text": [
      "METRICS-->\n"
     ]
    },
    {
     "data": {
      "text/plain": [
       "{'model_name': 'tvec_rf',\n",
       " 'model': 'rf',\n",
       " 'vectorizer': 'tvec',\n",
       " 'train_score': 1.0,\n",
       " 'test_score': 0.8274021352313167,\n",
       " 'recall': 0.8052014278429372,\n",
       " 'true_neg_rate': 0.8494678155093766,\n",
       " 'precision': 0.841684434968017,\n",
       " 'is_tuned': False}"
      ]
     },
     "metadata": {},
     "output_type": "display_data"
    },
    {
     "name": "stdout",
     "output_type": "stream",
     "text": [
      "True Negatives: 1676\n",
      "False Positives: 297\n",
      "False Negatives: 382\n",
      "True Positives: 1579\n"
     ]
    }
   ],
   "source": [
    "tvec_rf = get_model_scores('tvec_rf', \n",
    "                           'tvec', \n",
    "                           'rf')"
   ]
  },
  {
   "cell_type": "markdown",
   "id": "3d4023b8",
   "metadata": {},
   "source": [
    "Now let's take a look at tuning our best performing models. Based on the above, we will tune `LogisticRegression` with `TfidfVectorizer`, as well as `NaiveBayes` with `CountVectorizer`, and `TfidfVectorizer`, and `RandomForest` with `TfidfVectorizer`. <br>\n",
    "This is based on the `accuracy` scores as well as the `precision` scores, of which `precision` is the most relevant to our problem statment."
   ]
  },
  {
   "cell_type": "markdown",
   "id": "4be00824",
   "metadata": {},
   "source": [
    "# Tuning Models"
   ]
  },
  {
   "cell_type": "markdown",
   "id": "9e7c4d6e",
   "metadata": {},
   "source": [
    "At a later part of the notebook, during error analysis, we realized that there was a critical stop word that had not been removed, so we removed that, and refit the base models, as well as did tuning to get our final model again, so please take these models here with a grain of salt."
   ]
  },
  {
   "cell_type": "code",
   "execution_count": 94,
   "id": "07e92d6b",
   "metadata": {},
   "outputs": [
    {
     "name": "stdout",
     "output_type": "stream",
     "text": [
      "Fitting 5 folds for each of 288 candidates, totalling 1440 fits\n"
     ]
    },
    {
     "name": "stderr",
     "output_type": "stream",
     "text": [
      "C:\\Users\\Jayy Jangam\\.conda\\envs\\dsi\\lib\\site-packages\\sklearn\\model_selection\\_validation.py:372: FitFailedWarning: \n",
      "720 fits failed out of a total of 1440.\n",
      "The score on these train-test partitions for these parameters will be set to nan.\n",
      "If these failures are not expected, you can try to debug them by setting error_score='raise'.\n",
      "\n",
      "Below are more details about the failures:\n",
      "--------------------------------------------------------------------------------\n",
      "720 fits failed with the following error:\n",
      "Traceback (most recent call last):\n",
      "  File \"C:\\Users\\Jayy Jangam\\.conda\\envs\\dsi\\lib\\site-packages\\sklearn\\model_selection\\_validation.py\", line 680, in _fit_and_score\n",
      "    estimator.fit(X_train, y_train, **fit_params)\n",
      "  File \"C:\\Users\\Jayy Jangam\\.conda\\envs\\dsi\\lib\\site-packages\\sklearn\\pipeline.py\", line 394, in fit\n",
      "    self._final_estimator.fit(Xt, y, **fit_params_last_step)\n",
      "  File \"C:\\Users\\Jayy Jangam\\.conda\\envs\\dsi\\lib\\site-packages\\sklearn\\linear_model\\_logistic.py\", line 1461, in fit\n",
      "    solver = _check_solver(self.solver, self.penalty, self.dual)\n",
      "  File \"C:\\Users\\Jayy Jangam\\.conda\\envs\\dsi\\lib\\site-packages\\sklearn\\linear_model\\_logistic.py\", line 447, in _check_solver\n",
      "    raise ValueError(\n",
      "ValueError: Solver lbfgs supports only 'l2' or 'none' penalties, got l1 penalty.\n",
      "\n",
      "  warnings.warn(some_fits_failed_message, FitFailedWarning)\n",
      "C:\\Users\\Jayy Jangam\\.conda\\envs\\dsi\\lib\\site-packages\\sklearn\\model_selection\\_search.py:969: UserWarning: One or more of the test scores are non-finite: [0.81804894 0.81544328 0.82059104 0.8171592  0.82071814 0.81912933\n",
      " 0.82014617 0.82109946 0.82065459 0.82116301 0.82020972 0.8209088\n",
      " 0.81804894 0.81544328 0.82059104 0.8171592  0.82071814 0.81912933\n",
      " 0.82014617 0.82109946 0.82065459 0.82116301 0.82020972 0.8209088\n",
      " 0.81804894 0.81544328 0.82059104 0.8171592  0.82071814 0.81912933\n",
      " 0.82014617 0.82109946 0.82065459 0.82116301 0.82020972 0.8209088\n",
      "        nan        nan        nan        nan        nan        nan\n",
      "        nan        nan        nan        nan        nan        nan\n",
      "        nan        nan        nan        nan        nan        nan\n",
      "        nan        nan        nan        nan        nan        nan\n",
      "        nan        nan        nan        nan        nan        nan\n",
      "        nan        nan        nan        nan        nan        nan\n",
      " 0.84721957 0.84747378 0.84760089 0.84931681 0.84696536 0.84861773\n",
      " 0.84715602 0.84791865 0.84677471 0.84836352 0.84696536 0.84823642\n",
      " 0.84721957 0.84747378 0.84760089 0.84931681 0.84696536 0.84861773\n",
      " 0.84715602 0.84791865 0.84677471 0.84836352 0.84696536 0.84823642\n",
      " 0.84721957 0.84747378 0.84760089 0.84931681 0.84696536 0.84861773\n",
      " 0.84715602 0.84791865 0.84677471 0.84836352 0.84696536 0.84823642\n",
      "        nan        nan        nan        nan        nan        nan\n",
      "        nan        nan        nan        nan        nan        nan\n",
      "        nan        nan        nan        nan        nan        nan\n",
      "        nan        nan        nan        nan        nan        nan\n",
      "        nan        nan        nan        nan        nan        nan\n",
      "        nan        nan        nan        nan        nan        nan\n",
      " 0.83952971 0.85109628 0.83819511 0.84772799 0.83876708 0.84632984\n",
      " 0.8379409  0.83781379 0.83813155 0.83775024 0.83844932 0.8379409\n",
      " 0.83952971 0.85109628 0.83819511 0.84772799 0.83876708 0.84632984\n",
      " 0.8379409  0.83781379 0.83813155 0.83775024 0.83844932 0.8379409\n",
      " 0.83952971 0.85109628 0.83819511 0.84772799 0.83876708 0.84632984\n",
      " 0.8379409  0.83781379 0.83813155 0.83775024 0.83844932 0.8379409\n",
      "        nan        nan        nan        nan        nan        nan\n",
      "        nan        nan        nan        nan        nan        nan\n",
      "        nan        nan        nan        nan        nan        nan\n",
      "        nan        nan        nan        nan        nan        nan\n",
      "        nan        nan        nan        nan        nan        nan\n",
      "        nan        nan        nan        nan        nan        nan\n",
      " 0.83851287 0.8502701  0.83775024 0.84734668 0.83787734 0.84569431\n",
      " 0.83724182 0.83698761 0.83724182 0.8367334  0.83705116 0.83775024\n",
      " 0.83851287 0.8502701  0.83775024 0.84734668 0.83787734 0.84569431\n",
      " 0.83724182 0.83698761 0.83724182 0.8367334  0.83705116 0.83775024\n",
      " 0.83851287 0.8502701  0.83775024 0.84734668 0.83787734 0.84569431\n",
      " 0.83724182 0.83698761 0.83724182 0.8367334  0.83705116 0.83775024\n",
      "        nan        nan        nan        nan        nan        nan\n",
      "        nan        nan        nan        nan        nan        nan\n",
      "        nan        nan        nan        nan        nan        nan\n",
      "        nan        nan        nan        nan        nan        nan\n",
      "        nan        nan        nan        nan        nan        nan\n",
      "        nan        nan        nan        nan        nan        nan]\n",
      "  warnings.warn(\n"
     ]
    },
    {
     "name": "stdout",
     "output_type": "stream",
     "text": [
      "BEST PARAMS-->\n"
     ]
    },
    {
     "data": {
      "text/plain": [
       "{'lr__C': 10,\n",
       " 'lr__penalty': 'l2',\n",
       " 'tvec__max_df': 0.4,\n",
       " 'tvec__max_features': None,\n",
       " 'tvec__min_df': 2,\n",
       " 'tvec__ngram_range': (1, 2)}"
      ]
     },
     "metadata": {},
     "output_type": "display_data"
    },
    {
     "name": "stdout",
     "output_type": "stream",
     "text": [
      "METRICS-->\n"
     ]
    },
    {
     "data": {
      "text/plain": [
       "{'model_name': 'tvec_lr_gs',\n",
       " 'model': 'lr',\n",
       " 'vectorizer': 'tvec',\n",
       " 'train_score': 0.9971401334604385,\n",
       " 'test_score': 0.8472292831723437,\n",
       " 'recall': 0.8291687914329424,\n",
       " 'true_neg_rate': 0.8651799290420679,\n",
       " 'precision': 0.8594080338266384,\n",
       " 'is_tuned': True}"
      ]
     },
     "metadata": {},
     "output_type": "display_data"
    },
    {
     "name": "stdout",
     "output_type": "stream",
     "text": [
      "True Negatives: 1707\n",
      "False Positives: 266\n",
      "False Negatives: 335\n",
      "True Positives: 1626\n"
     ]
    }
   ],
   "source": [
    "tvec_lr_gs = get_model_scores('tvec_lr_gs', \n",
    "                              'tvec', \n",
    "                              'lr', \n",
    "                              vec_params=tvec_params, \n",
    "                              mod_params=lr_params, \n",
    "                              grid_search=True)"
   ]
  },
  {
   "cell_type": "markdown",
   "id": "a6a42546",
   "metadata": {},
   "source": [
    "We saw a 0.3% improvement in the `precision` score, however there was a drop in the `accuracy` score."
   ]
  },
  {
   "cell_type": "code",
   "execution_count": 98,
   "id": "f2048c35",
   "metadata": {},
   "outputs": [
    {
     "name": "stdout",
     "output_type": "stream",
     "text": [
      "Fitting 5 folds for each of 216 candidates, totalling 1080 fits\n",
      "BEST PARAMS-->\n"
     ]
    },
    {
     "data": {
      "text/plain": [
       "{'cvec__max_df': 0.4,\n",
       " 'cvec__max_features': None,\n",
       " 'cvec__min_df': 3,\n",
       " 'cvec__ngram_range': (1, 2),\n",
       " 'nb__alpha': 0.8,\n",
       " 'nb__fit_prior': True}"
      ]
     },
     "metadata": {},
     "output_type": "display_data"
    },
    {
     "name": "stdout",
     "output_type": "stream",
     "text": [
      "METRICS-->\n"
     ]
    },
    {
     "data": {
      "text/plain": [
       "{'model_name': 'cvec_nb_gs',\n",
       " 'model': 'nb',\n",
       " 'vectorizer': 'cvec',\n",
       " 'train_score': 0.9220845249443915,\n",
       " 'test_score': 0.8396034570411794,\n",
       " 'recall': 0.842937276899541,\n",
       " 'true_neg_rate': 0.8362899138367967,\n",
       " 'precision': 0.8365384615384616,\n",
       " 'is_tuned': True}"
      ]
     },
     "metadata": {},
     "output_type": "display_data"
    },
    {
     "name": "stdout",
     "output_type": "stream",
     "text": [
      "True Negatives: 1650\n",
      "False Positives: 323\n",
      "False Negatives: 308\n",
      "True Positives: 1653\n"
     ]
    }
   ],
   "source": [
    "cvec_nb_gs = get_model_scores('cvec_nb_gs', \n",
    "                              'cvec', \n",
    "                              'nb', \n",
    "                              vec_params=cvec_params, \n",
    "                              mod_params=nb_params, \n",
    "                              grid_search=True)"
   ]
  },
  {
   "cell_type": "code",
   "execution_count": 119,
   "id": "4aee9d98",
   "metadata": {},
   "outputs": [
    {
     "name": "stdout",
     "output_type": "stream",
     "text": [
      "Fitting 5 folds for each of 216 candidates, totalling 1080 fits\n",
      "BEST PARAMS-->\n"
     ]
    },
    {
     "data": {
      "text/plain": [
       "{'nb__alpha': 0.4,\n",
       " 'nb__fit_prior': False,\n",
       " 'tvec__max_df': 0.4,\n",
       " 'tvec__max_features': None,\n",
       " 'tvec__min_df': 4,\n",
       " 'tvec__ngram_range': (1, 2)}"
      ]
     },
     "metadata": {},
     "output_type": "display_data"
    },
    {
     "name": "stdout",
     "output_type": "stream",
     "text": [
      "METRICS-->\n"
     ]
    },
    {
     "data": {
      "text/plain": [
       "{'model_name': 'tvec_nb_gs',\n",
       " 'model': 'nb',\n",
       " 'vectorizer': 'tvec',\n",
       " 'train_score': 0.921258341277407,\n",
       " 'test_score': 0.8383324860193188,\n",
       " 'recall': 0.8291687914329424,\n",
       " 'true_neg_rate': 0.8474404460212874,\n",
       " 'precision': 0.843798650752465,\n",
       " 'is_tuned': True}"
      ]
     },
     "metadata": {},
     "output_type": "display_data"
    },
    {
     "name": "stdout",
     "output_type": "stream",
     "text": [
      "True Negatives: 1672\n",
      "False Positives: 301\n",
      "False Negatives: 335\n",
      "True Positives: 1626\n"
     ]
    }
   ],
   "source": [
    "tvec_nb_gs = get_model_scores('tvec_nb_gs', \n",
    "                              'tvec', \n",
    "                              'nb', \n",
    "                              vec_params=tvec_params, \n",
    "                              mod_params=nb_params, \n",
    "                              grid_search=True)"
   ]
  },
  {
   "cell_type": "markdown",
   "id": "8eafbcaf",
   "metadata": {},
   "source": [
    "For the `cvec` and `NaiveBayes` model, we saw a deprovement in `precision` score and an improvement in `accuracy` score. For the `tvec` and `NaiveBayes` model, we saw a larger drop in `precision` score and a drop in `accuracy` as well.\n",
    "For this reason we will most likely pick the `LogisticRegression` model. However we will still attempt fine tuning of this model."
   ]
  },
  {
   "cell_type": "markdown",
   "id": "9bb11496",
   "metadata": {},
   "source": [
    "---"
   ]
  },
  {
   "cell_type": "markdown",
   "id": "3b36409d",
   "metadata": {},
   "source": [
    "For our `RandomForest` model, running it via `GridsearchCV` will take quite some time, as such we will opt to use `RandomSearchCV` instead. Since we have already written a function previously, we will just rewrite the function and replace `GridSearchCV` with `RandomSearchCV` instead."
   ]
  },
  {
   "cell_type": "code",
   "execution_count": 191,
   "id": "c183b179",
   "metadata": {},
   "outputs": [],
   "source": [
    "# Function to run model, exactly same as before, \n",
    "# only with randomized search\n",
    "def get_model_scores_rfe(model_name, \n",
    "                         vec, \n",
    "                         mod, \n",
    "                         vec_params={}, \n",
    "                         mod_params={}, \n",
    "                         random_search=False):\n",
    "    \n",
    "    results = {}\n",
    "    \n",
    "    pipe = Pipeline([\n",
    "            (vec, vectorizers[vec]),\n",
    "            (mod, models[mod])\n",
    "            ])\n",
    "    \n",
    "    if random_search:\n",
    "        rs_params = {}\n",
    "        rs_params.update(vec_params)\n",
    "        rs_params.update(mod_params)\n",
    "        \n",
    "        rs = RandomizedSearchCV(pipe, \n",
    "                                param_distributions=rs_params, \n",
    "                                cv=5, \n",
    "                                verbose=2, \n",
    "                                n_jobs=-2)\n",
    "        \n",
    "        rs.fit(X_train, y_train)\n",
    "        pipe = rs\n",
    "        \n",
    "    else:\n",
    "        pipe.fit(X_train, y_train)\n",
    "    \n",
    "    predictions = pipe.predict(X_test)\n",
    "    tn, fp, fn, tp = confusion_matrix(y_test, \n",
    "                                      predictions).ravel()\n",
    "    \n",
    "    # Retrieve metrics\n",
    "    results['model_name'] = model_name\n",
    "    results['model'] = mod\n",
    "    results['vectorizer'] = vec\n",
    "    results['train_score'] = pipe.score(X_train, y_train)\n",
    "    results['test_score'] = pipe.score(X_test, y_test)\n",
    "    \n",
    "    results['recall'] = recall_score(y_test, \n",
    "                                     predictions)\n",
    "    \n",
    "    results['true_neg_rate'] = tn/(tn+fp)\n",
    "    results['precision'] = precision_score(y_test, \n",
    "                                           predictions)\n",
    "    results['is_tuned'] = random_search\n",
    "    \n",
    "    if random_search:\n",
    "        print('BEST PARAMS-->')\n",
    "        display(pipe.best_params_)\n",
    "        \n",
    "    model_eval.append(results)\n",
    "    \n",
    "    print('METRICS-->')\n",
    "    display(results)\n",
    "    \n",
    "    tn, fp, fn, tp = confusion_matrix(y_test, \n",
    "                                      predictions).ravel()\n",
    "    \n",
    "    print(f\"True Negatives: {tn}\")\n",
    "    print(f\"False Positives: {fp}\")\n",
    "    print(f\"False Negatives: {fn}\")\n",
    "    print(f\"True Positives: {tp}\")\n",
    "    \n",
    "    return pipe"
   ]
  },
  {
   "cell_type": "code",
   "execution_count": 113,
   "id": "76baaf13",
   "metadata": {},
   "outputs": [
    {
     "name": "stdout",
     "output_type": "stream",
     "text": [
      "Fitting 5 folds for each of 10 candidates, totalling 50 fits\n",
      "BEST PARAMS-->\n"
     ]
    },
    {
     "data": {
      "text/plain": [
       "{'tvec__ngram_range': (1, 2),\n",
       " 'tvec__min_df': 2,\n",
       " 'tvec__max_features': 10000,\n",
       " 'tvec__max_df': 0.4,\n",
       " 'rf__n_estimators': 300,\n",
       " 'rf__max_features': 0.5,\n",
       " 'rf__max_depth': None}"
      ]
     },
     "metadata": {},
     "output_type": "display_data"
    },
    {
     "name": "stdout",
     "output_type": "stream",
     "text": [
      "METRICS-->\n"
     ]
    },
    {
     "data": {
      "text/plain": [
       "{'model_name': 'tvec_rb_rs',\n",
       " 'model': 'rf',\n",
       " 'vectorizer': 'tvec',\n",
       " 'train_score': 1.0,\n",
       " 'test_score': 0.7956278596847992,\n",
       " 'recall': 0.7582865884752678,\n",
       " 'true_neg_rate': 0.8327420172326406,\n",
       " 'precision': 0.8183819482663731,\n",
       " 'is_tuned': True}"
      ]
     },
     "metadata": {},
     "output_type": "display_data"
    },
    {
     "name": "stdout",
     "output_type": "stream",
     "text": [
      "True Negatives: 1643\n",
      "False Positives: 330\n",
      "False Negatives: 474\n",
      "True Positives: 1487\n"
     ]
    }
   ],
   "source": [
    "tvec_rb_rs = get_model_scores_rfe('tvec_rb_rs', \n",
    "                                  'tvec', \n",
    "                                  'rf', \n",
    "                                  vec_params=tvec_params, \n",
    "                                  mod_params=rf_params, \n",
    "                                  random_search=True)"
   ]
  },
  {
   "cell_type": "markdown",
   "id": "bf80d64d",
   "metadata": {},
   "source": [
    "In this case, our `RandomForests` has performed worse on both metrics that we are interested in. In the interest of getting a minimum viable model up and running for 'MyNutritionClinic', we will opt to choose a model that will be quicker to tune and get ready."
   ]
  },
  {
   "cell_type": "code",
   "execution_count": 200,
   "id": "2399defd",
   "metadata": {},
   "outputs": [
    {
     "data": {
      "text/html": [
       "<div>\n",
       "<style scoped>\n",
       "    .dataframe tbody tr th:only-of-type {\n",
       "        vertical-align: middle;\n",
       "    }\n",
       "\n",
       "    .dataframe tbody tr th {\n",
       "        vertical-align: top;\n",
       "    }\n",
       "\n",
       "    .dataframe thead th {\n",
       "        text-align: right;\n",
       "    }\n",
       "</style>\n",
       "<table border=\"1\" class=\"dataframe\">\n",
       "  <thead>\n",
       "    <tr style=\"text-align: right;\">\n",
       "      <th></th>\n",
       "      <th>model_name</th>\n",
       "      <th>model</th>\n",
       "      <th>vectorizer</th>\n",
       "      <th>train_score</th>\n",
       "      <th>test_score</th>\n",
       "      <th>recall</th>\n",
       "      <th>true_neg_rate</th>\n",
       "      <th>precision</th>\n",
       "      <th>is_tuned</th>\n",
       "    </tr>\n",
       "  </thead>\n",
       "  <tbody>\n",
       "    <tr>\n",
       "      <th>0</th>\n",
       "      <td>cvec_lr</td>\n",
       "      <td>lr</td>\n",
       "      <td>cvec</td>\n",
       "      <td>0.988306</td>\n",
       "      <td>0.836299</td>\n",
       "      <td>0.844977</td>\n",
       "      <td>0.827674</td>\n",
       "      <td>0.829745</td>\n",
       "      <td>False</td>\n",
       "    </tr>\n",
       "    <tr>\n",
       "      <th>1</th>\n",
       "      <td>tvec_lr</td>\n",
       "      <td>lr</td>\n",
       "      <td>tvec</td>\n",
       "      <td>0.910391</td>\n",
       "      <td>0.847483</td>\n",
       "      <td>0.834268</td>\n",
       "      <td>0.860618</td>\n",
       "      <td>0.856096</td>\n",
       "      <td>False</td>\n",
       "    </tr>\n",
       "    <tr>\n",
       "      <th>2</th>\n",
       "      <td>cvec_nb</td>\n",
       "      <td>nb</td>\n",
       "      <td>cvec</td>\n",
       "      <td>0.895583</td>\n",
       "      <td>0.830452</td>\n",
       "      <td>0.807751</td>\n",
       "      <td>0.853016</td>\n",
       "      <td>0.845251</td>\n",
       "      <td>False</td>\n",
       "    </tr>\n",
       "    <tr>\n",
       "      <th>3</th>\n",
       "      <td>tvec_nb</td>\n",
       "      <td>nb</td>\n",
       "      <td>tvec</td>\n",
       "      <td>0.885605</td>\n",
       "      <td>0.827402</td>\n",
       "      <td>0.764406</td>\n",
       "      <td>0.890015</td>\n",
       "      <td>0.873543</td>\n",
       "      <td>False</td>\n",
       "    </tr>\n",
       "    <tr>\n",
       "      <th>4</th>\n",
       "      <td>cvec_rf</td>\n",
       "      <td>rf</td>\n",
       "      <td>cvec</td>\n",
       "      <td>1.000000</td>\n",
       "      <td>0.825623</td>\n",
       "      <td>0.815910</td>\n",
       "      <td>0.835276</td>\n",
       "      <td>0.831169</td>\n",
       "      <td>False</td>\n",
       "    </tr>\n",
       "    <tr>\n",
       "      <th>5</th>\n",
       "      <td>tvec_rf</td>\n",
       "      <td>rf</td>\n",
       "      <td>tvec</td>\n",
       "      <td>1.000000</td>\n",
       "      <td>0.827402</td>\n",
       "      <td>0.805201</td>\n",
       "      <td>0.849468</td>\n",
       "      <td>0.841684</td>\n",
       "      <td>False</td>\n",
       "    </tr>\n",
       "    <tr>\n",
       "      <th>6</th>\n",
       "      <td>tvec_lr_gs</td>\n",
       "      <td>lr</td>\n",
       "      <td>tvec</td>\n",
       "      <td>0.997140</td>\n",
       "      <td>0.847229</td>\n",
       "      <td>0.829169</td>\n",
       "      <td>0.865180</td>\n",
       "      <td>0.859408</td>\n",
       "      <td>True</td>\n",
       "    </tr>\n",
       "    <tr>\n",
       "      <th>7</th>\n",
       "      <td>cvec_nb_gs</td>\n",
       "      <td>nb</td>\n",
       "      <td>cvec</td>\n",
       "      <td>0.922085</td>\n",
       "      <td>0.839603</td>\n",
       "      <td>0.842937</td>\n",
       "      <td>0.836290</td>\n",
       "      <td>0.836538</td>\n",
       "      <td>True</td>\n",
       "    </tr>\n",
       "    <tr>\n",
       "      <th>8</th>\n",
       "      <td>tvec_rb_rs</td>\n",
       "      <td>rf</td>\n",
       "      <td>tvec</td>\n",
       "      <td>1.000000</td>\n",
       "      <td>0.795628</td>\n",
       "      <td>0.758287</td>\n",
       "      <td>0.832742</td>\n",
       "      <td>0.818382</td>\n",
       "      <td>True</td>\n",
       "    </tr>\n",
       "    <tr>\n",
       "      <th>9</th>\n",
       "      <td>tvec_nb_gs</td>\n",
       "      <td>nb</td>\n",
       "      <td>tvec</td>\n",
       "      <td>0.921258</td>\n",
       "      <td>0.838332</td>\n",
       "      <td>0.829169</td>\n",
       "      <td>0.847440</td>\n",
       "      <td>0.843799</td>\n",
       "      <td>True</td>\n",
       "    </tr>\n",
       "  </tbody>\n",
       "</table>\n",
       "</div>"
      ],
      "text/plain": [
       "   model_name model vectorizer  train_score  test_score    recall  \\\n",
       "0     cvec_lr    lr       cvec     0.988306    0.836299  0.844977   \n",
       "1     tvec_lr    lr       tvec     0.910391    0.847483  0.834268   \n",
       "2     cvec_nb    nb       cvec     0.895583    0.830452  0.807751   \n",
       "3     tvec_nb    nb       tvec     0.885605    0.827402  0.764406   \n",
       "4     cvec_rf    rf       cvec     1.000000    0.825623  0.815910   \n",
       "5     tvec_rf    rf       tvec     1.000000    0.827402  0.805201   \n",
       "6  tvec_lr_gs    lr       tvec     0.997140    0.847229  0.829169   \n",
       "7  cvec_nb_gs    nb       cvec     0.922085    0.839603  0.842937   \n",
       "8  tvec_rb_rs    rf       tvec     1.000000    0.795628  0.758287   \n",
       "9  tvec_nb_gs    nb       tvec     0.921258    0.838332  0.829169   \n",
       "\n",
       "   true_neg_rate  precision  is_tuned  \n",
       "0       0.827674   0.829745     False  \n",
       "1       0.860618   0.856096     False  \n",
       "2       0.853016   0.845251     False  \n",
       "3       0.890015   0.873543     False  \n",
       "4       0.835276   0.831169     False  \n",
       "5       0.849468   0.841684     False  \n",
       "6       0.865180   0.859408      True  \n",
       "7       0.836290   0.836538      True  \n",
       "8       0.832742   0.818382      True  \n",
       "9       0.847440   0.843799      True  "
      ]
     },
     "execution_count": 200,
     "metadata": {},
     "output_type": "execute_result"
    }
   ],
   "source": [
    "model_scoresV1 = pd.DataFrame(model_eval)\n",
    "model_scoresV1"
   ]
  },
  {
   "cell_type": "code",
   "execution_count": 563,
   "id": "88606ca3",
   "metadata": {},
   "outputs": [
    {
     "data": {
      "text/html": [
       "<div>\n",
       "<style scoped>\n",
       "    .dataframe tbody tr th:only-of-type {\n",
       "        vertical-align: middle;\n",
       "    }\n",
       "\n",
       "    .dataframe tbody tr th {\n",
       "        vertical-align: top;\n",
       "    }\n",
       "\n",
       "    .dataframe thead th {\n",
       "        text-align: right;\n",
       "    }\n",
       "</style>\n",
       "<table border=\"1\" class=\"dataframe\">\n",
       "  <thead>\n",
       "    <tr style=\"text-align: right;\">\n",
       "      <th></th>\n",
       "      <th>model_name</th>\n",
       "      <th>model</th>\n",
       "      <th>vectorizer</th>\n",
       "      <th>test_score</th>\n",
       "      <th>precision</th>\n",
       "      <th>is_tuned</th>\n",
       "    </tr>\n",
       "  </thead>\n",
       "  <tbody>\n",
       "    <tr>\n",
       "      <th>3</th>\n",
       "      <td>tvec_nb</td>\n",
       "      <td>nb</td>\n",
       "      <td>tvec</td>\n",
       "      <td>0.827402</td>\n",
       "      <td>0.873543</td>\n",
       "      <td>False</td>\n",
       "    </tr>\n",
       "    <tr>\n",
       "      <th>6</th>\n",
       "      <td>tvec_lr_gs</td>\n",
       "      <td>lr</td>\n",
       "      <td>tvec</td>\n",
       "      <td>0.847229</td>\n",
       "      <td>0.859408</td>\n",
       "      <td>True</td>\n",
       "    </tr>\n",
       "    <tr>\n",
       "      <th>1</th>\n",
       "      <td>tvec_lr</td>\n",
       "      <td>lr</td>\n",
       "      <td>tvec</td>\n",
       "      <td>0.847483</td>\n",
       "      <td>0.856096</td>\n",
       "      <td>False</td>\n",
       "    </tr>\n",
       "    <tr>\n",
       "      <th>2</th>\n",
       "      <td>cvec_nb</td>\n",
       "      <td>nb</td>\n",
       "      <td>cvec</td>\n",
       "      <td>0.830452</td>\n",
       "      <td>0.845251</td>\n",
       "      <td>False</td>\n",
       "    </tr>\n",
       "    <tr>\n",
       "      <th>9</th>\n",
       "      <td>tvec_nb_gs</td>\n",
       "      <td>nb</td>\n",
       "      <td>tvec</td>\n",
       "      <td>0.838332</td>\n",
       "      <td>0.843799</td>\n",
       "      <td>True</td>\n",
       "    </tr>\n",
       "  </tbody>\n",
       "</table>\n",
       "</div>"
      ],
      "text/plain": [
       "   model_name model vectorizer  test_score  precision  is_tuned\n",
       "3     tvec_nb    nb       tvec    0.827402   0.873543     False\n",
       "6  tvec_lr_gs    lr       tvec    0.847229   0.859408      True\n",
       "1     tvec_lr    lr       tvec    0.847483   0.856096     False\n",
       "2     cvec_nb    nb       cvec    0.830452   0.845251     False\n",
       "9  tvec_nb_gs    nb       tvec    0.838332   0.843799      True"
      ]
     },
     "execution_count": 563,
     "metadata": {},
     "output_type": "execute_result"
    }
   ],
   "source": [
    "# evaluating the top 5 models so far by precision score and accuracy score\n",
    "model_scoresV1.drop(columns=['train_score', 'recall', 'true_neg_rate'])\\\n",
    ".sort_values(by=['precision', 'test_score'], ascending=False).head()"
   ]
  },
  {
   "cell_type": "markdown",
   "id": "fa72c221",
   "metadata": {},
   "source": [
    "From the above table, we can see that the base `TfidfVectorizer` with `NaiveBayes` has the best precision performance, but the poorest `accuracy` performance. We can also see that the `LogisticRegression` with `TfidfVectorizer` is not far behind in terms of `precision` however it does about 2% better in terms of `accuracy`. We will conduct further tuning on these two models to choose our final model."
   ]
  },
  {
   "cell_type": "markdown",
   "id": "50070831",
   "metadata": {},
   "source": [
    "# Further Tuning"
   ]
  },
  {
   "cell_type": "markdown",
   "id": "0e5d425d",
   "metadata": {},
   "source": [
    "First let's adjust the parameters that we will use for `GridSearchCV` in hopes of tuning our model.\n",
    "We will rewrite the function to add in a scoring parameter that will help us to improve the precision and accuracy score of our model.\n",
    "\n",
    "This will be a repetitive and iterative process. "
   ]
  },
  {
   "cell_type": "code",
   "execution_count": 326,
   "id": "1677b5a2",
   "metadata": {},
   "outputs": [],
   "source": [
    "# exact same function as before, \n",
    "# just added the line before that is commented on\n",
    "def get_model_scores_V2(model_name, \n",
    "                     vec, \n",
    "                     mod, \n",
    "                     vec_params={}, \n",
    "                     mod_params={}, \n",
    "                     grid_search=False):\n",
    "    \n",
    "    results = {}\n",
    "    \n",
    "    pipe = Pipeline([\n",
    "            (vec, vectorizers[vec]),\n",
    "            (mod, models[mod])\n",
    "            ])\n",
    "    \n",
    "    if grid_search:\n",
    "        gs_params = {}\n",
    "        gs_params.update(vec_params)\n",
    "        gs_params.update(mod_params)\n",
    "        \n",
    "        # adding in scoring parameters\n",
    "        scoring = {'Precision': make_scorer(precision_score),\n",
    "                   'Accuracy': make_scorer(accuracy_score)}\n",
    "        \n",
    "        gs = GridSearchCV(pipe, \n",
    "                          param_grid=gs_params,\n",
    "                          scoring=scoring,\n",
    "                          refit='Accuracy',\n",
    "                          cv=5, \n",
    "                          verbose=2, \n",
    "                          n_jobs=-2)\n",
    "        \n",
    "        gs.fit(X_train, y_train)\n",
    "        pipe = gs\n",
    "        \n",
    "    else:\n",
    "        pipe.fit(X_train, y_train)\n",
    "    \n",
    "    predictions = pipe.predict(X_test)\n",
    "    tn, fp, fn, tp = confusion_matrix(y_test, \n",
    "                                      predictions).ravel()\n",
    "    \n",
    "    # Retrieve metrics\n",
    "    results['model_name'] = model_name\n",
    "    results['model'] = mod\n",
    "    results['vectorizer'] = vec\n",
    "    results['train_score'] = pipe.score(X_train, y_train)\n",
    "    results['test_score'] = pipe.score(X_test, y_test)\n",
    "    \n",
    "    results['recall'] = recall_score(y_test, \n",
    "                                     predictions)\n",
    "    \n",
    "    results['true_neg_rate'] = tn/(tn+fp)\n",
    "    \n",
    "    results['precision'] = precision_score(y_test, \n",
    "                                           predictions)\n",
    "    results['is_tuned'] = grid_search\n",
    "    \n",
    "    if grid_search:\n",
    "        print('BEST PARAMS-->')\n",
    "        display(pipe.best_params_)\n",
    "        \n",
    "    model_eval.append(results)\n",
    "    \n",
    "    print('METRICS-->')\n",
    "    display(results)\n",
    "    \n",
    "    tn, fp, fn, tp = confusion_matrix(y_test, \n",
    "                                      predictions).ravel()\n",
    "    \n",
    "    print(f\"True Negatives: {tn}\")\n",
    "    print(f\"False Positives: {fp}\")\n",
    "    print(f\"False Negatives: {fn}\")\n",
    "    print(f\"True Positives: {tp}\")\n",
    "    \n",
    "    return pipe"
   ]
  },
  {
   "cell_type": "markdown",
   "id": "87cd317c",
   "metadata": {},
   "source": [
    "---"
   ]
  },
  {
   "cell_type": "markdown",
   "id": "e2c88572",
   "metadata": {},
   "source": [
    "We will iterate through different versions of the models and attempt to change the parameters to improve the `precision` and `accuracy` scores."
   ]
  },
  {
   "cell_type": "code",
   "execution_count": 327,
   "id": "6937c289",
   "metadata": {},
   "outputs": [
    {
     "data": {
      "text/plain": [
       "{'nb__alpha': 0.4,\n",
       " 'nb__fit_prior': False,\n",
       " 'tvec__max_df': 0.4,\n",
       " 'tvec__max_features': None,\n",
       " 'tvec__min_df': 4,\n",
       " 'tvec__ngram_range': (1, 2)}"
      ]
     },
     "execution_count": 327,
     "metadata": {},
     "output_type": "execute_result"
    }
   ],
   "source": [
    "tvec_nb_gs.best_params_"
   ]
  },
  {
   "cell_type": "code",
   "execution_count": 328,
   "id": "e0246719",
   "metadata": {},
   "outputs": [],
   "source": [
    "# re-adjusting params based on previous run\n",
    "\n",
    "nb_params_V2 = {   \n",
    "    # Trying different types of alpha\n",
    "    'nb__alpha': [0.2, 0.3, 0.4]\n",
    "}\n",
    "\n",
    "tvec_nb_params_V2 = {\n",
    "    # Setting a limit of n-number of features included\n",
    "    'tvec__max_features': [None, 3000, 5000],\n",
    "    \n",
    "    # Setting a minimum number of times the \n",
    "    # word/token has to appear in n-documents\n",
    "    'tvec__min_df':[4, 5],\n",
    "    \n",
    "    # Setting an upper threshold/max percentage \n",
    "    # of n% of documents from corpus\n",
    "    'tvec__max_df': [0.2, 0.3, 0.4],\n",
    "    \n",
    "    # Testing with ngrams\n",
    "    'tvec__ngram_range':[(1,2), (2,2)]\n",
    "}"
   ]
  },
  {
   "cell_type": "code",
   "execution_count": 329,
   "id": "b0be02dc",
   "metadata": {},
   "outputs": [
    {
     "name": "stdout",
     "output_type": "stream",
     "text": [
      "Fitting 5 folds for each of 108 candidates, totalling 540 fits\n",
      "BEST PARAMS-->\n"
     ]
    },
    {
     "data": {
      "text/plain": [
       "{'nb__alpha': 0.4,\n",
       " 'tvec__max_df': 0.2,\n",
       " 'tvec__max_features': None,\n",
       " 'tvec__min_df': 4,\n",
       " 'tvec__ngram_range': (1, 2)}"
      ]
     },
     "metadata": {},
     "output_type": "display_data"
    },
    {
     "name": "stdout",
     "output_type": "stream",
     "text": [
      "METRICS-->\n"
     ]
    },
    {
     "data": {
      "text/plain": [
       "{'model_name': 'tvec_nb_gs_V2',\n",
       " 'model': 'nb',\n",
       " 'vectorizer': 'tvec',\n",
       " 'train_score': 0.9224022878932316,\n",
       " 'test_score': 0.838840874428063,\n",
       " 'recall': 0.827129015808261,\n",
       " 'true_neg_rate': 0.8504815002534212,\n",
       " 'precision': 0.8461137193531559,\n",
       " 'is_tuned': True}"
      ]
     },
     "metadata": {},
     "output_type": "display_data"
    },
    {
     "name": "stdout",
     "output_type": "stream",
     "text": [
      "True Negatives: 1678\n",
      "False Positives: 295\n",
      "False Negatives: 339\n",
      "True Positives: 1622\n"
     ]
    }
   ],
   "source": [
    "# Let's readjust the parameters based on these results\n",
    "tvec_nb_gs_V2 = get_model_scores_V2('tvec_nb_gs_V2', \n",
    "                                    'tvec', \n",
    "                                    'nb', \n",
    "                                    vec_params=tvec_nb_params_V2, \n",
    "                                    mod_params=nb_params_V2, \n",
    "                                    grid_search=True)"
   ]
  },
  {
   "cell_type": "markdown",
   "id": "fcb43960",
   "metadata": {},
   "source": [
    "---"
   ]
  },
  {
   "cell_type": "code",
   "execution_count": 330,
   "id": "7c9723ec",
   "metadata": {},
   "outputs": [],
   "source": [
    "# re-adjusting params based on previous run\n",
    "\n",
    "nb_params_V3 = {   \n",
    "    # Trying different types of alpha\n",
    "    'nb__alpha': [0.4, 0.5]\n",
    "}\n",
    "\n",
    "tvec_nb_params_V3 = {\n",
    "    # Setting a limit of n-number of features included\n",
    "    'tvec__max_features': [None],\n",
    "    \n",
    "    # Setting a minimum number of times the \n",
    "    # word/token has to appear in n-documents\n",
    "    'tvec__min_df':[3.5, 4, 4.5],\n",
    "    \n",
    "    # Setting an upper threshold/max percentage \n",
    "    # of n% of documents from corpus\n",
    "    'tvec__max_df': [None, 0.1, 0.2],\n",
    "    \n",
    "    # Testing with ngrams\n",
    "    'tvec__ngram_range':[(1,2), (2,3)]\n",
    "}"
   ]
  },
  {
   "cell_type": "code",
   "execution_count": 331,
   "id": "583ecf3c",
   "metadata": {},
   "outputs": [
    {
     "name": "stdout",
     "output_type": "stream",
     "text": [
      "Fitting 5 folds for each of 36 candidates, totalling 180 fits\n"
     ]
    },
    {
     "name": "stderr",
     "output_type": "stream",
     "text": [
      "C:\\Users\\Jayy Jangam\\.conda\\envs\\dsi\\lib\\site-packages\\sklearn\\model_selection\\_validation.py:372: FitFailedWarning: \n",
      "140 fits failed out of a total of 180.\n",
      "The score on these train-test partitions for these parameters will be set to nan.\n",
      "If these failures are not expected, you can try to debug them by setting error_score='raise'.\n",
      "\n",
      "Below are more details about the failures:\n",
      "--------------------------------------------------------------------------------\n",
      "60 fits failed with the following error:\n",
      "Traceback (most recent call last):\n",
      "  File \"C:\\Users\\Jayy Jangam\\.conda\\envs\\dsi\\lib\\site-packages\\sklearn\\model_selection\\_validation.py\", line 680, in _fit_and_score\n",
      "    estimator.fit(X_train, y_train, **fit_params)\n",
      "  File \"C:\\Users\\Jayy Jangam\\.conda\\envs\\dsi\\lib\\site-packages\\sklearn\\pipeline.py\", line 390, in fit\n",
      "    Xt = self._fit(X, y, **fit_params_steps)\n",
      "  File \"C:\\Users\\Jayy Jangam\\.conda\\envs\\dsi\\lib\\site-packages\\sklearn\\pipeline.py\", line 348, in _fit\n",
      "    X, fitted_transformer = fit_transform_one_cached(\n",
      "  File \"C:\\Users\\Jayy Jangam\\.conda\\envs\\dsi\\lib\\site-packages\\joblib\\memory.py\", line 349, in __call__\n",
      "    return self.func(*args, **kwargs)\n",
      "  File \"C:\\Users\\Jayy Jangam\\.conda\\envs\\dsi\\lib\\site-packages\\sklearn\\pipeline.py\", line 893, in _fit_transform_one\n",
      "    res = transformer.fit_transform(X, y, **fit_params)\n",
      "  File \"C:\\Users\\Jayy Jangam\\.conda\\envs\\dsi\\lib\\site-packages\\sklearn\\feature_extraction\\text.py\", line 2077, in fit_transform\n",
      "    X = super().fit_transform(raw_documents)\n",
      "  File \"C:\\Users\\Jayy Jangam\\.conda\\envs\\dsi\\lib\\site-packages\\sklearn\\feature_extraction\\text.py\", line 1313, in fit_transform\n",
      "    self._validate_params()\n",
      "  File \"C:\\Users\\Jayy Jangam\\.conda\\envs\\dsi\\lib\\site-packages\\sklearn\\feature_extraction\\text.py\", line 1259, in _validate_params\n",
      "    check_scalar(self.min_df, \"min_df\", numbers.Real, min_val=0.0, max_val=1.0)\n",
      "  File \"C:\\Users\\Jayy Jangam\\.conda\\envs\\dsi\\lib\\site-packages\\sklearn\\utils\\validation.py\", line 1329, in check_scalar\n",
      "    raise ValueError(\n",
      "ValueError: min_df == 3.5, must be <= 1.0.\n",
      "\n",
      "--------------------------------------------------------------------------------\n",
      "20 fits failed with the following error:\n",
      "Traceback (most recent call last):\n",
      "  File \"C:\\Users\\Jayy Jangam\\.conda\\envs\\dsi\\lib\\site-packages\\sklearn\\model_selection\\_validation.py\", line 680, in _fit_and_score\n",
      "    estimator.fit(X_train, y_train, **fit_params)\n",
      "  File \"C:\\Users\\Jayy Jangam\\.conda\\envs\\dsi\\lib\\site-packages\\sklearn\\pipeline.py\", line 390, in fit\n",
      "    Xt = self._fit(X, y, **fit_params_steps)\n",
      "  File \"C:\\Users\\Jayy Jangam\\.conda\\envs\\dsi\\lib\\site-packages\\sklearn\\pipeline.py\", line 348, in _fit\n",
      "    X, fitted_transformer = fit_transform_one_cached(\n",
      "  File \"C:\\Users\\Jayy Jangam\\.conda\\envs\\dsi\\lib\\site-packages\\joblib\\memory.py\", line 349, in __call__\n",
      "    return self.func(*args, **kwargs)\n",
      "  File \"C:\\Users\\Jayy Jangam\\.conda\\envs\\dsi\\lib\\site-packages\\sklearn\\pipeline.py\", line 893, in _fit_transform_one\n",
      "    res = transformer.fit_transform(X, y, **fit_params)\n",
      "  File \"C:\\Users\\Jayy Jangam\\.conda\\envs\\dsi\\lib\\site-packages\\sklearn\\feature_extraction\\text.py\", line 2077, in fit_transform\n",
      "    X = super().fit_transform(raw_documents)\n",
      "  File \"C:\\Users\\Jayy Jangam\\.conda\\envs\\dsi\\lib\\site-packages\\sklearn\\feature_extraction\\text.py\", line 1313, in fit_transform\n",
      "    self._validate_params()\n",
      "  File \"C:\\Users\\Jayy Jangam\\.conda\\envs\\dsi\\lib\\site-packages\\sklearn\\feature_extraction\\text.py\", line 1264, in _validate_params\n",
      "    check_scalar(self.max_df, \"max_df\", numbers.Real, min_val=0.0, max_val=1.0)\n",
      "  File \"C:\\Users\\Jayy Jangam\\.conda\\envs\\dsi\\lib\\site-packages\\sklearn\\utils\\validation.py\", line 1307, in check_scalar\n",
      "    raise TypeError(f\"{name} must be an instance of {target_type}, not {type(x)}.\")\n",
      "TypeError: max_df must be an instance of <class 'numbers.Real'>, not <class 'NoneType'>.\n",
      "\n",
      "--------------------------------------------------------------------------------\n",
      "60 fits failed with the following error:\n",
      "Traceback (most recent call last):\n",
      "  File \"C:\\Users\\Jayy Jangam\\.conda\\envs\\dsi\\lib\\site-packages\\sklearn\\model_selection\\_validation.py\", line 680, in _fit_and_score\n",
      "    estimator.fit(X_train, y_train, **fit_params)\n",
      "  File \"C:\\Users\\Jayy Jangam\\.conda\\envs\\dsi\\lib\\site-packages\\sklearn\\pipeline.py\", line 390, in fit\n",
      "    Xt = self._fit(X, y, **fit_params_steps)\n",
      "  File \"C:\\Users\\Jayy Jangam\\.conda\\envs\\dsi\\lib\\site-packages\\sklearn\\pipeline.py\", line 348, in _fit\n",
      "    X, fitted_transformer = fit_transform_one_cached(\n",
      "  File \"C:\\Users\\Jayy Jangam\\.conda\\envs\\dsi\\lib\\site-packages\\joblib\\memory.py\", line 349, in __call__\n",
      "    return self.func(*args, **kwargs)\n",
      "  File \"C:\\Users\\Jayy Jangam\\.conda\\envs\\dsi\\lib\\site-packages\\sklearn\\pipeline.py\", line 893, in _fit_transform_one\n",
      "    res = transformer.fit_transform(X, y, **fit_params)\n",
      "  File \"C:\\Users\\Jayy Jangam\\.conda\\envs\\dsi\\lib\\site-packages\\sklearn\\feature_extraction\\text.py\", line 2077, in fit_transform\n",
      "    X = super().fit_transform(raw_documents)\n",
      "  File \"C:\\Users\\Jayy Jangam\\.conda\\envs\\dsi\\lib\\site-packages\\sklearn\\feature_extraction\\text.py\", line 1313, in fit_transform\n",
      "    self._validate_params()\n",
      "  File \"C:\\Users\\Jayy Jangam\\.conda\\envs\\dsi\\lib\\site-packages\\sklearn\\feature_extraction\\text.py\", line 1259, in _validate_params\n",
      "    check_scalar(self.min_df, \"min_df\", numbers.Real, min_val=0.0, max_val=1.0)\n",
      "  File \"C:\\Users\\Jayy Jangam\\.conda\\envs\\dsi\\lib\\site-packages\\sklearn\\utils\\validation.py\", line 1329, in check_scalar\n",
      "    raise ValueError(\n",
      "ValueError: min_df == 4.5, must be <= 1.0.\n",
      "\n",
      "  warnings.warn(some_fits_failed_message, FitFailedWarning)\n",
      "C:\\Users\\Jayy Jangam\\.conda\\envs\\dsi\\lib\\site-packages\\sklearn\\model_selection\\_search.py:969: UserWarning: One or more of the test scores are non-finite: [       nan        nan        nan        nan        nan        nan\n",
      "        nan        nan 0.8399849  0.76525676        nan        nan\n",
      "        nan        nan 0.8416078  0.76525676        nan        nan\n",
      "        nan        nan        nan        nan        nan        nan\n",
      "        nan        nan 0.84087834 0.76569346        nan        nan\n",
      "        nan        nan 0.84289485 0.76569346        nan        nan]\n",
      "  warnings.warn(\n",
      "C:\\Users\\Jayy Jangam\\.conda\\envs\\dsi\\lib\\site-packages\\sklearn\\model_selection\\_search.py:969: UserWarning: One or more of the test scores are non-finite: [       nan        nan        nan        nan        nan        nan\n",
      "        nan        nan 0.83597077 0.76123292        nan        nan\n",
      "        nan        nan 0.83635208 0.76123292        nan        nan\n",
      "        nan        nan        nan        nan        nan        nan\n",
      "        nan        nan 0.83603432 0.76136003        nan        nan\n",
      "        nan        nan 0.83654274 0.76136003        nan        nan]\n",
      "  warnings.warn(\n"
     ]
    },
    {
     "name": "stdout",
     "output_type": "stream",
     "text": [
      "BEST PARAMS-->\n"
     ]
    },
    {
     "data": {
      "text/plain": [
       "{'nb__alpha': 0.5,\n",
       " 'tvec__max_df': 0.2,\n",
       " 'tvec__max_features': None,\n",
       " 'tvec__min_df': 4,\n",
       " 'tvec__ngram_range': (1, 2)}"
      ]
     },
     "metadata": {},
     "output_type": "display_data"
    },
    {
     "name": "stdout",
     "output_type": "stream",
     "text": [
      "METRICS-->\n"
     ]
    },
    {
     "data": {
      "text/plain": [
       "{'model_name': 'tvec_nb_gs_V3',\n",
       " 'model': 'nb',\n",
       " 'vectorizer': 'tvec',\n",
       " 'train_score': 0.9194153161741341,\n",
       " 'test_score': 0.8383324860193188,\n",
       " 'recall': 0.8225395206527282,\n",
       " 'true_neg_rate': 0.8540293968575773,\n",
       " 'precision': 0.8485007890583903,\n",
       " 'is_tuned': True}"
      ]
     },
     "metadata": {},
     "output_type": "display_data"
    },
    {
     "name": "stdout",
     "output_type": "stream",
     "text": [
      "True Negatives: 1685\n",
      "False Positives: 288\n",
      "False Negatives: 348\n",
      "True Positives: 1613\n"
     ]
    }
   ],
   "source": [
    "# re-run model with adjusted parameters\n",
    "tvec_nb_gs_V3 = get_model_scores_V2('tvec_nb_gs_V3', \n",
    "                              'tvec', \n",
    "                              'nb', \n",
    "                              vec_params=tvec_nb_params_V3, \n",
    "                              mod_params=nb_params_V3, \n",
    "                              grid_search=True)"
   ]
  },
  {
   "cell_type": "markdown",
   "id": "0f0c9524",
   "metadata": {},
   "source": [
    "---"
   ]
  },
  {
   "cell_type": "code",
   "execution_count": 370,
   "id": "5f417819",
   "metadata": {},
   "outputs": [],
   "source": [
    "# re-adjusting params based on previous run\n",
    "\n",
    "nb_params_V4 = {   \n",
    "    # Trying different types of alpha\n",
    "    'nb__alpha': [0.5, 0.6, 0.7]\n",
    "}\n",
    "\n",
    "tvec_nb_params_V4 = {\n",
    "    # Setting a limit of n-number of features included\n",
    "    'tvec__max_features': [None],\n",
    "    \n",
    "    # Setting a minimum number of times the \n",
    "    # word/token has to appear in n-documents\n",
    "    'tvec__min_df':[4],\n",
    "    \n",
    "    # Setting an upper threshold/max percentage \n",
    "    # of n% of documents from corpus\n",
    "    'tvec__max_df': [0.2],\n",
    "    \n",
    "    # Testing with ngrams\n",
    "    'tvec__ngram_range':[(1, 1), (1,2), (1,3)]\n",
    "}"
   ]
  },
  {
   "cell_type": "code",
   "execution_count": 371,
   "id": "7fb539bd",
   "metadata": {},
   "outputs": [
    {
     "name": "stdout",
     "output_type": "stream",
     "text": [
      "Fitting 5 folds for each of 9 candidates, totalling 45 fits\n",
      "BEST PARAMS-->\n"
     ]
    },
    {
     "data": {
      "text/plain": [
       "{'nb__alpha': 0.5,\n",
       " 'tvec__max_df': 0.2,\n",
       " 'tvec__max_features': None,\n",
       " 'tvec__min_df': 4,\n",
       " 'tvec__ngram_range': (1, 2)}"
      ]
     },
     "metadata": {},
     "output_type": "display_data"
    },
    {
     "name": "stdout",
     "output_type": "stream",
     "text": [
      "METRICS-->\n"
     ]
    },
    {
     "data": {
      "text/plain": [
       "{'model_name': 'tvec_nb_gs_V4',\n",
       " 'model': 'nb',\n",
       " 'vectorizer': 'tvec',\n",
       " 'train_score': 0.9164918970448046,\n",
       " 'test_score': 0.8289273004575496,\n",
       " 'recall': 0.8092809790922999,\n",
       " 'true_neg_rate': 0.8484541307653319,\n",
       " 'precision': 0.8414634146341463,\n",
       " 'is_tuned': True}"
      ]
     },
     "metadata": {},
     "output_type": "display_data"
    },
    {
     "name": "stdout",
     "output_type": "stream",
     "text": [
      "True Negatives: 1674\n",
      "False Positives: 299\n",
      "False Negatives: 374\n",
      "True Positives: 1587\n"
     ]
    }
   ],
   "source": [
    "# re-run model with adjusted parameters\n",
    "tvec_nb_gs_V4 = get_model_scores_V2('tvec_nb_gs_V4', \n",
    "                              'tvec', \n",
    "                              'nb', \n",
    "\n",
    "                                    vec_params=tvec_nb_params_V4, \n",
    "                              mod_params=nb_params_V4, \n",
    "                              grid_search=True)"
   ]
  },
  {
   "cell_type": "markdown",
   "id": "4d908930",
   "metadata": {},
   "source": [
    "We believe that we have pushed this model as far as it can go in terms of balance between `accuracy` and `precision`.\n",
    "Now we will repeat this process for `LogisticRegression` and then we will take a look at the results again at the end."
   ]
  },
  {
   "cell_type": "markdown",
   "id": "81e7e28a",
   "metadata": {},
   "source": [
    "---"
   ]
  },
  {
   "cell_type": "code",
   "execution_count": 334,
   "id": "264c2089",
   "metadata": {},
   "outputs": [
    {
     "data": {
      "text/plain": [
       "{'lr__C': 10,\n",
       " 'lr__penalty': 'l2',\n",
       " 'tvec__max_df': 0.4,\n",
       " 'tvec__max_features': None,\n",
       " 'tvec__min_df': 2,\n",
       " 'tvec__ngram_range': (1, 2)}"
      ]
     },
     "execution_count": 334,
     "metadata": {},
     "output_type": "execute_result"
    }
   ],
   "source": [
    "tvec_lr_gs.best_params_"
   ]
  },
  {
   "cell_type": "code",
   "execution_count": 372,
   "id": "f5a949da",
   "metadata": {},
   "outputs": [],
   "source": [
    "# Re-adjusting parameters from previous run\n",
    "\n",
    "lr_params = {\n",
    "    # Trying different types of regularization\n",
    "    'lr__penalty':['l2'],\n",
    "\n",
    "     # Trying different C of:(C = 1/alpha)\n",
    "    'lr__C':[9.5, 10, 11]\n",
    "}\n",
    "\n",
    "tvec_params = {\n",
    "    # Setting a limit of n-number of features included\n",
    "    'tvec__max_features': [None],\n",
    "    \n",
    "    # Setting a minimum number of times the \n",
    "    # word/token has to appear in n-documents\n",
    "    'tvec__min_df':[1.5, 2, 2.5],\n",
    "    \n",
    "    # Setting an upper threshold/max percentage \n",
    "    # of n% of documents from corpus\n",
    "    'tvec__max_df': [0.2, 0.3, 0.4],\n",
    "    \n",
    "    # Testing with ngrams\n",
    "    'tvec__ngram_range':[(1,1), (1,2), (1,3)]\n",
    "}"
   ]
  },
  {
   "cell_type": "code",
   "execution_count": 373,
   "id": "f68d99f3",
   "metadata": {},
   "outputs": [
    {
     "name": "stdout",
     "output_type": "stream",
     "text": [
      "Fitting 5 folds for each of 108 candidates, totalling 540 fits\n",
      "BEST PARAMS-->\n"
     ]
    },
    {
     "data": {
      "text/plain": [
       "{'lr__C': 9.5,\n",
       " 'lr__penalty': 'l2',\n",
       " 'tvec__max_df': 0.3,\n",
       " 'tvec__max_features': None,\n",
       " 'tvec__min_df': 2,\n",
       " 'tvec__ngram_range': (1, 2)}"
      ]
     },
     "metadata": {},
     "output_type": "display_data"
    },
    {
     "name": "stdout",
     "output_type": "stream",
     "text": [
      "METRICS-->\n"
     ]
    },
    {
     "data": {
      "text/plain": [
       "{'model_name': 'tvec_lr_gs_V2',\n",
       " 'model': 'lr',\n",
       " 'vectorizer': 'tvec',\n",
       " 'train_score': 0.9965681601525263,\n",
       " 'test_score': 0.8439247585155059,\n",
       " 'recall': 0.8220295767465579,\n",
       " 'true_neg_rate': 0.8656867714140902,\n",
       " 'precision': 0.8588172615876398,\n",
       " 'is_tuned': True}"
      ]
     },
     "metadata": {},
     "output_type": "display_data"
    },
    {
     "name": "stdout",
     "output_type": "stream",
     "text": [
      "True Negatives: 1708\n",
      "False Positives: 265\n",
      "False Negatives: 349\n",
      "True Positives: 1612\n"
     ]
    }
   ],
   "source": [
    "tvec_lr_gs_V2 = get_model_scores_V2('tvec_lr_gs_V2', \n",
    "                              'tvec', \n",
    "                              'lr', \n",
    "                              vec_params=tvec_lr_params_V2, \n",
    "                              mod_params=lr_params_V2, \n",
    "                              grid_search=True)"
   ]
  },
  {
   "cell_type": "markdown",
   "id": "51de00a5",
   "metadata": {},
   "source": [
    "---"
   ]
  },
  {
   "cell_type": "code",
   "execution_count": 388,
   "id": "0fdab565",
   "metadata": {},
   "outputs": [],
   "source": [
    "lr_params_V3 = {\n",
    "    # Trying different types of regularization\n",
    "    'lr__penalty':['l2'],\n",
    "\n",
    "     # Trying different C of: 10, 1, 0.1 (C = 1/alpha)\n",
    "    'lr__C':[9, 9.25, 9.5]\n",
    "}\n",
    "\n",
    "tvec_lr_params_V3 = {\n",
    "    # Setting a limit of n-number of features included\n",
    "    'tvec__max_features': [None],\n",
    "    \n",
    "    # Setting a minimum number of times the \n",
    "    # word/token has to appear in n-documents\n",
    "    'tvec__min_df':[2],\n",
    "    \n",
    "    # Setting an upper threshold/max percentage \n",
    "    # of n% of documents from corpus\n",
    "    'tvec__max_df': [0.25, 0.3, 0.35],\n",
    "    \n",
    "    # Testing with ngrams\n",
    "    'tvec__ngram_range':[(1, 1), (1,2), (1,3)]\n",
    "}"
   ]
  },
  {
   "cell_type": "code",
   "execution_count": 389,
   "id": "24b0a419",
   "metadata": {},
   "outputs": [
    {
     "name": "stdout",
     "output_type": "stream",
     "text": [
      "Fitting 5 folds for each of 27 candidates, totalling 135 fits\n",
      "BEST PARAMS-->\n"
     ]
    },
    {
     "data": {
      "text/plain": [
       "{'lr__C': 9,\n",
       " 'lr__penalty': 'l2',\n",
       " 'tvec__max_df': 0.35,\n",
       " 'tvec__max_features': None,\n",
       " 'tvec__min_df': 2,\n",
       " 'tvec__ngram_range': (1, 2)}"
      ]
     },
     "metadata": {},
     "output_type": "display_data"
    },
    {
     "name": "stdout",
     "output_type": "stream",
     "text": [
      "METRICS-->\n"
     ]
    },
    {
     "data": {
      "text/plain": [
       "{'model_name': 'tvec_lr_gs_V3',\n",
       " 'model': 'lr',\n",
       " 'vectorizer': 'tvec',\n",
       " 'train_score': 0.9959326342548459,\n",
       " 'test_score': 0.8439247585155059,\n",
       " 'recall': 0.8240693523712391,\n",
       " 'true_neg_rate': 0.863659401926001,\n",
       " 'precision': 0.8572944297082228,\n",
       " 'is_tuned': True}"
      ]
     },
     "metadata": {},
     "output_type": "display_data"
    },
    {
     "name": "stdout",
     "output_type": "stream",
     "text": [
      "True Negatives: 1704\n",
      "False Positives: 269\n",
      "False Negatives: 345\n",
      "True Positives: 1616\n"
     ]
    }
   ],
   "source": [
    "tvec_lr_gs_V3 = get_model_scores_V2('tvec_lr_gs_V3', \n",
    "                              'tvec', \n",
    "                              'lr', \n",
    "                              vec_params=tvec_lr_params_V3, \n",
    "                              mod_params=lr_params_V3, \n",
    "                              grid_search=True)"
   ]
  },
  {
   "cell_type": "markdown",
   "id": "db8e7feb",
   "metadata": {},
   "source": [
    "---"
   ]
  },
  {
   "cell_type": "code",
   "execution_count": 393,
   "id": "4ad0cc45",
   "metadata": {},
   "outputs": [],
   "source": [
    "lr_params_V4 = {\n",
    "    # Trying different types of regularization\n",
    "    'lr__penalty':['l2'],\n",
    "\n",
    "     # Trying different C of: 10, 1, 0.1 (C = 1/alpha)\n",
    "    'lr__C':[11]\n",
    "}\n",
    "\n",
    "tvec_lr_params_V4 = {\n",
    "    # Setting a limit of n-number of features included\n",
    "    'tvec__max_features': [None],\n",
    "    \n",
    "    # Setting a minimum number of times the \n",
    "    # word/token has to appear in n-documents\n",
    "    'tvec__min_df':[2],\n",
    "    \n",
    "    # Setting an upper threshold/max percentage \n",
    "    # of n% of documents from corpus\n",
    "    'tvec__max_df': [0.35, 0.36, 0.37],\n",
    "    \n",
    "    # Testing with ngrams\n",
    "    'tvec__ngram_range':[(1, 2)]\n",
    "}"
   ]
  },
  {
   "cell_type": "code",
   "execution_count": 394,
   "id": "ec46ad3a",
   "metadata": {},
   "outputs": [
    {
     "name": "stdout",
     "output_type": "stream",
     "text": [
      "Fitting 5 folds for each of 3 candidates, totalling 15 fits\n",
      "BEST PARAMS-->\n"
     ]
    },
    {
     "data": {
      "text/plain": [
       "{'lr__C': 11,\n",
       " 'lr__penalty': 'l2',\n",
       " 'tvec__max_df': 0.35,\n",
       " 'tvec__max_features': None,\n",
       " 'tvec__min_df': 2,\n",
       " 'tvec__ngram_range': (1, 2)}"
      ]
     },
     "metadata": {},
     "output_type": "display_data"
    },
    {
     "name": "stdout",
     "output_type": "stream",
     "text": [
      "METRICS-->\n"
     ]
    },
    {
     "data": {
      "text/plain": [
       "{'model_name': 'tvec_lr_gs_V4',\n",
       " 'model': 'lr',\n",
       " 'vectorizer': 'tvec',\n",
       " 'train_score': 0.998093422306959,\n",
       " 'test_score': 0.8434163701067615,\n",
       " 'recall': 0.8225395206527282,\n",
       " 'true_neg_rate': 0.8641662442980234,\n",
       " 'precision': 0.8575225943646996,\n",
       " 'is_tuned': True}"
      ]
     },
     "metadata": {},
     "output_type": "display_data"
    },
    {
     "name": "stdout",
     "output_type": "stream",
     "text": [
      "True Negatives: 1705\n",
      "False Positives: 268\n",
      "False Negatives: 348\n",
      "True Positives: 1613\n"
     ]
    }
   ],
   "source": [
    "tvec_lr_gs_V4 = get_model_scores_V2('tvec_lr_gs_V4', \n",
    "                              'tvec', \n",
    "                              'lr', \n",
    "                              vec_params=tvec_lr_params_V4, \n",
    "                              mod_params=lr_params_V4, \n",
    "                              grid_search=True)"
   ]
  },
  {
   "cell_type": "markdown",
   "id": "3ed6584a",
   "metadata": {},
   "source": [
    "---"
   ]
  },
  {
   "cell_type": "code",
   "execution_count": 398,
   "id": "080f66c1",
   "metadata": {},
   "outputs": [],
   "source": [
    "lr_params_V5 = {\n",
    "    # Trying different types of regularization\n",
    "    'lr__penalty':['l2'],\n",
    "\n",
    "     # Trying different C of: 10, 1, 0.1 (C = 1/alpha)\n",
    "    'lr__C':[5, 6, 7, 8, 9, 10, 11, 12]\n",
    "}\n",
    "\n",
    "tvec_lr_params_V5 = {\n",
    "    # Setting a limit of n-number of features included\n",
    "    'tvec__max_features': [None],\n",
    "    \n",
    "    # Setting a minimum number of times the \n",
    "    # word/token has to appear in n-documents\n",
    "    'tvec__min_df':[2],\n",
    "    \n",
    "    # Setting an upper threshold/max percentage \n",
    "    # of n% of documents from corpus\n",
    "    'tvec__max_df': [0.3, 0.35, 0.4],\n",
    "    \n",
    "    # Testing with ngrams\n",
    "    'tvec__ngram_range':[(1, 2)]\n",
    "}"
   ]
  },
  {
   "cell_type": "code",
   "execution_count": 399,
   "id": "61857734",
   "metadata": {},
   "outputs": [
    {
     "name": "stdout",
     "output_type": "stream",
     "text": [
      "Fitting 5 folds for each of 24 candidates, totalling 120 fits\n",
      "BEST PARAMS-->\n"
     ]
    },
    {
     "data": {
      "text/plain": [
       "{'lr__C': 5,\n",
       " 'lr__penalty': 'l2',\n",
       " 'tvec__max_df': 0.35,\n",
       " 'tvec__max_features': None,\n",
       " 'tvec__min_df': 2,\n",
       " 'tvec__ngram_range': (1, 2)}"
      ]
     },
     "metadata": {},
     "output_type": "display_data"
    },
    {
     "name": "stdout",
     "output_type": "stream",
     "text": [
      "METRICS-->\n"
     ]
    },
    {
     "data": {
      "text/plain": [
       "{'model_name': 'tvec_lr_gs_V5',\n",
       " 'model': 'lr',\n",
       " 'vectorizer': 'tvec',\n",
       " 'train_score': 0.9856371147124245,\n",
       " 'test_score': 0.8454499237417387,\n",
       " 'recall': 0.8245792962774094,\n",
       " 'true_neg_rate': 0.8661936137861125,\n",
       " 'precision': 0.8596491228070176,\n",
       " 'is_tuned': True}"
      ]
     },
     "metadata": {},
     "output_type": "display_data"
    },
    {
     "name": "stdout",
     "output_type": "stream",
     "text": [
      "True Negatives: 1709\n",
      "False Positives: 264\n",
      "False Negatives: 344\n",
      "True Positives: 1617\n"
     ]
    }
   ],
   "source": [
    "tvec_lr_gs_V5 = get_model_scores_V2('tvec_lr_gs_V5', \n",
    "                              'tvec', \n",
    "                              'lr', \n",
    "                              vec_params=tvec_lr_params_V5, \n",
    "                              mod_params=lr_params_V5, \n",
    "                              grid_search=True)"
   ]
  },
  {
   "cell_type": "markdown",
   "id": "3a3107e2",
   "metadata": {},
   "source": [
    "We believe that we have pushed this model as far as it can go as well in terms of balance between `accuracy` and `precision`, and maximizing `precision`.\n",
    "Let's review the results between the different models."
   ]
  },
  {
   "cell_type": "code",
   "execution_count": 400,
   "id": "20bf4725",
   "metadata": {},
   "outputs": [
    {
     "data": {
      "text/html": [
       "<div>\n",
       "<style scoped>\n",
       "    .dataframe tbody tr th:only-of-type {\n",
       "        vertical-align: middle;\n",
       "    }\n",
       "\n",
       "    .dataframe tbody tr th {\n",
       "        vertical-align: top;\n",
       "    }\n",
       "\n",
       "    .dataframe thead th {\n",
       "        text-align: right;\n",
       "    }\n",
       "</style>\n",
       "<table border=\"1\" class=\"dataframe\">\n",
       "  <thead>\n",
       "    <tr style=\"text-align: right;\">\n",
       "      <th></th>\n",
       "      <th>model_name</th>\n",
       "      <th>model</th>\n",
       "      <th>vectorizer</th>\n",
       "      <th>train_score</th>\n",
       "      <th>test_score</th>\n",
       "      <th>recall</th>\n",
       "      <th>true_neg_rate</th>\n",
       "      <th>precision</th>\n",
       "      <th>is_tuned</th>\n",
       "    </tr>\n",
       "  </thead>\n",
       "  <tbody>\n",
       "    <tr>\n",
       "      <th>16</th>\n",
       "      <td>tvec_lr_gs_V5</td>\n",
       "      <td>lr</td>\n",
       "      <td>tvec</td>\n",
       "      <td>0.985637</td>\n",
       "      <td>0.845450</td>\n",
       "      <td>0.824579</td>\n",
       "      <td>0.866194</td>\n",
       "      <td>0.859649</td>\n",
       "      <td>True</td>\n",
       "    </tr>\n",
       "    <tr>\n",
       "      <th>13</th>\n",
       "      <td>tvec_lr_gs_V2</td>\n",
       "      <td>lr</td>\n",
       "      <td>tvec</td>\n",
       "      <td>0.996568</td>\n",
       "      <td>0.843925</td>\n",
       "      <td>0.822030</td>\n",
       "      <td>0.865687</td>\n",
       "      <td>0.858817</td>\n",
       "      <td>True</td>\n",
       "    </tr>\n",
       "    <tr>\n",
       "      <th>14</th>\n",
       "      <td>tvec_lr_gs_V3</td>\n",
       "      <td>lr</td>\n",
       "      <td>tvec</td>\n",
       "      <td>0.995933</td>\n",
       "      <td>0.843925</td>\n",
       "      <td>0.824069</td>\n",
       "      <td>0.863659</td>\n",
       "      <td>0.857294</td>\n",
       "      <td>True</td>\n",
       "    </tr>\n",
       "    <tr>\n",
       "      <th>15</th>\n",
       "      <td>tvec_lr_gs_V4</td>\n",
       "      <td>lr</td>\n",
       "      <td>tvec</td>\n",
       "      <td>0.995234</td>\n",
       "      <td>0.843925</td>\n",
       "      <td>0.824069</td>\n",
       "      <td>0.863659</td>\n",
       "      <td>0.857294</td>\n",
       "      <td>True</td>\n",
       "    </tr>\n",
       "    <tr>\n",
       "      <th>11</th>\n",
       "      <td>tvec_nb_gs_V3</td>\n",
       "      <td>nb</td>\n",
       "      <td>tvec</td>\n",
       "      <td>0.919415</td>\n",
       "      <td>0.838332</td>\n",
       "      <td>0.822540</td>\n",
       "      <td>0.854029</td>\n",
       "      <td>0.848501</td>\n",
       "      <td>True</td>\n",
       "    </tr>\n",
       "  </tbody>\n",
       "</table>\n",
       "</div>"
      ],
      "text/plain": [
       "       model_name model vectorizer  train_score  test_score    recall  \\\n",
       "16  tvec_lr_gs_V5    lr       tvec     0.985637    0.845450  0.824579   \n",
       "13  tvec_lr_gs_V2    lr       tvec     0.996568    0.843925  0.822030   \n",
       "14  tvec_lr_gs_V3    lr       tvec     0.995933    0.843925  0.824069   \n",
       "15  tvec_lr_gs_V4    lr       tvec     0.995234    0.843925  0.824069   \n",
       "11  tvec_nb_gs_V3    nb       tvec     0.919415    0.838332  0.822540   \n",
       "\n",
       "    true_neg_rate  precision  is_tuned  \n",
       "16       0.866194   0.859649      True  \n",
       "13       0.865687   0.858817      True  \n",
       "14       0.863659   0.857294      True  \n",
       "15       0.863659   0.857294      True  \n",
       "11       0.854029   0.848501      True  "
      ]
     },
     "execution_count": 400,
     "metadata": {},
     "output_type": "execute_result"
    }
   ],
   "source": [
    "model_scoresV2 = pd.DataFrame(model_eval)\n",
    "model_scoresV2[model_scoresV2['model_name'].str.contains('V')]\\\n",
    ".sort_values(by=['precision', 'test_score'], ascending=False).head()"
   ]
  },
  {
   "cell_type": "markdown",
   "id": "042d43df",
   "metadata": {},
   "source": [
    "Based on the above model, it seems that the model that performs the best is the following model:\n",
    "`LogisticRegression` with `TfidfVectorizer` with the following parameters:<br>\n",
    "\n",
    "**LogisticRegression**\n",
    "- Penalty Type: `l2`\n",
    "- Inverse Regularization Strength of `9.9` (`C`)\n",
    "\n",
    "**TfidfVectorizer**\n",
    "- `max_df` of `0.4`\n",
    "- `min_df` of `2`\n",
    "- `ngram_range` of `(1, 2)`"
   ]
  },
  {
   "cell_type": "markdown",
   "id": "ce083294",
   "metadata": {},
   "source": [
    "# Error Analysis"
   ]
  },
  {
   "cell_type": "markdown",
   "id": "81e5bd87",
   "metadata": {},
   "source": [
    "Now we will take a look at some error analysis based on our final model."
   ]
  },
  {
   "cell_type": "code",
   "execution_count": 501,
   "id": "4b485cea",
   "metadata": {},
   "outputs": [],
   "source": [
    "# creating dataframe with coefs to obtain top words in our model\n",
    "coefs = pd.DataFrame(tvec_lr_gs_V5.best_estimator_.steps[1][1].coef_.T, columns=['coef'])\n",
    "coefs['ngram'] = tvec_lr_gs_V5.best_estimator_.steps[0][1].get_feature_names_out()\n",
    "\n",
    "# obtaining top words for 'r/keto' and 'r/zerocarb'\n",
    "top_keto_coefs = coefs.sort_values('coef', ascending=True).head(20)\n",
    "top_zerocarb_coefs = coefs.sort_values('coef', ascending=True).tail(20)"
   ]
  },
  {
   "cell_type": "code",
   "execution_count": 502,
   "id": "b75a8ea0",
   "metadata": {},
   "outputs": [
    {
     "data": {
      "image/png": "[encoded data removed]",
      "text/plain": [
       "<Figure size 720x720 with 1 Axes>"
      ]
     },
     "metadata": {
      "needs_background": "light"
     },
     "output_type": "display_data"
    }
   ],
   "source": [
    "# creating chart of top 20 words\n",
    "plt.figure(figsize=(10,10))\n",
    "sns.barplot(data=top_keto_coefs, x=-top_keto_coefs['coef'], y='ngram', palette='Blues_r')\n",
    "plt.ylabel('')\n",
    "plt.title('Top 20 Ngrams Correlated with r/keto', fontsize=20);"
   ]
  },
  {
   "cell_type": "markdown",
   "id": "dce94639",
   "metadata": {},
   "source": [
    "From the above two charts, we can see that the top words associated with our best model for `r/keto` mentions very few food items, and more of diet terminologies, e.g. 'Macros', 'goal', 'weight'. Surprisingly, it seems that covid was mentioned many times, which might be because of concerns with whether the Keto diet will interfere with covid immunity."
   ]
  },
  {
   "cell_type": "code",
   "execution_count": 503,
   "id": "14882654",
   "metadata": {},
   "outputs": [
    {
     "data": {
      "image/png": "[encoded data removed]",
      "text/plain": [
       "<Figure size 720x720 with 1 Axes>"
      ]
     },
     "metadata": {
      "needs_background": "light"
     },
     "output_type": "display_data"
    }
   ],
   "source": [
    "# creating chart of top 20 words\n",
    "plt.figure(figsize=(10,10))\n",
    "sns.barplot(data=top_zerocarb_coefs, x=top_zerocarb_coefs['coef'], y='ngram', palette='Reds_r')\n",
    "plt.ylabel('')\n",
    "plt.title('Top 20 Ngrams Correlated with r/zerocarb', fontsize=20);"
   ]
  },
  {
   "cell_type": "markdown",
   "id": "fc473f26",
   "metadata": {},
   "source": [
    "From the above chart, we can see that the top words associated with our best model for `r/keto` mentions no diet terminologies, and is mainly made up of words for meat items, e.g. 'steaks', 'lamb', 'pork'. Surprisingly, there is a word called `woe`, mentioned many times. Upon some research, we found out that `woe` is actually referring to 'way of eating' and it is commonly used among those individuals who follow a 'carnivore' diet. As such, we will remove this word, and rerun our baseline model, and our latest model."
   ]
  },
  {
   "cell_type": "markdown",
   "id": "142ad539",
   "metadata": {},
   "source": [
    "# Rerun Modeling"
   ]
  },
  {
   "cell_type": "code",
   "execution_count": 504,
   "id": "943036b3",
   "metadata": {},
   "outputs": [],
   "source": [
    "# adding 'woe' to stop words\n",
    "custom_stop_words += ['woe']"
   ]
  },
  {
   "cell_type": "code",
   "execution_count": 419,
   "id": "c7b03eb8",
   "metadata": {},
   "outputs": [
    {
     "data": {
      "text/plain": [
       "0.8136756481952212"
      ]
     },
     "execution_count": 419,
     "metadata": {},
     "output_type": "execute_result"
    }
   ],
   "source": [
    "# creating pipeline for baseline model\n",
    "pipe_baseline = Pipeline([\n",
    "    ('tvec', TfidfVectorizer(stop_words=custom_stop_words)),\n",
    "    ('nb', MultinomialNB())]\n",
    ")\n",
    "\n",
    "pipe_baseline.fit(X_train, y_train)\n",
    "\n",
    "pipe_baseline.score(X_test, y_test)"
   ]
  },
  {
   "cell_type": "code",
   "execution_count": 420,
   "id": "b35d9d61",
   "metadata": {},
   "outputs": [
    {
     "name": "stdout",
     "output_type": "stream",
     "text": [
      "True Negatives: 1747\n",
      "False Positives: 226\n",
      "False Negatives: 507\n",
      "True Positives: 1454\n"
     ]
    }
   ],
   "source": [
    "bm_predictions = pipe_baseline.predict(X_test)\n",
    "\n",
    "tn, fp, fn, tp = confusion_matrix(y_test, bm_predictions).ravel()\n",
    "\n",
    "print(f'True Negatives: {tn}')\n",
    "print(f'False Positives: {fp}')\n",
    "print(f'False Negatives: {fn}')\n",
    "print(f'True Positives: {tp}')"
   ]
  },
  {
   "cell_type": "code",
   "execution_count": 428,
   "id": "1a874e9b",
   "metadata": {},
   "outputs": [
    {
     "data": {
      "text/plain": [
       "0.8136756481952212"
      ]
     },
     "metadata": {},
     "output_type": "display_data"
    },
    {
     "data": {
      "text/plain": [
       "0.8654761904761905"
      ]
     },
     "metadata": {},
     "output_type": "display_data"
    }
   ],
   "source": [
    "display(accuracy_score(y_test, bm_predictions))\n",
    "display(precision_score(y_test, bm_predictions))"
   ]
  },
  {
   "cell_type": "markdown",
   "id": "341f29e9",
   "metadata": {},
   "source": [
    "Our initial baseline score was **82.7%**, now our baseline score is **81.3%**. In the interest of time we will attempt to retune our `LogisticRegression` model, with `TfidfVectorizer` and attempt to get a better `accuracy` and `precision` score."
   ]
  },
  {
   "cell_type": "markdown",
   "id": "31c110c6",
   "metadata": {},
   "source": [
    "### Retune of LogReg model"
   ]
  },
  {
   "cell_type": "code",
   "execution_count": 424,
   "id": "462b9e82",
   "metadata": {},
   "outputs": [],
   "source": [
    "lr_params_V6 = {\n",
    "    # Trying different types of regularization\n",
    "    'lr__penalty':['l2'],\n",
    "\n",
    "     # Trying different C of: 10, 1, 0.1 (C = 1/alpha)\n",
    "    'lr__C':[5, 6, 7, 8, 9, 10, 11, 12]\n",
    "}\n",
    "\n",
    "tvec_lr_params_V6 = {\n",
    "    # Setting a limit of n-number of features included\n",
    "    'tvec__max_features': [None],\n",
    "    \n",
    "    # Setting a minimum number of times the \n",
    "    # word/token has to appear in n-documents\n",
    "    'tvec__min_df':[2, 3, 4],\n",
    "    \n",
    "    # Setting an upper threshold/max percentage \n",
    "    # of n% of documents from corpus\n",
    "    'tvec__max_df': [0.2, 0.25, 0.3, 0.35],\n",
    "    \n",
    "    # Testing with ngrams\n",
    "    'tvec__ngram_range':[(1, 2)]\n",
    "}"
   ]
  },
  {
   "cell_type": "code",
   "execution_count": 425,
   "id": "81fa6966",
   "metadata": {},
   "outputs": [
    {
     "name": "stdout",
     "output_type": "stream",
     "text": [
      "Fitting 5 folds for each of 96 candidates, totalling 480 fits\n",
      "BEST PARAMS-->\n"
     ]
    },
    {
     "data": {
      "text/plain": [
       "{'lr__C': 6,\n",
       " 'lr__penalty': 'l2',\n",
       " 'tvec__max_df': 0.3,\n",
       " 'tvec__max_features': None,\n",
       " 'tvec__min_df': 2,\n",
       " 'tvec__ngram_range': (1, 2)}"
      ]
     },
     "metadata": {},
     "output_type": "display_data"
    },
    {
     "name": "stdout",
     "output_type": "stream",
     "text": [
      "METRICS-->\n"
     ]
    },
    {
     "data": {
      "text/plain": [
       "{'model_name': 'tvec_lr_gs_V6',\n",
       " 'model': 'lr',\n",
       " 'vectorizer': 'tvec',\n",
       " 'train_score': 0.9897044804575786,\n",
       " 'test_score': 0.8403660396542959,\n",
       " 'recall': 0.818969913309536,\n",
       " 'true_neg_rate': 0.8616320324379118,\n",
       " 'precision': 0.854709952102182,\n",
       " 'is_tuned': True}"
      ]
     },
     "metadata": {},
     "output_type": "display_data"
    },
    {
     "name": "stdout",
     "output_type": "stream",
     "text": [
      "True Negatives: 1700\n",
      "False Positives: 273\n",
      "False Negatives: 355\n",
      "True Positives: 1606\n"
     ]
    }
   ],
   "source": [
    "tvec_lr_gs_V6 = get_model_scores_V2('tvec_lr_gs_V6', \n",
    "                              'tvec', \n",
    "                              'lr', \n",
    "                              vec_params=tvec_lr_params_V6, \n",
    "                              mod_params=lr_params_V6, \n",
    "                              grid_search=True)"
   ]
  },
  {
   "cell_type": "markdown",
   "id": "492f2ab4",
   "metadata": {},
   "source": [
    "We can see that our `LogisticRegression` model, with `TfidfVectorizer`, is performing better than our baseline model, with accuracy at **84%** better by **1.3%**. Our `precision` score has deproved slightly by **1%**. Let's see if we can tune this more."
   ]
  },
  {
   "cell_type": "code",
   "execution_count": 432,
   "id": "eb9734cb",
   "metadata": {},
   "outputs": [],
   "source": [
    "lr_params_V7 = {\n",
    "    # Trying different types of regularization\n",
    "    'lr__penalty':['l2'],\n",
    "\n",
    "     # Trying different C of: 10, 1, 0.1 (C = 1/alpha)\n",
    "    'lr__C':[5.5, 6, 6.5]\n",
    "}\n",
    "\n",
    "tvec_lr_params_V7 = {\n",
    "    # Setting a limit of n-number of features included\n",
    "    'tvec__max_features': [None],\n",
    "    \n",
    "    # Setting a minimum number of times the \n",
    "    # word/token has to appear in n-documents\n",
    "    'tvec__min_df':[1.5, 2, 2.5],\n",
    "    \n",
    "    # Setting an upper threshold/max percentage \n",
    "    # of n% of documents from corpus\n",
    "    'tvec__max_df': [0.3,],\n",
    "    \n",
    "    # Testing with ngrams\n",
    "    'tvec__ngram_range':[(1, 1), (1, 2), (1, 3)]\n",
    "}"
   ]
  },
  {
   "cell_type": "code",
   "execution_count": 433,
   "id": "9185b863",
   "metadata": {},
   "outputs": [
    {
     "name": "stdout",
     "output_type": "stream",
     "text": [
      "Fitting 5 folds for each of 27 candidates, totalling 135 fits\n"
     ]
    },
    {
     "name": "stderr",
     "output_type": "stream",
     "text": [
      "C:\\Users\\Jayy Jangam\\.conda\\envs\\dsi\\lib\\site-packages\\sklearn\\model_selection\\_validation.py:372: FitFailedWarning: \n",
      "90 fits failed out of a total of 135.\n",
      "The score on these train-test partitions for these parameters will be set to nan.\n",
      "If these failures are not expected, you can try to debug them by setting error_score='raise'.\n",
      "\n",
      "Below are more details about the failures:\n",
      "--------------------------------------------------------------------------------\n",
      "45 fits failed with the following error:\n",
      "Traceback (most recent call last):\n",
      "  File \"C:\\Users\\Jayy Jangam\\.conda\\envs\\dsi\\lib\\site-packages\\sklearn\\model_selection\\_validation.py\", line 680, in _fit_and_score\n",
      "    estimator.fit(X_train, y_train, **fit_params)\n",
      "  File \"C:\\Users\\Jayy Jangam\\.conda\\envs\\dsi\\lib\\site-packages\\sklearn\\pipeline.py\", line 390, in fit\n",
      "    Xt = self._fit(X, y, **fit_params_steps)\n",
      "  File \"C:\\Users\\Jayy Jangam\\.conda\\envs\\dsi\\lib\\site-packages\\sklearn\\pipeline.py\", line 348, in _fit\n",
      "    X, fitted_transformer = fit_transform_one_cached(\n",
      "  File \"C:\\Users\\Jayy Jangam\\.conda\\envs\\dsi\\lib\\site-packages\\joblib\\memory.py\", line 349, in __call__\n",
      "    return self.func(*args, **kwargs)\n",
      "  File \"C:\\Users\\Jayy Jangam\\.conda\\envs\\dsi\\lib\\site-packages\\sklearn\\pipeline.py\", line 893, in _fit_transform_one\n",
      "    res = transformer.fit_transform(X, y, **fit_params)\n",
      "  File \"C:\\Users\\Jayy Jangam\\.conda\\envs\\dsi\\lib\\site-packages\\sklearn\\feature_extraction\\text.py\", line 2077, in fit_transform\n",
      "    X = super().fit_transform(raw_documents)\n",
      "  File \"C:\\Users\\Jayy Jangam\\.conda\\envs\\dsi\\lib\\site-packages\\sklearn\\feature_extraction\\text.py\", line 1313, in fit_transform\n",
      "    self._validate_params()\n",
      "  File \"C:\\Users\\Jayy Jangam\\.conda\\envs\\dsi\\lib\\site-packages\\sklearn\\feature_extraction\\text.py\", line 1259, in _validate_params\n",
      "    check_scalar(self.min_df, \"min_df\", numbers.Real, min_val=0.0, max_val=1.0)\n",
      "  File \"C:\\Users\\Jayy Jangam\\.conda\\envs\\dsi\\lib\\site-packages\\sklearn\\utils\\validation.py\", line 1329, in check_scalar\n",
      "    raise ValueError(\n",
      "ValueError: min_df == 1.5, must be <= 1.0.\n",
      "\n",
      "--------------------------------------------------------------------------------\n",
      "45 fits failed with the following error:\n",
      "Traceback (most recent call last):\n",
      "  File \"C:\\Users\\Jayy Jangam\\.conda\\envs\\dsi\\lib\\site-packages\\sklearn\\model_selection\\_validation.py\", line 680, in _fit_and_score\n",
      "    estimator.fit(X_train, y_train, **fit_params)\n",
      "  File \"C:\\Users\\Jayy Jangam\\.conda\\envs\\dsi\\lib\\site-packages\\sklearn\\pipeline.py\", line 390, in fit\n",
      "    Xt = self._fit(X, y, **fit_params_steps)\n",
      "  File \"C:\\Users\\Jayy Jangam\\.conda\\envs\\dsi\\lib\\site-packages\\sklearn\\pipeline.py\", line 348, in _fit\n",
      "    X, fitted_transformer = fit_transform_one_cached(\n",
      "  File \"C:\\Users\\Jayy Jangam\\.conda\\envs\\dsi\\lib\\site-packages\\joblib\\memory.py\", line 349, in __call__\n",
      "    return self.func(*args, **kwargs)\n",
      "  File \"C:\\Users\\Jayy Jangam\\.conda\\envs\\dsi\\lib\\site-packages\\sklearn\\pipeline.py\", line 893, in _fit_transform_one\n",
      "    res = transformer.fit_transform(X, y, **fit_params)\n",
      "  File \"C:\\Users\\Jayy Jangam\\.conda\\envs\\dsi\\lib\\site-packages\\sklearn\\feature_extraction\\text.py\", line 2077, in fit_transform\n",
      "    X = super().fit_transform(raw_documents)\n",
      "  File \"C:\\Users\\Jayy Jangam\\.conda\\envs\\dsi\\lib\\site-packages\\sklearn\\feature_extraction\\text.py\", line 1313, in fit_transform\n",
      "    self._validate_params()\n",
      "  File \"C:\\Users\\Jayy Jangam\\.conda\\envs\\dsi\\lib\\site-packages\\sklearn\\feature_extraction\\text.py\", line 1259, in _validate_params\n",
      "    check_scalar(self.min_df, \"min_df\", numbers.Real, min_val=0.0, max_val=1.0)\n",
      "  File \"C:\\Users\\Jayy Jangam\\.conda\\envs\\dsi\\lib\\site-packages\\sklearn\\utils\\validation.py\", line 1329, in check_scalar\n",
      "    raise ValueError(\n",
      "ValueError: min_df == 2.5, must be <= 1.0.\n",
      "\n",
      "  warnings.warn(some_fits_failed_message, FitFailedWarning)\n",
      "C:\\Users\\Jayy Jangam\\.conda\\envs\\dsi\\lib\\site-packages\\sklearn\\model_selection\\_search.py:969: UserWarning: One or more of the test scores are non-finite: [       nan        nan        nan 0.83219368 0.84689765 0.84801291\n",
      "        nan        nan        nan        nan        nan        nan\n",
      " 0.83154669 0.84713353 0.84836478        nan        nan        nan\n",
      "        nan        nan        nan 0.83094213 0.84740461 0.84801815\n",
      "        nan        nan        nan]\n",
      "  warnings.warn(\n",
      "C:\\Users\\Jayy Jangam\\.conda\\envs\\dsi\\lib\\site-packages\\sklearn\\model_selection\\_search.py:969: UserWarning: One or more of the test scores are non-finite: [       nan        nan        nan 0.8305688  0.83972037 0.83940261\n",
      "        nan        nan        nan        nan        nan        nan\n",
      " 0.82986972 0.84022879 0.83972037        nan        nan        nan\n",
      "        nan        nan        nan 0.82929774 0.84022879 0.83952971\n",
      "        nan        nan        nan]\n",
      "  warnings.warn(\n"
     ]
    },
    {
     "name": "stdout",
     "output_type": "stream",
     "text": [
      "BEST PARAMS-->\n"
     ]
    },
    {
     "data": {
      "text/plain": [
       "{'lr__C': 6,\n",
       " 'lr__penalty': 'l2',\n",
       " 'tvec__max_df': 0.3,\n",
       " 'tvec__max_features': None,\n",
       " 'tvec__min_df': 2,\n",
       " 'tvec__ngram_range': (1, 2)}"
      ]
     },
     "metadata": {},
     "output_type": "display_data"
    },
    {
     "name": "stdout",
     "output_type": "stream",
     "text": [
      "METRICS-->\n"
     ]
    },
    {
     "data": {
      "text/plain": [
       "{'model_name': 'tvec_lr_gs_V7',\n",
       " 'model': 'lr',\n",
       " 'vectorizer': 'tvec',\n",
       " 'train_score': 0.9897044804575786,\n",
       " 'test_score': 0.8403660396542959,\n",
       " 'recall': 0.818969913309536,\n",
       " 'true_neg_rate': 0.8616320324379118,\n",
       " 'precision': 0.854709952102182,\n",
       " 'is_tuned': True}"
      ]
     },
     "metadata": {},
     "output_type": "display_data"
    },
    {
     "name": "stdout",
     "output_type": "stream",
     "text": [
      "True Negatives: 1700\n",
      "False Positives: 273\n",
      "False Negatives: 355\n",
      "True Positives: 1606\n"
     ]
    }
   ],
   "source": [
    "tvec_lr_gs_V7 = get_model_scores_V2('tvec_lr_gs_V7', \n",
    "                              'tvec', \n",
    "                              'lr', \n",
    "                              vec_params=tvec_lr_params_V7, \n",
    "                              mod_params=lr_params_V7, \n",
    "                              grid_search=True)"
   ]
  },
  {
   "cell_type": "markdown",
   "id": "685b5fd5",
   "metadata": {},
   "source": [
    "We believe that we have pushed this model as far as it can go in terms of balance between `accuracy` and `precision`.\n",
    "In the interest of time, we will stick to `LogisticRegression` with `TfidfVectorizer` model V6, or model V7. Let's review the results between the different models."
   ]
  },
  {
   "cell_type": "markdown",
   "id": "54979b10",
   "metadata": {},
   "source": [
    "---"
   ]
  },
  {
   "cell_type": "code",
   "execution_count": 538,
   "id": "cf99e8d3",
   "metadata": {},
   "outputs": [
    {
     "data": {
      "text/html": [
       "<div>\n",
       "<style scoped>\n",
       "    .dataframe tbody tr th:only-of-type {\n",
       "        vertical-align: middle;\n",
       "    }\n",
       "\n",
       "    .dataframe tbody tr th {\n",
       "        vertical-align: top;\n",
       "    }\n",
       "\n",
       "    .dataframe thead th {\n",
       "        text-align: right;\n",
       "    }\n",
       "</style>\n",
       "<table border=\"1\" class=\"dataframe\">\n",
       "  <thead>\n",
       "    <tr style=\"text-align: right;\">\n",
       "      <th></th>\n",
       "      <th>model_name</th>\n",
       "      <th>model</th>\n",
       "      <th>vectorizer</th>\n",
       "      <th>test_score</th>\n",
       "      <th>precision</th>\n",
       "      <th>is_tuned</th>\n",
       "    </tr>\n",
       "  </thead>\n",
       "  <tbody>\n",
       "    <tr>\n",
       "      <th>17</th>\n",
       "      <td>tvec_lr_gs_V6</td>\n",
       "      <td>lr</td>\n",
       "      <td>tvec</td>\n",
       "      <td>0.840366</td>\n",
       "      <td>0.85471</td>\n",
       "      <td>True</td>\n",
       "    </tr>\n",
       "    <tr>\n",
       "      <th>18</th>\n",
       "      <td>tvec_lr_gs_V7</td>\n",
       "      <td>lr</td>\n",
       "      <td>tvec</td>\n",
       "      <td>0.840366</td>\n",
       "      <td>0.85471</td>\n",
       "      <td>True</td>\n",
       "    </tr>\n",
       "  </tbody>\n",
       "</table>\n",
       "</div>"
      ],
      "text/plain": [
       "       model_name model vectorizer  test_score  precision  is_tuned\n",
       "17  tvec_lr_gs_V6    lr       tvec    0.840366    0.85471      True\n",
       "18  tvec_lr_gs_V7    lr       tvec    0.840366    0.85471      True"
      ]
     },
     "execution_count": 538,
     "metadata": {},
     "output_type": "execute_result"
    }
   ],
   "source": [
    "model_scoresV2 = pd.DataFrame(model_eval)\n",
    "model_scoresV2.drop(columns=['train_score', 'recall', 'true_neg_rate'])\\\n",
    ".tail(2).sort_values(by=['precision', 'test_score'], ascending=False).head()"
   ]
  },
  {
   "cell_type": "code",
   "execution_count": 573,
   "id": "09a248d3",
   "metadata": {},
   "outputs": [
    {
     "data": {
      "text/html": [
       "<div>\n",
       "<style scoped>\n",
       "    .dataframe tbody tr th:only-of-type {\n",
       "        vertical-align: middle;\n",
       "    }\n",
       "\n",
       "    .dataframe tbody tr th {\n",
       "        vertical-align: top;\n",
       "    }\n",
       "\n",
       "    .dataframe thead th {\n",
       "        text-align: right;\n",
       "    }\n",
       "</style>\n",
       "<table border=\"1\" class=\"dataframe\">\n",
       "  <thead>\n",
       "    <tr style=\"text-align: right;\">\n",
       "      <th></th>\n",
       "      <th>model_name</th>\n",
       "      <th>model</th>\n",
       "      <th>vectorizer</th>\n",
       "      <th>test_score</th>\n",
       "      <th>precision</th>\n",
       "      <th>is_tuned</th>\n",
       "    </tr>\n",
       "  </thead>\n",
       "  <tbody>\n",
       "    <tr>\n",
       "      <th>17</th>\n",
       "      <td>tvec_lr_gs_V6</td>\n",
       "      <td>lr</td>\n",
       "      <td>tvec</td>\n",
       "      <td>0.840366</td>\n",
       "      <td>0.85471</td>\n",
       "      <td>True</td>\n",
       "    </tr>\n",
       "    <tr>\n",
       "      <th>18</th>\n",
       "      <td>tvec_lr_gs_V7</td>\n",
       "      <td>lr</td>\n",
       "      <td>tvec</td>\n",
       "      <td>0.840366</td>\n",
       "      <td>0.85471</td>\n",
       "      <td>True</td>\n",
       "    </tr>\n",
       "    <tr>\n",
       "      <th>19</th>\n",
       "      <td>baseline_model</td>\n",
       "      <td>nb</td>\n",
       "      <td>tvec</td>\n",
       "      <td>0.813670</td>\n",
       "      <td>0.86547</td>\n",
       "      <td>False</td>\n",
       "    </tr>\n",
       "  </tbody>\n",
       "</table>\n",
       "</div>"
      ],
      "text/plain": [
       "        model_name model vectorizer  test_score  precision is_tuned\n",
       "17   tvec_lr_gs_V6    lr       tvec    0.840366    0.85471     True\n",
       "18   tvec_lr_gs_V7    lr       tvec    0.840366    0.85471     True\n",
       "19  baseline_model    nb       tvec    0.813670    0.86547    False"
      ]
     },
     "execution_count": 573,
     "metadata": {},
     "output_type": "execute_result"
    }
   ],
   "source": [
    "model_scoresV2.loc[[17, 18, 19], ['model_name','model','vectorizer','test_score','precision','is_tuned']]"
   ]
  },
  {
   "cell_type": "code",
   "execution_count": 564,
   "id": "95a80539",
   "metadata": {},
   "outputs": [],
   "source": [
    "# saving our custom stop words with 'woe'\n",
    "custom_stop_words = pd.DataFrame(custom_stop_words, columns=['words'])\n",
    "custom_stop_words.to_csv('datasets/custom_stop_words.csv', index=False)"
   ]
  },
  {
   "cell_type": "markdown",
   "id": "9e25a9c1",
   "metadata": {},
   "source": [
    "Based on the above model, it seems that the model that performs the best is the following model:\n",
    "`LogisticRegression` with `TfidfVectorizer` with the following parameters:<br>\n",
    "\n",
    "**LogisticRegression**\n",
    "- Penalty Type: `l2`\n",
    "- Inverse Regularization Strength of `6` (`C`)\n",
    "\n",
    "**TfidfVectorizer**\n",
    "- `max_features`: None\n",
    "- `max_df` of `0.3`\n",
    "- `min_df` of `2`\n",
    "- `ngram_range` of `(1, 2)`"
   ]
  },
  {
   "cell_type": "markdown",
   "id": "d4653ae2",
   "metadata": {},
   "source": [
    "### Top Words"
   ]
  },
  {
   "cell_type": "markdown",
   "id": "9333679e",
   "metadata": {},
   "source": [
    "Now we will take a look at which were the top words our model used as a predictor of the classification."
   ]
  },
  {
   "cell_type": "code",
   "execution_count": 576,
   "id": "d799775d",
   "metadata": {},
   "outputs": [],
   "source": [
    "coefs = pd.DataFrame(tvec_lr_gs_V6.best_estimator_.steps[1][1].coef_.T, columns=['coef'])\n",
    "coefs['ngram'] = tvec_lr_gs_V6.best_estimator_.steps[0][1].get_feature_names_out()\n",
    "top_keto_coefs = coefs.sort_values('coef', ascending=True).head(20)\n",
    "top_zerocarb_coefs = coefs.sort_values('coef', ascending=True).tail(20)"
   ]
  },
  {
   "cell_type": "code",
   "execution_count": 577,
   "id": "21d24d70",
   "metadata": {},
   "outputs": [
    {
     "data": {
      "image/png": "[encoded data removed]",
      "text/plain": [
       "<Figure size 720x720 with 1 Axes>"
      ]
     },
     "metadata": {
      "needs_background": "light"
     },
     "output_type": "display_data"
    }
   ],
   "source": [
    "plt.figure(figsize=(10,10))\n",
    "sns.barplot(data=top_keto_coefs, x=-top_keto_coefs['coef'], y='ngram', palette='Blues_r')\n",
    "# plt.xticks(np.arange(0, 6, step=1))\n",
    "plt.ylabel('')\n",
    "plt.title('Top 20 Ngrams Correlated with r/keto', fontsize=20);"
   ]
  },
  {
   "cell_type": "markdown",
   "id": "4c0340aa",
   "metadata": {},
   "source": [
    "From the above charts, we can see that the top words associated with our best model for `r/keto` mentions very few food items, and more of diet terminologies, e.g. 'Macros', 'goal', 'weight'. Surprisingly, it seems that covid was mentioned many times, which might be because of concerns with whether the Keto diet will interfere with covid immunity."
   ]
  },
  {
   "cell_type": "code",
   "execution_count": 578,
   "id": "4a7be48a",
   "metadata": {},
   "outputs": [
    {
     "data": {
      "image/png": "[encoded data removed]",
      "text/plain": [
       "<Figure size 720x720 with 1 Axes>"
      ]
     },
     "metadata": {
      "needs_background": "light"
     },
     "output_type": "display_data"
    }
   ],
   "source": [
    "plt.figure(figsize=(10,10))\n",
    "sns.barplot(data=top_zerocarb_coefs, x=top_zerocarb_coefs['coef'], y='ngram', palette='Reds_r')\n",
    "plt.ylabel('')\n",
    "plt.title('Top 20 Ngrams Correlated with r/zerocarb', fontsize=20);"
   ]
  },
  {
   "cell_type": "markdown",
   "id": "03556896",
   "metadata": {},
   "source": [
    "After removing the word 'woe', we can see that the rest of our observations from earlier hold true. Those observations are:\n",
    "\n",
    "From the above chart, we can see that the top words associated with our best model for `r/keto` mentions no diet terminologies, and is mainly made up of words for meat items, e.g. 'ground', 'steaks', 'lamb', 'pork'. A reason why '30 days' is on the list here, is because a social media influencer, ['Dr. Shawn Baker', encouraged people to do a 30 Day Carnivore diet challenge in April of 2020.](https://twitter.com/sbakermd/status/1243546540829859840?lang=en)"
   ]
  },
  {
   "cell_type": "markdown",
   "id": "d8d4796d",
   "metadata": {},
   "source": [
    "---"
   ]
  },
  {
   "cell_type": "markdown",
   "id": "16614c74",
   "metadata": {},
   "source": [
    "## Error Analysis"
   ]
  },
  {
   "cell_type": "markdown",
   "id": "e0dca981",
   "metadata": {},
   "source": [
    "Let's create a DataFrame to look closer at the posts that were misclassified."
   ]
  },
  {
   "cell_type": "code",
   "execution_count": 519,
   "id": "6e198ae2",
   "metadata": {},
   "outputs": [
    {
     "data": {
      "text/plain": [
       "r/keto         0\n",
       "r/zerocarb     0\n",
       "c_text         0\n",
       "is_zerocarb    0\n",
       "predicted      0\n",
       "dtype: int64"
      ]
     },
     "execution_count": 519,
     "metadata": {},
     "output_type": "execute_result"
    }
   ],
   "source": [
    "# creation of dataframe with probabilities as well as predictions vs actual\n",
    "\n",
    "class_prob = pd.DataFrame(tvec_lr_gs_V6.predict_proba(X_test),\n",
    "                          columns=['r/keto', 'r/zerocarb'])\n",
    "\n",
    "class_prob['c_text'] = X_test.tolist()\n",
    "class_prob['is_zerocarb'] = y_test.tolist()\n",
    "class_prob['predicted'] = tvec_lr_gs_V6.predict(X_test)\n",
    "class_prob.isnull().sum()"
   ]
  },
  {
   "cell_type": "code",
   "execution_count": 520,
   "id": "65296229",
   "metadata": {},
   "outputs": [],
   "source": [
    "# separating the two DataFrames, 1 for keto and 1 for zerocarb\n",
    "misclass_zerocarb = class_prob[(class_prob['is_zerocarb'] == 1) & ((class_prob['predicted'] == 0))]\n",
    "misclass_keto = class_prob[(class_prob['is_zerocarb'] == 0) & ((class_prob['predicted'] == 1))]"
   ]
  },
  {
   "cell_type": "code",
   "execution_count": 531,
   "id": "d366a623",
   "metadata": {},
   "outputs": [
    {
     "data": {
      "text/html": [
       "<div>\n",
       "<style scoped>\n",
       "    .dataframe tbody tr th:only-of-type {\n",
       "        vertical-align: middle;\n",
       "    }\n",
       "\n",
       "    .dataframe tbody tr th {\n",
       "        vertical-align: top;\n",
       "    }\n",
       "\n",
       "    .dataframe thead th {\n",
       "        text-align: right;\n",
       "    }\n",
       "</style>\n",
       "<table border=\"1\" class=\"dataframe\">\n",
       "  <thead>\n",
       "    <tr style=\"text-align: right;\">\n",
       "      <th></th>\n",
       "      <th>r/keto</th>\n",
       "      <th>r/zerocarb</th>\n",
       "      <th>c_text</th>\n",
       "      <th>is_zerocarb</th>\n",
       "      <th>predicted</th>\n",
       "    </tr>\n",
       "  </thead>\n",
       "  <tbody>\n",
       "    <tr>\n",
       "      <th>2173</th>\n",
       "      <td>0.000019</td>\n",
       "      <td>0.999981</td>\n",
       "      <td>can you think of something animal based zc fri...</td>\n",
       "      <td>1</td>\n",
       "      <td>1</td>\n",
       "    </tr>\n",
       "    <tr>\n",
       "      <th>1796</th>\n",
       "      <td>0.000111</td>\n",
       "      <td>0.999889</td>\n",
       "      <td>tldr does anyone have an intolerance to ground...</td>\n",
       "      <td>1</td>\n",
       "      <td>1</td>\n",
       "    </tr>\n",
       "    <tr>\n",
       "      <th>3892</th>\n",
       "      <td>0.000113</td>\n",
       "      <td>0.999887</td>\n",
       "      <td>6 days ago i posted about issues of frequentin...</td>\n",
       "      <td>1</td>\n",
       "      <td>1</td>\n",
       "    </tr>\n",
       "    <tr>\n",
       "      <th>896</th>\n",
       "      <td>0.000283</td>\n",
       "      <td>0.999717</td>\n",
       "      <td>i have decided that lamb is the superior anima...</td>\n",
       "      <td>1</td>\n",
       "      <td>1</td>\n",
       "    </tr>\n",
       "    <tr>\n",
       "      <th>419</th>\n",
       "      <td>0.000354</td>\n",
       "      <td>0.999646</td>\n",
       "      <td>been eating ground beef ground pork bacon and ...</td>\n",
       "      <td>1</td>\n",
       "      <td>1</td>\n",
       "    </tr>\n",
       "    <tr>\n",
       "      <th>3318</th>\n",
       "      <td>0.000373</td>\n",
       "      <td>0.999627</td>\n",
       "      <td>hi all i have a question i'm dying to hear if ...</td>\n",
       "      <td>1</td>\n",
       "      <td>1</td>\n",
       "    </tr>\n",
       "    <tr>\n",
       "      <th>3824</th>\n",
       "      <td>0.000446</td>\n",
       "      <td>0.999554</td>\n",
       "      <td>to make the life easier for people feel free t...</td>\n",
       "      <td>1</td>\n",
       "      <td>1</td>\n",
       "    </tr>\n",
       "    <tr>\n",
       "      <th>1250</th>\n",
       "      <td>0.000606</td>\n",
       "      <td>0.999394</td>\n",
       "      <td>i found a farmer not too far away from where i...</td>\n",
       "      <td>1</td>\n",
       "      <td>1</td>\n",
       "    </tr>\n",
       "    <tr>\n",
       "      <th>2603</th>\n",
       "      <td>0.000616</td>\n",
       "      <td>0.999384</td>\n",
       "      <td>my source of ground beef is very lean probably...</td>\n",
       "      <td>1</td>\n",
       "      <td>1</td>\n",
       "    </tr>\n",
       "    <tr>\n",
       "      <th>998</th>\n",
       "      <td>0.000635</td>\n",
       "      <td>0.999365</td>\n",
       "      <td>i've upped my ribeye intake to 3lb a day and m...</td>\n",
       "      <td>1</td>\n",
       "      <td>1</td>\n",
       "    </tr>\n",
       "  </tbody>\n",
       "</table>\n",
       "</div>"
      ],
      "text/plain": [
       "        r/keto  r/zerocarb                                             c_text  \\\n",
       "2173  0.000019    0.999981  can you think of something animal based zc fri...   \n",
       "1796  0.000111    0.999889  tldr does anyone have an intolerance to ground...   \n",
       "3892  0.000113    0.999887  6 days ago i posted about issues of frequentin...   \n",
       "896   0.000283    0.999717  i have decided that lamb is the superior anima...   \n",
       "419   0.000354    0.999646  been eating ground beef ground pork bacon and ...   \n",
       "3318  0.000373    0.999627  hi all i have a question i'm dying to hear if ...   \n",
       "3824  0.000446    0.999554  to make the life easier for people feel free t...   \n",
       "1250  0.000606    0.999394  i found a farmer not too far away from where i...   \n",
       "2603  0.000616    0.999384  my source of ground beef is very lean probably...   \n",
       "998   0.000635    0.999365  i've upped my ribeye intake to 3lb a day and m...   \n",
       "\n",
       "      is_zerocarb  predicted  \n",
       "2173            1          1  \n",
       "1796            1          1  \n",
       "3892            1          1  \n",
       "896             1          1  \n",
       "419             1          1  \n",
       "3318            1          1  \n",
       "3824            1          1  \n",
       "1250            1          1  \n",
       "2603            1          1  \n",
       "998             1          1  "
      ]
     },
     "execution_count": 531,
     "metadata": {},
     "output_type": "execute_result"
    }
   ],
   "source": [
    "class_prob.sort_values('r/zerocarb', ascending=False).head(10)"
   ]
  },
  {
   "cell_type": "code",
   "execution_count": 532,
   "id": "88d1c745",
   "metadata": {},
   "outputs": [
    {
     "data": {
      "text/html": [
       "<div>\n",
       "<style scoped>\n",
       "    .dataframe tbody tr th:only-of-type {\n",
       "        vertical-align: middle;\n",
       "    }\n",
       "\n",
       "    .dataframe tbody tr th {\n",
       "        vertical-align: top;\n",
       "    }\n",
       "\n",
       "    .dataframe thead th {\n",
       "        text-align: right;\n",
       "    }\n",
       "</style>\n",
       "<table border=\"1\" class=\"dataframe\">\n",
       "  <thead>\n",
       "    <tr style=\"text-align: right;\">\n",
       "      <th></th>\n",
       "      <th>r/keto</th>\n",
       "      <th>r/zerocarb</th>\n",
       "      <th>c_text</th>\n",
       "      <th>is_zerocarb</th>\n",
       "      <th>predicted</th>\n",
       "    </tr>\n",
       "  </thead>\n",
       "  <tbody>\n",
       "    <tr>\n",
       "      <th>2230</th>\n",
       "      <td>0.002844</td>\n",
       "      <td>0.997156</td>\n",
       "      <td>so tomorrow i am making my first ever bone bro...</td>\n",
       "      <td>0</td>\n",
       "      <td>1</td>\n",
       "    </tr>\n",
       "    <tr>\n",
       "      <th>1736</th>\n",
       "      <td>0.011134</td>\n",
       "      <td>0.988866</td>\n",
       "      <td>i've started eating canned cod liver every tim...</td>\n",
       "      <td>0</td>\n",
       "      <td>1</td>\n",
       "    </tr>\n",
       "    <tr>\n",
       "      <th>3450</th>\n",
       "      <td>0.015851</td>\n",
       "      <td>0.984149</td>\n",
       "      <td>so i am looking to start keto and i know i wan...</td>\n",
       "      <td>0</td>\n",
       "      <td>1</td>\n",
       "    </tr>\n",
       "    <tr>\n",
       "      <th>3743</th>\n",
       "      <td>0.022497</td>\n",
       "      <td>0.977503</td>\n",
       "      <td>so does it matter if it is from a cow a goat a...</td>\n",
       "      <td>0</td>\n",
       "      <td>1</td>\n",
       "    </tr>\n",
       "    <tr>\n",
       "      <th>71</th>\n",
       "      <td>0.023091</td>\n",
       "      <td>0.976909</td>\n",
       "      <td>hey pals i love steak but like every single ri...</td>\n",
       "      <td>0</td>\n",
       "      <td>1</td>\n",
       "    </tr>\n",
       "    <tr>\n",
       "      <th>2169</th>\n",
       "      <td>0.026650</td>\n",
       "      <td>0.973350</td>\n",
       "      <td>tips with the cuts would fit into the lean cat...</td>\n",
       "      <td>0</td>\n",
       "      <td>1</td>\n",
       "    </tr>\n",
       "    <tr>\n",
       "      <th>2427</th>\n",
       "      <td>0.046326</td>\n",
       "      <td>0.953674</td>\n",
       "      <td>i cant eat any sort of dairy it gives me sever...</td>\n",
       "      <td>0</td>\n",
       "      <td>1</td>\n",
       "    </tr>\n",
       "    <tr>\n",
       "      <th>2498</th>\n",
       "      <td>0.052120</td>\n",
       "      <td>0.947880</td>\n",
       "      <td>that would be hyperbole on anybody else but i'...</td>\n",
       "      <td>0</td>\n",
       "      <td>1</td>\n",
       "    </tr>\n",
       "    <tr>\n",
       "      <th>3758</th>\n",
       "      <td>0.052252</td>\n",
       "      <td>0.947748</td>\n",
       "      <td>for my whole life i have been trained to think...</td>\n",
       "      <td>0</td>\n",
       "      <td>1</td>\n",
       "    </tr>\n",
       "    <tr>\n",
       "      <th>670</th>\n",
       "      <td>0.053211</td>\n",
       "      <td>0.946789</td>\n",
       "      <td>i am both omad and keto the omad community is ...</td>\n",
       "      <td>0</td>\n",
       "      <td>1</td>\n",
       "    </tr>\n",
       "  </tbody>\n",
       "</table>\n",
       "</div>"
      ],
      "text/plain": [
       "        r/keto  r/zerocarb                                             c_text  \\\n",
       "2230  0.002844    0.997156  so tomorrow i am making my first ever bone bro...   \n",
       "1736  0.011134    0.988866  i've started eating canned cod liver every tim...   \n",
       "3450  0.015851    0.984149  so i am looking to start keto and i know i wan...   \n",
       "3743  0.022497    0.977503  so does it matter if it is from a cow a goat a...   \n",
       "71    0.023091    0.976909  hey pals i love steak but like every single ri...   \n",
       "2169  0.026650    0.973350  tips with the cuts would fit into the lean cat...   \n",
       "2427  0.046326    0.953674  i cant eat any sort of dairy it gives me sever...   \n",
       "2498  0.052120    0.947880  that would be hyperbole on anybody else but i'...   \n",
       "3758  0.052252    0.947748  for my whole life i have been trained to think...   \n",
       "670   0.053211    0.946789  i am both omad and keto the omad community is ...   \n",
       "\n",
       "      is_zerocarb  predicted  \n",
       "2230            0          1  \n",
       "1736            0          1  \n",
       "3450            0          1  \n",
       "3743            0          1  \n",
       "71              0          1  \n",
       "2169            0          1  \n",
       "2427            0          1  \n",
       "2498            0          1  \n",
       "3758            0          1  \n",
       "670             0          1  "
      ]
     },
     "execution_count": 532,
     "metadata": {},
     "output_type": "execute_result"
    }
   ],
   "source": [
    "misclass_keto.sort_values('r/zerocarb', ascending=False).head(10)"
   ]
  },
  {
   "cell_type": "code",
   "execution_count": 534,
   "id": "aeeec4c2",
   "metadata": {},
   "outputs": [
    {
     "data": {
      "text/plain": [
       "\"i am both omad and keto the omad community is freaked the fuck out by what i eat usually people are freaked out by omad itself but i can freak out the people that freak other people out so here is my meal today  i am doing an experiment to see the reaction of each of these subreddits that is one big ass steak and 4 eggs covered in grass fed butter bacon a chunk of aged cheese and sardines i am stuffed and happy i don't really know the calories or the macros i know its a ton of fat and protein and most of that fat is saturated although i cooked the eggs in evoo as far as i am concerned this is the one of the healthiest meals i can eat but go ahead and criticize i am curious tasty keto meal\""
      ]
     },
     "execution_count": 534,
     "metadata": {},
     "output_type": "execute_result"
    }
   ],
   "source": [
    "# code to cycle through the index of False Positives\n",
    "misclass_keto.loc[670, 'c_text']"
   ]
  },
  {
   "cell_type": "markdown",
   "id": "f8b24458",
   "metadata": {},
   "source": [
    "---"
   ]
  },
  {
   "cell_type": "markdown",
   "id": "347b8b8e",
   "metadata": {},
   "source": [
    "From the above table, we can see that the model does have a pretty good grasp on posts talking about meats, ribeyes, ground beef, lean, animal organs, bones etc.\n",
    "\n",
    "The posts that use this kind of language, invariably get classified as `r/zerocarb` sometimes wrongly. Other topics that will get classified as `r/zerocarb` are: Mentions newbie, discussing butchers in different areas, fatty food, and the [30 day challenge by Dr. Shawn Baker.](https://twitter.com/sbakermd/status/1243546540829859840?lang=en)"
   ]
  },
  {
   "cell_type": "code",
   "execution_count": 536,
   "id": "d2985fed",
   "metadata": {},
   "outputs": [
    {
     "data": {
      "text/html": [
       "<div>\n",
       "<style scoped>\n",
       "    .dataframe tbody tr th:only-of-type {\n",
       "        vertical-align: middle;\n",
       "    }\n",
       "\n",
       "    .dataframe tbody tr th {\n",
       "        vertical-align: top;\n",
       "    }\n",
       "\n",
       "    .dataframe thead th {\n",
       "        text-align: right;\n",
       "    }\n",
       "</style>\n",
       "<table border=\"1\" class=\"dataframe\">\n",
       "  <thead>\n",
       "    <tr style=\"text-align: right;\">\n",
       "      <th></th>\n",
       "      <th>r/keto</th>\n",
       "      <th>r/zerocarb</th>\n",
       "      <th>c_text</th>\n",
       "      <th>is_zerocarb</th>\n",
       "      <th>predicted</th>\n",
       "    </tr>\n",
       "  </thead>\n",
       "  <tbody>\n",
       "    <tr>\n",
       "      <th>3205</th>\n",
       "      <td>0.999774</td>\n",
       "      <td>0.000226</td>\n",
       "      <td>hello keto friends i have done dirty keto in t...</td>\n",
       "      <td>0</td>\n",
       "      <td>0</td>\n",
       "    </tr>\n",
       "    <tr>\n",
       "      <th>2956</th>\n",
       "      <td>0.999643</td>\n",
       "      <td>0.000357</td>\n",
       "      <td>currently doing 1268 calories 33 deficit fat 8...</td>\n",
       "      <td>0</td>\n",
       "      <td>0</td>\n",
       "    </tr>\n",
       "    <tr>\n",
       "      <th>1776</th>\n",
       "      <td>0.999509</td>\n",
       "      <td>0.000491</td>\n",
       "      <td>hello friends tldr keto is going well but i ne...</td>\n",
       "      <td>0</td>\n",
       "      <td>0</td>\n",
       "    </tr>\n",
       "    <tr>\n",
       "      <th>1457</th>\n",
       "      <td>0.999453</td>\n",
       "      <td>0.000547</td>\n",
       "      <td>hi yall long time lurker but thanks to this th...</td>\n",
       "      <td>0</td>\n",
       "      <td>0</td>\n",
       "    </tr>\n",
       "    <tr>\n",
       "      <th>3609</th>\n",
       "      <td>0.999295</td>\n",
       "      <td>0.000705</td>\n",
       "      <td>10 years ago i was 5'6 and 240 lbs then i had ...</td>\n",
       "      <td>0</td>\n",
       "      <td>0</td>\n",
       "    </tr>\n",
       "    <tr>\n",
       "      <th>3246</th>\n",
       "      <td>0.999251</td>\n",
       "      <td>0.000749</td>\n",
       "      <td>hello all alfie isn't my name and keto is beco...</td>\n",
       "      <td>0</td>\n",
       "      <td>0</td>\n",
       "    </tr>\n",
       "    <tr>\n",
       "      <th>2563</th>\n",
       "      <td>0.999076</td>\n",
       "      <td>0.000924</td>\n",
       "      <td>start weight 309lb current weight 297 time on ...</td>\n",
       "      <td>0</td>\n",
       "      <td>0</td>\n",
       "    </tr>\n",
       "    <tr>\n",
       "      <th>1041</th>\n",
       "      <td>0.998848</td>\n",
       "      <td>0.001152</td>\n",
       "      <td>started keto 3 weeks ago at 307 and i'm down t...</td>\n",
       "      <td>0</td>\n",
       "      <td>0</td>\n",
       "    </tr>\n",
       "    <tr>\n",
       "      <th>159</th>\n",
       "      <td>0.998815</td>\n",
       "      <td>0.001185</td>\n",
       "      <td>first time poster and im looking for some sugg...</td>\n",
       "      <td>0</td>\n",
       "      <td>0</td>\n",
       "    </tr>\n",
       "    <tr>\n",
       "      <th>1880</th>\n",
       "      <td>0.998776</td>\n",
       "      <td>0.001224</td>\n",
       "      <td>i went all in on my weight loss last october a...</td>\n",
       "      <td>0</td>\n",
       "      <td>0</td>\n",
       "    </tr>\n",
       "  </tbody>\n",
       "</table>\n",
       "</div>"
      ],
      "text/plain": [
       "        r/keto  r/zerocarb                                             c_text  \\\n",
       "3205  0.999774    0.000226  hello keto friends i have done dirty keto in t...   \n",
       "2956  0.999643    0.000357  currently doing 1268 calories 33 deficit fat 8...   \n",
       "1776  0.999509    0.000491  hello friends tldr keto is going well but i ne...   \n",
       "1457  0.999453    0.000547  hi yall long time lurker but thanks to this th...   \n",
       "3609  0.999295    0.000705  10 years ago i was 5'6 and 240 lbs then i had ...   \n",
       "3246  0.999251    0.000749  hello all alfie isn't my name and keto is beco...   \n",
       "2563  0.999076    0.000924  start weight 309lb current weight 297 time on ...   \n",
       "1041  0.998848    0.001152  started keto 3 weeks ago at 307 and i'm down t...   \n",
       "159   0.998815    0.001185  first time poster and im looking for some sugg...   \n",
       "1880  0.998776    0.001224  i went all in on my weight loss last october a...   \n",
       "\n",
       "      is_zerocarb  predicted  \n",
       "3205            0          0  \n",
       "2956            0          0  \n",
       "1776            0          0  \n",
       "1457            0          0  \n",
       "3609            0          0  \n",
       "3246            0          0  \n",
       "2563            0          0  \n",
       "1041            0          0  \n",
       "159             0          0  \n",
       "1880            0          0  "
      ]
     },
     "execution_count": 536,
     "metadata": {},
     "output_type": "execute_result"
    }
   ],
   "source": [
    "class_prob.sort_values('r/keto', ascending=False).head(10)"
   ]
  },
  {
   "cell_type": "code",
   "execution_count": 525,
   "id": "b7304f76",
   "metadata": {},
   "outputs": [
    {
     "data": {
      "text/html": [
       "<div>\n",
       "<style scoped>\n",
       "    .dataframe tbody tr th:only-of-type {\n",
       "        vertical-align: middle;\n",
       "    }\n",
       "\n",
       "    .dataframe tbody tr th {\n",
       "        vertical-align: top;\n",
       "    }\n",
       "\n",
       "    .dataframe thead th {\n",
       "        text-align: right;\n",
       "    }\n",
       "</style>\n",
       "<table border=\"1\" class=\"dataframe\">\n",
       "  <thead>\n",
       "    <tr style=\"text-align: right;\">\n",
       "      <th></th>\n",
       "      <th>r/keto</th>\n",
       "      <th>r/zerocarb</th>\n",
       "      <th>c_text</th>\n",
       "      <th>is_zerocarb</th>\n",
       "      <th>predicted</th>\n",
       "    </tr>\n",
       "  </thead>\n",
       "  <tbody>\n",
       "    <tr>\n",
       "      <th>2525</th>\n",
       "      <td>0.982741</td>\n",
       "      <td>0.017259</td>\n",
       "      <td>have been on lowcarb keto for over a year lost...</td>\n",
       "      <td>1</td>\n",
       "      <td>0</td>\n",
       "    </tr>\n",
       "    <tr>\n",
       "      <th>576</th>\n",
       "      <td>0.979756</td>\n",
       "      <td>0.020244</td>\n",
       "      <td>i am 278 as of today iv already lost 40ish lbs...</td>\n",
       "      <td>1</td>\n",
       "      <td>0</td>\n",
       "    </tr>\n",
       "    <tr>\n",
       "      <th>957</th>\n",
       "      <td>0.977588</td>\n",
       "      <td>0.022412</td>\n",
       "      <td>i have a bmi of 175 i currently want to cut on...</td>\n",
       "      <td>1</td>\n",
       "      <td>0</td>\n",
       "    </tr>\n",
       "    <tr>\n",
       "      <th>3244</th>\n",
       "      <td>0.977143</td>\n",
       "      <td>0.022857</td>\n",
       "      <td>will it hurt my exercise performance its 228g ...</td>\n",
       "      <td>1</td>\n",
       "      <td>0</td>\n",
       "    </tr>\n",
       "    <tr>\n",
       "      <th>78</th>\n",
       "      <td>0.976533</td>\n",
       "      <td>0.023467</td>\n",
       "      <td>hey all i was playing around with data from th...</td>\n",
       "      <td>1</td>\n",
       "      <td>0</td>\n",
       "    </tr>\n",
       "    <tr>\n",
       "      <th>2419</th>\n",
       "      <td>0.966528</td>\n",
       "      <td>0.033472</td>\n",
       "      <td>back story i have pvc caused by an electrical ...</td>\n",
       "      <td>1</td>\n",
       "      <td>0</td>\n",
       "    </tr>\n",
       "    <tr>\n",
       "      <th>3203</th>\n",
       "      <td>0.956542</td>\n",
       "      <td>0.043458</td>\n",
       "      <td>ive been low to no carb now since late aprilea...</td>\n",
       "      <td>1</td>\n",
       "      <td>0</td>\n",
       "    </tr>\n",
       "    <tr>\n",
       "      <th>2242</th>\n",
       "      <td>0.956153</td>\n",
       "      <td>0.043847</td>\n",
       "      <td>been tracking what i eat for 3 weeks and aimin...</td>\n",
       "      <td>1</td>\n",
       "      <td>0</td>\n",
       "    </tr>\n",
       "    <tr>\n",
       "      <th>3216</th>\n",
       "      <td>0.949903</td>\n",
       "      <td>0.050097</td>\n",
       "      <td>all right guys i dont know where else to ask y...</td>\n",
       "      <td>1</td>\n",
       "      <td>0</td>\n",
       "    </tr>\n",
       "    <tr>\n",
       "      <th>3763</th>\n",
       "      <td>0.949748</td>\n",
       "      <td>0.050252</td>\n",
       "      <td>just went to the doctor to get some blood work...</td>\n",
       "      <td>1</td>\n",
       "      <td>0</td>\n",
       "    </tr>\n",
       "  </tbody>\n",
       "</table>\n",
       "</div>"
      ],
      "text/plain": [
       "        r/keto  r/zerocarb                                             c_text  \\\n",
       "2525  0.982741    0.017259  have been on lowcarb keto for over a year lost...   \n",
       "576   0.979756    0.020244  i am 278 as of today iv already lost 40ish lbs...   \n",
       "957   0.977588    0.022412  i have a bmi of 175 i currently want to cut on...   \n",
       "3244  0.977143    0.022857  will it hurt my exercise performance its 228g ...   \n",
       "78    0.976533    0.023467  hey all i was playing around with data from th...   \n",
       "2419  0.966528    0.033472  back story i have pvc caused by an electrical ...   \n",
       "3203  0.956542    0.043458  ive been low to no carb now since late aprilea...   \n",
       "2242  0.956153    0.043847  been tracking what i eat for 3 weeks and aimin...   \n",
       "3216  0.949903    0.050097  all right guys i dont know where else to ask y...   \n",
       "3763  0.949748    0.050252  just went to the doctor to get some blood work...   \n",
       "\n",
       "      is_zerocarb  predicted  \n",
       "2525            1          0  \n",
       "576             1          0  \n",
       "957             1          0  \n",
       "3244            1          0  \n",
       "78              1          0  \n",
       "2419            1          0  \n",
       "3203            1          0  \n",
       "2242            1          0  \n",
       "3216            1          0  \n",
       "3763            1          0  "
      ]
     },
     "execution_count": 525,
     "metadata": {},
     "output_type": "execute_result"
    }
   ],
   "source": [
    "# code to cycle through the index of False Positives\n",
    "misclass_zerocarb.sort_values('r/keto', ascending=False).head(10)"
   ]
  },
  {
   "cell_type": "code",
   "execution_count": 527,
   "id": "b32d2983",
   "metadata": {},
   "outputs": [
    {
     "data": {
      "text/plain": [
       "'all right guys i dont know where else to ask you should know about this basically im staring a bulk soon and i dont want to stay zerocarb for that time should i just go full on high carb with rice and shit ton of pasta or stay mostly zero carb but still a decent amount of carbs in form of peanut butter protein shakesbars and some fruitsveggies and a bit of grain is it worth staying mostly meat if youre not fully zero carb'"
      ]
     },
     "execution_count": 527,
     "metadata": {},
     "output_type": "execute_result"
    }
   ],
   "source": [
    "# code to cycle through the index of False Positives\n",
    "misclass_zerocarb.loc[3216, 'c_text']"
   ]
  },
  {
   "cell_type": "markdown",
   "id": "ad2e4d17",
   "metadata": {},
   "source": [
    "---"
   ]
  },
  {
   "cell_type": "markdown",
   "id": "92db2c37",
   "metadata": {},
   "source": [
    "From the above table, we can see that the model does have a pretty good grasp on posts talking about meats, ribeyes, ground beef, lean, animal organs, bones etc.\n",
    "\n",
    "The posts that use this kind of language, invariably get classified as `r/zerocarb` sometimes wrongly. Other topics that will get classified as `r/zerocarb` are: Mentions newbie, discussing butchers in different areas, fatty food, and the [30 day challenge by Dr. Shawn Baker.](https://twitter.com/sbakermd/status/1243546540829859840?lang=en)"
   ]
  },
  {
   "cell_type": "markdown",
   "id": "7a64a9d4",
   "metadata": {},
   "source": [
    "# Model Limitations"
   ]
  },
  {
   "cell_type": "markdown",
   "id": "9fc3d690",
   "metadata": {},
   "source": [
    "Let us start by recapping our problem statement:"
   ]
  },
  {
   "cell_type": "markdown",
   "id": "cbf41e25",
   "metadata": {},
   "source": [
    "## Problem Statement"
   ]
  },
  {
   "cell_type": "markdown",
   "id": "1952fd99",
   "metadata": {},
   "source": [
    "We are concerned that misclassification of clients into certain diet models will result in a rebound that deproves their health and fitness, also affecting motivation to get back into shape in the future. This is especially the case for highly motivated individuals, who go hard into pursuing a 'Zerocarb/Carnivore' diet, and crash or rebound after. The effects of the rebound can lead to worse weight gain, to the point the individual is unhealthier than when they started.\n",
    "\n",
    "So the goal of the model is to reduce False Positives, i.e. classifying clients into `zerocarb` wrongly when they should have been in the `keto` class."
   ]
  },
  {
   "cell_type": "markdown",
   "id": "9f46c01c",
   "metadata": {},
   "source": [
    "## Conclusion"
   ]
  },
  {
   "cell_type": "markdown",
   "id": "0a8d6dbc",
   "metadata": {},
   "source": [
    "As shown by the tables and charts above, our model is able to grasp mentions of 'bone broth', 'meat', 'ground beef' and other similar words. Mentions of improved health, e.d. reduced blood pressure also end up classified as `zerocarb`.\n",
    "\n",
    "However our model is thrown off by mentions of animal organs and the word bone specifically. The context of the words can be different, and they might be relevant to both `keto` and `zerocarb`, however as long as the post contains these words, it will most likely be classfied as `zerocarb`. \n",
    "\n",
    "Even though both `r/keto` and `r/zerocarb` are both very similar in the sense that they are both proponents of high protein, high fat, and low/no carb diets and lifestyle, the `r/zerocarb` definitely has a much larger focus on meat(especially beef), animal organs, and bones (bone broth)."
   ]
  },
  {
   "cell_type": "markdown",
   "id": "91caccf3",
   "metadata": {},
   "source": [
    "### Model Improvements and Recommendations"
   ]
  },
  {
   "cell_type": "markdown",
   "id": "726cb2d5",
   "metadata": {},
   "source": [
    "**Improvements**\n",
    "It is in our interest to reduce False Positives as much as possible, as such, we would prefer to maximize the `precision` score of the model as much as possible.<br>\n",
    "1. One way we can do this is test other models such as support vector machines, and perhaps deep learning models as well.\n",
    "2. Another way we can do this is to adjust the threshold for the classification of `zerocarb`, making this an imbalanced classification. This will require further investigation as we continue to improve the model. <br>\n",
    "3. Lastly, we can include other features in our model, other than just text, sentiment analysis for example, could possible improve the classification score."
   ]
  },
  {
   "cell_type": "markdown",
   "id": "89964efc",
   "metadata": {},
   "source": [
    "**Recommendations**\n",
    "1. Our current model performs 2% better than our baseline model on accuracy. As such we would reccommend using this model for classification. \n",
    "2. For those model probabilities where the classification is boderline, e.g. 51% vs 49%, we would recommend classifiying those as `keto`, as it is easier to make the jump from `keto` to `zerocarb` if the client still wants to do so.\n",
    "3. Lastly, we would also recommend reviewing those clients within one month of being put on the `zerocarb` diet. If we review them within one month and find that the diet is not working, it might not be too late to move them to `keto` diets and prevent a rebound from happening."
   ]
  }
 ],
 "metadata": {
  "kernelspec": {
   "display_name": "Python 3 (ipykernel)",
   "language": "python",
   "name": "python3"
  },
  "language_info": {
   "codemirror_mode": {
    "name": "ipython",
    "version": 3
   },
   "file_extension": ".py",
   "mimetype": "text/x-python",
   "name": "python",
   "nbconvert_exporter": "python",
   "pygments_lexer": "ipython3",
   "version": "3.8.12"
  }
 },
 "nbformat": 4,
 "nbformat_minor": 5
}
