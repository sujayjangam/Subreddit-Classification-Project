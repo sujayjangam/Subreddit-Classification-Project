{
 "cells": [
  {
   "cell_type": "markdown",
   "id": "d24db1b8",
   "metadata": {},
   "source": [
    "# Data Cleaning of Subreddit Data"
   ]
  },
  {
   "cell_type": "markdown",
   "id": "3e8c24b6",
   "metadata": {},
   "source": [
    "Now that we have obtained our `10_000` posts from each subreddit, we will check through our data to ensure that we do not have missing data, and also clean our text fields to get it ready for EDA and modeling in the next notebooks.\n",
    "\n",
    "In this notebook, we will be carrying out the following actions:\n",
    "1. [Data Cleaning](#Data-Cleaning)\n",
    "    * [Missing Values](#Missing-Values)\n",
    "    * [Duplicate Values](#Duplicate-Values)\n",
    "    * [Check for Removed and Deleted Posts](#Check-for-Removed-and-Deleted-Posts)\n",
    "    * [Check for Weekly Mod Posts](#Weekly-Mod-Posts)\n",
    "\n",
    "\n",
    "2. [Text Preprocessing](#Text-Preprocessing)\n",
    "3. [Date-Time Conversion](#Datetime-Conversion)\n",
    "4. [Accidental Null Values](#Accidental-Null-Values)\n",
    "    * [Dropping Accidental Null Values](#Dropping-Accidental-Null-Values)"
   ]
  },
  {
   "cell_type": "markdown",
   "id": "477d15ce",
   "metadata": {},
   "source": [
    "This is the second of four notebooks:\n",
    "1. [Subreddit Scraping](1_Subreddit_Scraping.ipynb)\n",
    "2. **Data Cleaning (Current Notebook)**\n",
    "3. [EDA on Cleaned Subreddits Data](3_EDA_on_Subreddits.ipynb)\n",
    "4. [Modeling and Conclusions](4_Modeling_and_Conclusions.ipynb)"
   ]
  },
  {
   "cell_type": "markdown",
   "id": "9bf56d52",
   "metadata": {},
   "source": [
    "# Imports"
   ]
  },
  {
   "cell_type": "code",
   "execution_count": 1,
   "id": "7b7a1c62",
   "metadata": {},
   "outputs": [],
   "source": [
    "import pandas as pd\n",
    "import re\n",
    "import datetime"
   ]
  },
  {
   "cell_type": "markdown",
   "id": "7087b605",
   "metadata": {},
   "source": [
    "> Reading in the 2 subreddits data."
   ]
  },
  {
   "cell_type": "code",
   "execution_count": 2,
   "id": "06e43703",
   "metadata": {},
   "outputs": [],
   "source": [
    "# data from r/keto\n",
    "keto = pd.read_csv('datasets/keto_subreddit.csv')\n",
    "\n",
    "# data from r/zerocarb\n",
    "zerocarb = pd.read_csv('datasets/zerocarb_subreddit.csv')"
   ]
  },
  {
   "cell_type": "markdown",
   "id": "d7d0919d",
   "metadata": {},
   "source": [
    "# Data Cleaning"
   ]
  },
  {
   "cell_type": "markdown",
   "id": "ebaf9ef9",
   "metadata": {},
   "source": [
    "## Missing Values"
   ]
  },
  {
   "cell_type": "markdown",
   "id": "22c91d98",
   "metadata": {},
   "source": [
    "Let's start with taking a look at whether we have any missing values. The custom class we created in Notebook 1: [Subreddit Scraping Notebook](1.-Subreddit-Scraping.ipynb\"), would have helped us to remove any missing values in our two key features, `selftext` and `title`. However, to be thorough, we will conduct a check to ensure this was done correctly."
   ]
  },
  {
   "cell_type": "code",
   "execution_count": 3,
   "id": "963f95e8",
   "metadata": {},
   "outputs": [
    {
     "data": {
      "text/plain": [
       "selftext    0\n",
       "title       0\n",
       "dtype: int64"
      ]
     },
     "execution_count": 3,
     "metadata": {},
     "output_type": "execute_result"
    }
   ],
   "source": [
    "# check if any null values\n",
    "keto[['selftext', 'title']].isnull().sum()"
   ]
  },
  {
   "cell_type": "code",
   "execution_count": 4,
   "id": "ee52f6a5",
   "metadata": {},
   "outputs": [
    {
     "data": {
      "text/plain": [
       "selftext    0\n",
       "title       0\n",
       "dtype: int64"
      ]
     },
     "execution_count": 4,
     "metadata": {},
     "output_type": "execute_result"
    }
   ],
   "source": [
    "# check if any null values\n",
    "zerocarb[['selftext', 'title']].isnull().sum()"
   ]
  },
  {
   "cell_type": "markdown",
   "id": "531b8c0a",
   "metadata": {},
   "source": [
    ">Here we can see that the custom class that we wrote (in the Subreddit Scraping Notebook) to pull out the 10_000 posts that we require has ensured no null entries in `selftext`."
   ]
  },
  {
   "cell_type": "markdown",
   "id": "aa5e798c",
   "metadata": {},
   "source": [
    "---"
   ]
  },
  {
   "cell_type": "markdown",
   "id": "58826de7",
   "metadata": {},
   "source": [
    "At this point, let's drop any columns that we will not need for either the EDA or the anlysis.\n",
    "\n",
    "*These columns were either only used during the scraping part of this project, or did not merit any useful information during the EDA, as such we will opt to drop them now itself.*"
   ]
  },
  {
   "cell_type": "code",
   "execution_count": 5,
   "id": "da1ebf86",
   "metadata": {},
   "outputs": [],
   "source": [
    "# listing out columns to drop\n",
    "col_to_drop = ['can_mod_post', 'is_self', 'is_video', 'locked',\n",
    "       'media_only', 'no_follow', 'num_crossposts', 'over_18',\n",
    "       'pinned']"
   ]
  },
  {
   "cell_type": "code",
   "execution_count": 6,
   "id": "617f1949",
   "metadata": {},
   "outputs": [],
   "source": [
    "# dropping columns in both subreddits\n",
    "keto.drop(columns=col_to_drop, inplace=True)\n",
    "zerocarb.drop(columns=col_to_drop, inplace=True)"
   ]
  },
  {
   "cell_type": "markdown",
   "id": "e5e27d8d",
   "metadata": {},
   "source": [
    "## Duplicate Values"
   ]
  },
  {
   "cell_type": "markdown",
   "id": "e888b033",
   "metadata": {},
   "source": [
    "The custom class also ensured that we will not have any duplicate posts. However, to be thorough, we will conduct a check to ensure this was done correctly."
   ]
  },
  {
   "cell_type": "code",
   "execution_count": 7,
   "id": "78ee7e8b",
   "metadata": {},
   "outputs": [
    {
     "data": {
      "text/plain": [
       "False    10058\n",
       "dtype: int64"
      ]
     },
     "execution_count": 7,
     "metadata": {},
     "output_type": "execute_result"
    }
   ],
   "source": [
    "# checking for duplicate values, \n",
    "# if no True values show up, it means there are no duplicates\n",
    "keto.duplicated(subset=['selftext','title']).value_counts()"
   ]
  },
  {
   "cell_type": "code",
   "execution_count": 8,
   "id": "335a4c38",
   "metadata": {},
   "outputs": [
    {
     "data": {
      "text/plain": [
       "False    9935\n",
       "dtype: int64"
      ]
     },
     "execution_count": 8,
     "metadata": {},
     "output_type": "execute_result"
    }
   ],
   "source": [
    "# checking for duplicate values, \n",
    "# if no True values show up, it means there are no duplicates\n",
    "zerocarb.duplicated(subset=['selftext','title']).value_counts()"
   ]
  },
  {
   "cell_type": "markdown",
   "id": "052c933c",
   "metadata": {},
   "source": [
    ">We have confirmed that we have no duplicate posts.<br>"
   ]
  },
  {
   "cell_type": "markdown",
   "id": "cea36ec2",
   "metadata": {},
   "source": [
    "## Check for Removed and Deleted Posts"
   ]
  },
  {
   "cell_type": "markdown",
   "id": "87e9c6d9",
   "metadata": {},
   "source": [
    "The next step we will take is to check for '[removed]' and '[deleted]' posts.</br>\n",
    "Again, our custom class has attempted to remove them while scraping, however some edge cases might have been missed.</br>\n",
    "If we find any of these posts, we will go ahead and drop those rows."
   ]
  },
  {
   "cell_type": "code",
   "execution_count": 9,
   "id": "8b7da93c",
   "metadata": {},
   "outputs": [
    {
     "data": {
      "text/plain": [
       "Series([], Name: selftext, dtype: object)"
      ]
     },
     "execution_count": 9,
     "metadata": {},
     "output_type": "execute_result"
    }
   ],
   "source": [
    "# checking for both removed or deleted posts\n",
    "keto.loc[keto['selftext'].str.contains(r'\\[removed\\]|\\[deleted\\]'), 'selftext']"
   ]
  },
  {
   "cell_type": "code",
   "execution_count": 10,
   "id": "edc01809",
   "metadata": {},
   "outputs": [
    {
     "data": {
      "text/plain": [
       "Series([], Name: selftext, dtype: object)"
      ]
     },
     "execution_count": 10,
     "metadata": {},
     "output_type": "execute_result"
    }
   ],
   "source": [
    "# checking for both removed or deleted posts\n",
    "zerocarb.loc[zerocarb['selftext'].str.contains(r'\\[removed\\]|\\[deleted\\]'), 'selftext']"
   ]
  },
  {
   "cell_type": "markdown",
   "id": "3fcd0024",
   "metadata": {},
   "source": [
    ">Now that we have ensured there are no '[removed]' or '[deleted]' posts, we can continue on with the next step in our data cleaning."
   ]
  },
  {
   "cell_type": "markdown",
   "id": "f2f5d5c0",
   "metadata": {},
   "source": [
    "## Weekly Mod Posts"
   ]
  },
  {
   "cell_type": "markdown",
   "id": "46b20239",
   "metadata": {},
   "source": [
    "The last step we will take before pre-processing the text itself, is to drop the weekly mod posts.<br>\n",
    "Weekly mod posts refers to the posts that are posted in the subreddit by the moderators of the subreddit. These posts are regular, and usually have the same title and text, or they have only slightly differing titles.<br>\n",
    "Since these posts are frequent, they will most likely cause skew in some words, which will affect our model. Leaving these posts in might not allow our model to work well on *'Non-Moderator'* posts.\n",
    "\n",
    "From checking on the individual subreddits, weekly mod posts on `r/keto` usually contain the phrases: 'My Meal', 'Beginners, Official, Community Support' and on `r/zerocarb` they contain 'READ THIS BEFORE POSTING', and 'Weekly'.\n",
    "\n",
    "In the interest of modeling, we will remove these rows completely. However before we remove them, let's take a look at which reddit has more active moderators."
   ]
  },
  {
   "cell_type": "code",
   "execution_count": 11,
   "id": "aa3b3f54",
   "metadata": {},
   "outputs": [],
   "source": [
    "# getting number of keto mod posts\n",
    "keto_mod_posts = keto[keto['title'].str\\\n",
    "                      .contains('My Meal|Beginners|Official|Community Support')]\\\n",
    "                      .shape[0]\n",
    "\n",
    "# number of mods obtained from subreddit\n",
    "keto_moderators = 10\n",
    "\n",
    "\n",
    "# getting number of keto mod posts\n",
    "zerocarb_mod_posts = zerocarb[zerocarb['title'].str\\\n",
    "                              .contains('READ THIS BEFORE POSTING|Weekly')]\\\n",
    "                              .shape[0]\n",
    "\n",
    "# number of mods obtained from subreddit\n",
    "zerocarb_moderators = 4\n",
    "\n",
    "# creating dictionary to create DataFrame\n",
    "mod_data = {'subreddit': ['r/keto','r/zerocarb'],\n",
    "            'mod_posts': [keto_mod_posts,zerocarb_mod_posts],\n",
    "            'num_mods': [keto_moderators,zerocarb_moderators]}\n",
    "\n",
    "# creating DataFrame for visualization of data\n",
    "mod_df = pd.DataFrame(mod_data, index=mod_data['subreddit'], \n",
    "                      columns=['mod_posts','num_mods'])"
   ]
  },
  {
   "cell_type": "code",
   "execution_count": 12,
   "id": "b4b348d6",
   "metadata": {},
   "outputs": [
    {
     "data": {
      "text/html": [
       "<div>\n",
       "<style scoped>\n",
       "    .dataframe tbody tr th:only-of-type {\n",
       "        vertical-align: middle;\n",
       "    }\n",
       "\n",
       "    .dataframe tbody tr th {\n",
       "        vertical-align: top;\n",
       "    }\n",
       "\n",
       "    .dataframe thead th {\n",
       "        text-align: right;\n",
       "    }\n",
       "</style>\n",
       "<table border=\"1\" class=\"dataframe\">\n",
       "  <thead>\n",
       "    <tr style=\"text-align: right;\">\n",
       "      <th></th>\n",
       "      <th>mod_posts</th>\n",
       "      <th>num_mods</th>\n",
       "      <th>post_per_mod</th>\n",
       "    </tr>\n",
       "  </thead>\n",
       "  <tbody>\n",
       "    <tr>\n",
       "      <th>r/keto</th>\n",
       "      <td>190</td>\n",
       "      <td>10</td>\n",
       "      <td>19.0</td>\n",
       "    </tr>\n",
       "    <tr>\n",
       "      <th>r/zerocarb</th>\n",
       "      <td>10</td>\n",
       "      <td>4</td>\n",
       "      <td>2.5</td>\n",
       "    </tr>\n",
       "  </tbody>\n",
       "</table>\n",
       "</div>"
      ],
      "text/plain": [
       "            mod_posts  num_mods  post_per_mod\n",
       "r/keto            190        10          19.0\n",
       "r/zerocarb         10         4           2.5"
      ]
     },
     "execution_count": 12,
     "metadata": {},
     "output_type": "execute_result"
    }
   ],
   "source": [
    "# adding a post per mod column\n",
    "mod_df['post_per_mod'] = mod_df['mod_posts']/mod_df['num_mods']\n",
    "# display the DataFrame\n",
    "mod_df"
   ]
  },
  {
   "cell_type": "markdown",
   "id": "2e910079",
   "metadata": {},
   "source": [
    ">As we can see from the above, it seems that the `r/keto` mods are a lot more active, with 18.1 posts per mod on average in a period of **9 months**.\n",
    ">For `r/zerocarb`, we have only 2.5 posts per mod in a period of **10 years**.\n",
    "\n",
    ">**However we must keep in mind that these are only text posts. All video posts, and media only posts have been removed.**"
   ]
  },
  {
   "cell_type": "markdown",
   "id": "9241a50e",
   "metadata": {},
   "source": [
    "Now let us go ahead and filter and drop the mod posts."
   ]
  },
  {
   "cell_type": "code",
   "execution_count": 13,
   "id": "e7802293",
   "metadata": {},
   "outputs": [
    {
     "data": {
      "text/html": [
       "<div>\n",
       "<style scoped>\n",
       "    .dataframe tbody tr th:only-of-type {\n",
       "        vertical-align: middle;\n",
       "    }\n",
       "\n",
       "    .dataframe tbody tr th {\n",
       "        vertical-align: top;\n",
       "    }\n",
       "\n",
       "    .dataframe thead th {\n",
       "        text-align: right;\n",
       "    }\n",
       "</style>\n",
       "<table border=\"1\" class=\"dataframe\">\n",
       "  <thead>\n",
       "    <tr style=\"text-align: right;\">\n",
       "      <th></th>\n",
       "      <th>created_utc</th>\n",
       "      <th>num_comments</th>\n",
       "      <th>score</th>\n",
       "      <th>upvote_ratio</th>\n",
       "      <th>selftext</th>\n",
       "      <th>subreddit</th>\n",
       "      <th>subreddit_subscribers</th>\n",
       "      <th>subreddit_type</th>\n",
       "      <th>title</th>\n",
       "      <th>total_awards_received</th>\n",
       "      <th>whitelist_status</th>\n",
       "    </tr>\n",
       "  </thead>\n",
       "  <tbody>\n",
       "    <tr>\n",
       "      <th>7</th>\n",
       "      <td>1648548010</td>\n",
       "      <td>0</td>\n",
       "      <td>1</td>\n",
       "      <td>1.0</td>\n",
       "      <td>Hello /r/keto Community!\\n\\nPlease use this su...</td>\n",
       "      <td>keto</td>\n",
       "      <td>2951267</td>\n",
       "      <td>public</td>\n",
       "      <td>[2022-03-29] - /r/keto Beginners &amp;amp; Communi...</td>\n",
       "      <td>0</td>\n",
       "      <td>all_ads</td>\n",
       "    </tr>\n",
       "    <tr>\n",
       "      <th>41</th>\n",
       "      <td>1648461612</td>\n",
       "      <td>0</td>\n",
       "      <td>1</td>\n",
       "      <td>1.0</td>\n",
       "      <td>Happy Monday /r/keto!\\n\\nWe know you've been s...</td>\n",
       "      <td>keto</td>\n",
       "      <td>2949636</td>\n",
       "      <td>public</td>\n",
       "      <td>[2022-03-28] - [My Meal Monday] - What are YOU...</td>\n",
       "      <td>0</td>\n",
       "      <td>all_ads</td>\n",
       "    </tr>\n",
       "    <tr>\n",
       "      <th>81</th>\n",
       "      <td>1648375210</td>\n",
       "      <td>0</td>\n",
       "      <td>1</td>\n",
       "      <td>1.0</td>\n",
       "      <td>Hello /r/keto Community!\\n\\nPlease use this su...</td>\n",
       "      <td>keto</td>\n",
       "      <td>2947679</td>\n",
       "      <td>public</td>\n",
       "      <td>[2022-03-27] - /r/keto Beginners &amp;amp; Communi...</td>\n",
       "      <td>0</td>\n",
       "      <td>all_ads</td>\n",
       "    </tr>\n",
       "    <tr>\n",
       "      <th>152</th>\n",
       "      <td>1648202410</td>\n",
       "      <td>0</td>\n",
       "      <td>1</td>\n",
       "      <td>1.0</td>\n",
       "      <td>Hello /r/keto Community!\\n\\nPlease use this su...</td>\n",
       "      <td>keto</td>\n",
       "      <td>2944159</td>\n",
       "      <td>public</td>\n",
       "      <td>[2022-03-25] - /r/keto Beginners &amp;amp; Communi...</td>\n",
       "      <td>0</td>\n",
       "      <td>all_ads</td>\n",
       "    </tr>\n",
       "    <tr>\n",
       "      <th>222</th>\n",
       "      <td>1648029610</td>\n",
       "      <td>0</td>\n",
       "      <td>1</td>\n",
       "      <td>1.0</td>\n",
       "      <td>Hello /r/keto Community!\\n\\nPlease use this su...</td>\n",
       "      <td>keto</td>\n",
       "      <td>2940276</td>\n",
       "      <td>public</td>\n",
       "      <td>[2022-03-23] - /r/keto Beginners &amp;amp; Communi...</td>\n",
       "      <td>0</td>\n",
       "      <td>all_ads</td>\n",
       "    </tr>\n",
       "    <tr>\n",
       "      <th>...</th>\n",
       "      <td>...</td>\n",
       "      <td>...</td>\n",
       "      <td>...</td>\n",
       "      <td>...</td>\n",
       "      <td>...</td>\n",
       "      <td>...</td>\n",
       "      <td>...</td>\n",
       "      <td>...</td>\n",
       "      <td>...</td>\n",
       "      <td>...</td>\n",
       "      <td>...</td>\n",
       "    </tr>\n",
       "    <tr>\n",
       "      <th>9691</th>\n",
       "      <td>1625047218</td>\n",
       "      <td>120</td>\n",
       "      <td>1</td>\n",
       "      <td>1.0</td>\n",
       "      <td>Hello /r/keto Community!\\n\\nPlease use this su...</td>\n",
       "      <td>keto</td>\n",
       "      <td>2467946</td>\n",
       "      <td>public</td>\n",
       "      <td>[2021-06-30] - /r/keto Beginners &amp;amp; Communi...</td>\n",
       "      <td>0</td>\n",
       "      <td>all_ads</td>\n",
       "    </tr>\n",
       "    <tr>\n",
       "      <th>9797</th>\n",
       "      <td>1624874413</td>\n",
       "      <td>133</td>\n",
       "      <td>1</td>\n",
       "      <td>1.0</td>\n",
       "      <td>Hello /r/keto Community!\\n\\nPlease use this su...</td>\n",
       "      <td>keto</td>\n",
       "      <td>2465200</td>\n",
       "      <td>public</td>\n",
       "      <td>[2021-06-28] - /r/keto Beginners &amp;amp; Communi...</td>\n",
       "      <td>0</td>\n",
       "      <td>all_ads</td>\n",
       "    </tr>\n",
       "    <tr>\n",
       "      <th>9798</th>\n",
       "      <td>1624874413</td>\n",
       "      <td>5</td>\n",
       "      <td>1</td>\n",
       "      <td>1.0</td>\n",
       "      <td>Happy Monday /r/keto!\\n\\nWe know you've been s...</td>\n",
       "      <td>keto</td>\n",
       "      <td>2465200</td>\n",
       "      <td>public</td>\n",
       "      <td>[2021-06-28] - [My Meal Monday] - What are YOU...</td>\n",
       "      <td>0</td>\n",
       "      <td>all_ads</td>\n",
       "    </tr>\n",
       "    <tr>\n",
       "      <th>9892</th>\n",
       "      <td>1624701614</td>\n",
       "      <td>65</td>\n",
       "      <td>1</td>\n",
       "      <td>1.0</td>\n",
       "      <td>Hello /r/keto Community!\\n\\nPlease use this su...</td>\n",
       "      <td>keto</td>\n",
       "      <td>2462188</td>\n",
       "      <td>public</td>\n",
       "      <td>[2021-06-26] - /r/keto Beginners &amp;amp; Communi...</td>\n",
       "      <td>0</td>\n",
       "      <td>all_ads</td>\n",
       "    </tr>\n",
       "    <tr>\n",
       "      <th>9982</th>\n",
       "      <td>1624528818</td>\n",
       "      <td>73</td>\n",
       "      <td>1</td>\n",
       "      <td>1.0</td>\n",
       "      <td>Hello /r/keto Community!\\n\\nPlease use this su...</td>\n",
       "      <td>keto</td>\n",
       "      <td>2458961</td>\n",
       "      <td>public</td>\n",
       "      <td>[2021-06-24] - /r/keto Beginners &amp;amp; Communi...</td>\n",
       "      <td>0</td>\n",
       "      <td>all_ads</td>\n",
       "    </tr>\n",
       "  </tbody>\n",
       "</table>\n",
       "<p>190 rows × 11 columns</p>\n",
       "</div>"
      ],
      "text/plain": [
       "      created_utc  num_comments  score  upvote_ratio  \\\n",
       "7      1648548010             0      1           1.0   \n",
       "41     1648461612             0      1           1.0   \n",
       "81     1648375210             0      1           1.0   \n",
       "152    1648202410             0      1           1.0   \n",
       "222    1648029610             0      1           1.0   \n",
       "...           ...           ...    ...           ...   \n",
       "9691   1625047218           120      1           1.0   \n",
       "9797   1624874413           133      1           1.0   \n",
       "9798   1624874413             5      1           1.0   \n",
       "9892   1624701614            65      1           1.0   \n",
       "9982   1624528818            73      1           1.0   \n",
       "\n",
       "                                               selftext subreddit  \\\n",
       "7     Hello /r/keto Community!\\n\\nPlease use this su...      keto   \n",
       "41    Happy Monday /r/keto!\\n\\nWe know you've been s...      keto   \n",
       "81    Hello /r/keto Community!\\n\\nPlease use this su...      keto   \n",
       "152   Hello /r/keto Community!\\n\\nPlease use this su...      keto   \n",
       "222   Hello /r/keto Community!\\n\\nPlease use this su...      keto   \n",
       "...                                                 ...       ...   \n",
       "9691  Hello /r/keto Community!\\n\\nPlease use this su...      keto   \n",
       "9797  Hello /r/keto Community!\\n\\nPlease use this su...      keto   \n",
       "9798  Happy Monday /r/keto!\\n\\nWe know you've been s...      keto   \n",
       "9892  Hello /r/keto Community!\\n\\nPlease use this su...      keto   \n",
       "9982  Hello /r/keto Community!\\n\\nPlease use this su...      keto   \n",
       "\n",
       "      subreddit_subscribers subreddit_type  \\\n",
       "7                   2951267         public   \n",
       "41                  2949636         public   \n",
       "81                  2947679         public   \n",
       "152                 2944159         public   \n",
       "222                 2940276         public   \n",
       "...                     ...            ...   \n",
       "9691                2467946         public   \n",
       "9797                2465200         public   \n",
       "9798                2465200         public   \n",
       "9892                2462188         public   \n",
       "9982                2458961         public   \n",
       "\n",
       "                                                  title  \\\n",
       "7     [2022-03-29] - /r/keto Beginners &amp; Communi...   \n",
       "41    [2022-03-28] - [My Meal Monday] - What are YOU...   \n",
       "81    [2022-03-27] - /r/keto Beginners &amp; Communi...   \n",
       "152   [2022-03-25] - /r/keto Beginners &amp; Communi...   \n",
       "222   [2022-03-23] - /r/keto Beginners &amp; Communi...   \n",
       "...                                                 ...   \n",
       "9691  [2021-06-30] - /r/keto Beginners &amp; Communi...   \n",
       "9797  [2021-06-28] - /r/keto Beginners &amp; Communi...   \n",
       "9798  [2021-06-28] - [My Meal Monday] - What are YOU...   \n",
       "9892  [2021-06-26] - /r/keto Beginners &amp; Communi...   \n",
       "9982  [2021-06-24] - /r/keto Beginners &amp; Communi...   \n",
       "\n",
       "      total_awards_received whitelist_status  \n",
       "7                         0          all_ads  \n",
       "41                        0          all_ads  \n",
       "81                        0          all_ads  \n",
       "152                       0          all_ads  \n",
       "222                       0          all_ads  \n",
       "...                     ...              ...  \n",
       "9691                      0          all_ads  \n",
       "9797                      0          all_ads  \n",
       "9798                      0          all_ads  \n",
       "9892                      0          all_ads  \n",
       "9982                      0          all_ads  \n",
       "\n",
       "[190 rows x 11 columns]"
      ]
     },
     "execution_count": 13,
     "metadata": {},
     "output_type": "execute_result"
    }
   ],
   "source": [
    "# mask to check for any moderator posts\n",
    "keto[keto['title'].str.contains('My Meal|Beginners|Official|Community Support')]"
   ]
  },
  {
   "cell_type": "code",
   "execution_count": 14,
   "id": "b7e35789",
   "metadata": {},
   "outputs": [
    {
     "data": {
      "text/html": [
       "<div>\n",
       "<style scoped>\n",
       "    .dataframe tbody tr th:only-of-type {\n",
       "        vertical-align: middle;\n",
       "    }\n",
       "\n",
       "    .dataframe tbody tr th {\n",
       "        vertical-align: top;\n",
       "    }\n",
       "\n",
       "    .dataframe thead th {\n",
       "        text-align: right;\n",
       "    }\n",
       "</style>\n",
       "<table border=\"1\" class=\"dataframe\">\n",
       "  <thead>\n",
       "    <tr style=\"text-align: right;\">\n",
       "      <th></th>\n",
       "      <th>created_utc</th>\n",
       "      <th>num_comments</th>\n",
       "      <th>score</th>\n",
       "      <th>upvote_ratio</th>\n",
       "      <th>selftext</th>\n",
       "      <th>subreddit</th>\n",
       "      <th>subreddit_subscribers</th>\n",
       "      <th>subreddit_type</th>\n",
       "      <th>title</th>\n",
       "      <th>total_awards_received</th>\n",
       "      <th>whitelist_status</th>\n",
       "    </tr>\n",
       "  </thead>\n",
       "  <tbody>\n",
       "  </tbody>\n",
       "</table>\n",
       "</div>"
      ],
      "text/plain": [
       "Empty DataFrame\n",
       "Columns: [created_utc, num_comments, score, upvote_ratio, selftext, subreddit, subreddit_subscribers, subreddit_type, title, total_awards_received, whitelist_status]\n",
       "Index: []"
      ]
     },
     "execution_count": 14,
     "metadata": {},
     "output_type": "execute_result"
    }
   ],
   "source": [
    "# dropping moderator posts\n",
    "keto.drop(index=keto[keto['title']\\\n",
    "                     .str.contains('My Meal|Beginners')].index, inplace=True)\n",
    "\n",
    "# mask again for a sanity check that it has been dropped.\n",
    "keto[keto['title'].str.contains('My Meal|Beginners')]"
   ]
  },
  {
   "cell_type": "markdown",
   "id": "ca323283",
   "metadata": {},
   "source": [
    "---"
   ]
  },
  {
   "cell_type": "code",
   "execution_count": 15,
   "id": "a4711b3a",
   "metadata": {},
   "outputs": [
    {
     "data": {
      "text/html": [
       "<div>\n",
       "<style scoped>\n",
       "    .dataframe tbody tr th:only-of-type {\n",
       "        vertical-align: middle;\n",
       "    }\n",
       "\n",
       "    .dataframe tbody tr th {\n",
       "        vertical-align: top;\n",
       "    }\n",
       "\n",
       "    .dataframe thead th {\n",
       "        text-align: right;\n",
       "    }\n",
       "</style>\n",
       "<table border=\"1\" class=\"dataframe\">\n",
       "  <thead>\n",
       "    <tr style=\"text-align: right;\">\n",
       "      <th></th>\n",
       "      <th>created_utc</th>\n",
       "      <th>num_comments</th>\n",
       "      <th>score</th>\n",
       "      <th>upvote_ratio</th>\n",
       "      <th>selftext</th>\n",
       "      <th>subreddit</th>\n",
       "      <th>subreddit_subscribers</th>\n",
       "      <th>subreddit_type</th>\n",
       "      <th>title</th>\n",
       "      <th>total_awards_received</th>\n",
       "      <th>whitelist_status</th>\n",
       "    </tr>\n",
       "  </thead>\n",
       "  <tbody>\n",
       "    <tr>\n",
       "      <th>377</th>\n",
       "      <td>1620311912</td>\n",
       "      <td>15</td>\n",
       "      <td>1</td>\n",
       "      <td>1.0</td>\n",
       "      <td>Welcome to [r/zerocarb](https://www.reddit.com...</td>\n",
       "      <td>zerocarb</td>\n",
       "      <td>115587.0</td>\n",
       "      <td>public</td>\n",
       "      <td>READ THIS BEFORE POSTING AND CARNI-CURIOUS [UP...</td>\n",
       "      <td>0.0</td>\n",
       "      <td>all_ads</td>\n",
       "    </tr>\n",
       "    <tr>\n",
       "      <th>1125</th>\n",
       "      <td>1592439303</td>\n",
       "      <td>10</td>\n",
       "      <td>1</td>\n",
       "      <td>1.0</td>\n",
       "      <td>This is the thread for weekly questions and sm...</td>\n",
       "      <td>zerocarb</td>\n",
       "      <td>111341.0</td>\n",
       "      <td>public</td>\n",
       "      <td>Weekly Small Questions and Chat Thread</td>\n",
       "      <td>0.0</td>\n",
       "      <td>no_ads</td>\n",
       "    </tr>\n",
       "    <tr>\n",
       "      <th>2085</th>\n",
       "      <td>1579452825</td>\n",
       "      <td>106</td>\n",
       "      <td>1</td>\n",
       "      <td>NaN</td>\n",
       "      <td>Welcome to [r/zerocarb](https://www.reddit.com...</td>\n",
       "      <td>zerocarb</td>\n",
       "      <td>108018.0</td>\n",
       "      <td>public</td>\n",
       "      <td>READ THIS BEFORE POSTING AND CARNI-CURIOUS [UP...</td>\n",
       "      <td>0.0</td>\n",
       "      <td>all_ads</td>\n",
       "    </tr>\n",
       "    <tr>\n",
       "      <th>2803</th>\n",
       "      <td>1569976631</td>\n",
       "      <td>103</td>\n",
       "      <td>8</td>\n",
       "      <td>NaN</td>\n",
       "      <td>Welcome to [r/zerocarb](https://www.reddit.com...</td>\n",
       "      <td>zerocarb</td>\n",
       "      <td>99989.0</td>\n",
       "      <td>public</td>\n",
       "      <td>READ THIS BEFORE POSTING AND CARNI-CURIOUS [UP...</td>\n",
       "      <td>0.0</td>\n",
       "      <td>all_ads</td>\n",
       "    </tr>\n",
       "    <tr>\n",
       "      <th>3400</th>\n",
       "      <td>1562801654</td>\n",
       "      <td>76</td>\n",
       "      <td>25</td>\n",
       "      <td>NaN</td>\n",
       "      <td>Welcome to [r/zerocarb](https://www.reddit.com...</td>\n",
       "      <td>zerocarb</td>\n",
       "      <td>90802.0</td>\n",
       "      <td>public</td>\n",
       "      <td>READ THIS BEFORE POSTING AND CARNI-CURIOUS [UP...</td>\n",
       "      <td>0.0</td>\n",
       "      <td>all_ads</td>\n",
       "    </tr>\n",
       "    <tr>\n",
       "      <th>4117</th>\n",
       "      <td>1556311413</td>\n",
       "      <td>9</td>\n",
       "      <td>1</td>\n",
       "      <td>NaN</td>\n",
       "      <td>Welcome to [r/zerocarb](https://www.reddit.com...</td>\n",
       "      <td>zerocarb</td>\n",
       "      <td>81374.0</td>\n",
       "      <td>public</td>\n",
       "      <td>READ THIS BEFORE POSTING [UPDATED April 26, 2019]</td>\n",
       "      <td>0.0</td>\n",
       "      <td>all_ads</td>\n",
       "    </tr>\n",
       "    <tr>\n",
       "      <th>4162</th>\n",
       "      <td>1555975674</td>\n",
       "      <td>22</td>\n",
       "      <td>10</td>\n",
       "      <td>NaN</td>\n",
       "      <td>Hi,\\n\\nI have been doing zero carb for 4 days ...</td>\n",
       "      <td>zerocarb</td>\n",
       "      <td>80780.0</td>\n",
       "      <td>public</td>\n",
       "      <td>(Newb) Weekly Meals</td>\n",
       "      <td>NaN</td>\n",
       "      <td>all_ads</td>\n",
       "    </tr>\n",
       "    <tr>\n",
       "      <th>4983</th>\n",
       "      <td>1549133549</td>\n",
       "      <td>4</td>\n",
       "      <td>1</td>\n",
       "      <td>NaN</td>\n",
       "      <td>Welcome to [r/zerocarb](https://www.reddit.com...</td>\n",
       "      <td>zerocarb</td>\n",
       "      <td>70401.0</td>\n",
       "      <td>public</td>\n",
       "      <td>READ THIS BEFORE POSTING [UPDATED February 2, ...</td>\n",
       "      <td>NaN</td>\n",
       "      <td>all_ads</td>\n",
       "    </tr>\n",
       "    <tr>\n",
       "      <th>5278</th>\n",
       "      <td>1546372551</td>\n",
       "      <td>26</td>\n",
       "      <td>1</td>\n",
       "      <td>NaN</td>\n",
       "      <td>Welcome to [r/zerocarb](https://www.reddit.com...</td>\n",
       "      <td>zerocarb</td>\n",
       "      <td>65109.0</td>\n",
       "      <td>public</td>\n",
       "      <td>READ THIS BEFORE POSTING [UPDATED January 1, 2...</td>\n",
       "      <td>NaN</td>\n",
       "      <td>all_ads</td>\n",
       "    </tr>\n",
       "    <tr>\n",
       "      <th>6716</th>\n",
       "      <td>1533063734</td>\n",
       "      <td>75</td>\n",
       "      <td>124</td>\n",
       "      <td>NaN</td>\n",
       "      <td>Welcome to [r/zerocarb](https://www.reddit.com...</td>\n",
       "      <td>zerocarb</td>\n",
       "      <td>47645.0</td>\n",
       "      <td>public</td>\n",
       "      <td>READ THIS BEFORE POSTING [UPDATED]</td>\n",
       "      <td>NaN</td>\n",
       "      <td>all_ads</td>\n",
       "    </tr>\n",
       "  </tbody>\n",
       "</table>\n",
       "</div>"
      ],
      "text/plain": [
       "      created_utc  num_comments  score  upvote_ratio  \\\n",
       "377    1620311912            15      1           1.0   \n",
       "1125   1592439303            10      1           1.0   \n",
       "2085   1579452825           106      1           NaN   \n",
       "2803   1569976631           103      8           NaN   \n",
       "3400   1562801654            76     25           NaN   \n",
       "4117   1556311413             9      1           NaN   \n",
       "4162   1555975674            22     10           NaN   \n",
       "4983   1549133549             4      1           NaN   \n",
       "5278   1546372551            26      1           NaN   \n",
       "6716   1533063734            75    124           NaN   \n",
       "\n",
       "                                               selftext subreddit  \\\n",
       "377   Welcome to [r/zerocarb](https://www.reddit.com...  zerocarb   \n",
       "1125  This is the thread for weekly questions and sm...  zerocarb   \n",
       "2085  Welcome to [r/zerocarb](https://www.reddit.com...  zerocarb   \n",
       "2803  Welcome to [r/zerocarb](https://www.reddit.com...  zerocarb   \n",
       "3400  Welcome to [r/zerocarb](https://www.reddit.com...  zerocarb   \n",
       "4117  Welcome to [r/zerocarb](https://www.reddit.com...  zerocarb   \n",
       "4162  Hi,\\n\\nI have been doing zero carb for 4 days ...  zerocarb   \n",
       "4983  Welcome to [r/zerocarb](https://www.reddit.com...  zerocarb   \n",
       "5278  Welcome to [r/zerocarb](https://www.reddit.com...  zerocarb   \n",
       "6716  Welcome to [r/zerocarb](https://www.reddit.com...  zerocarb   \n",
       "\n",
       "      subreddit_subscribers subreddit_type  \\\n",
       "377                115587.0         public   \n",
       "1125               111341.0         public   \n",
       "2085               108018.0         public   \n",
       "2803                99989.0         public   \n",
       "3400                90802.0         public   \n",
       "4117                81374.0         public   \n",
       "4162                80780.0         public   \n",
       "4983                70401.0         public   \n",
       "5278                65109.0         public   \n",
       "6716                47645.0         public   \n",
       "\n",
       "                                                  title  \\\n",
       "377   READ THIS BEFORE POSTING AND CARNI-CURIOUS [UP...   \n",
       "1125             Weekly Small Questions and Chat Thread   \n",
       "2085  READ THIS BEFORE POSTING AND CARNI-CURIOUS [UP...   \n",
       "2803  READ THIS BEFORE POSTING AND CARNI-CURIOUS [UP...   \n",
       "3400  READ THIS BEFORE POSTING AND CARNI-CURIOUS [UP...   \n",
       "4117  READ THIS BEFORE POSTING [UPDATED April 26, 2019]   \n",
       "4162                                (Newb) Weekly Meals   \n",
       "4983  READ THIS BEFORE POSTING [UPDATED February 2, ...   \n",
       "5278  READ THIS BEFORE POSTING [UPDATED January 1, 2...   \n",
       "6716                 READ THIS BEFORE POSTING [UPDATED]   \n",
       "\n",
       "      total_awards_received whitelist_status  \n",
       "377                     0.0          all_ads  \n",
       "1125                    0.0           no_ads  \n",
       "2085                    0.0          all_ads  \n",
       "2803                    0.0          all_ads  \n",
       "3400                    0.0          all_ads  \n",
       "4117                    0.0          all_ads  \n",
       "4162                    NaN          all_ads  \n",
       "4983                    NaN          all_ads  \n",
       "5278                    NaN          all_ads  \n",
       "6716                    NaN          all_ads  "
      ]
     },
     "execution_count": 15,
     "metadata": {},
     "output_type": "execute_result"
    }
   ],
   "source": [
    "# mask to check for any moderator posts\n",
    "zerocarb[zerocarb['title'].str.contains('READ THIS BEFORE POSTING|Weekly')]"
   ]
  },
  {
   "cell_type": "markdown",
   "id": "47c1d049",
   "metadata": {},
   "source": [
    "As there are quite a few mod posts here, we will choose to drop all of these and proceed with additional data cleaning."
   ]
  },
  {
   "cell_type": "code",
   "execution_count": 16,
   "id": "f3ae8e91",
   "metadata": {},
   "outputs": [
    {
     "data": {
      "text/html": [
       "<div>\n",
       "<style scoped>\n",
       "    .dataframe tbody tr th:only-of-type {\n",
       "        vertical-align: middle;\n",
       "    }\n",
       "\n",
       "    .dataframe tbody tr th {\n",
       "        vertical-align: top;\n",
       "    }\n",
       "\n",
       "    .dataframe thead th {\n",
       "        text-align: right;\n",
       "    }\n",
       "</style>\n",
       "<table border=\"1\" class=\"dataframe\">\n",
       "  <thead>\n",
       "    <tr style=\"text-align: right;\">\n",
       "      <th></th>\n",
       "      <th>created_utc</th>\n",
       "      <th>num_comments</th>\n",
       "      <th>score</th>\n",
       "      <th>upvote_ratio</th>\n",
       "      <th>selftext</th>\n",
       "      <th>subreddit</th>\n",
       "      <th>subreddit_subscribers</th>\n",
       "      <th>subreddit_type</th>\n",
       "      <th>title</th>\n",
       "      <th>total_awards_received</th>\n",
       "      <th>whitelist_status</th>\n",
       "    </tr>\n",
       "  </thead>\n",
       "  <tbody>\n",
       "  </tbody>\n",
       "</table>\n",
       "</div>"
      ],
      "text/plain": [
       "Empty DataFrame\n",
       "Columns: [created_utc, num_comments, score, upvote_ratio, selftext, subreddit, subreddit_subscribers, subreddit_type, title, total_awards_received, whitelist_status]\n",
       "Index: []"
      ]
     },
     "execution_count": 16,
     "metadata": {},
     "output_type": "execute_result"
    }
   ],
   "source": [
    "# dropping moderator posts\n",
    "zerocarb.drop(index=zerocarb[zerocarb['title']\\\n",
    "                           .str.contains('READ THIS BEFORE POSTING|Weekly')].index, inplace=True)\n",
    "\n",
    "# mask again for a sanity check that it has been dropped.\n",
    "zerocarb[zerocarb['title'].str.contains('READ THIS BEFORE POSTING|Weekly')]"
   ]
  },
  {
   "cell_type": "markdown",
   "id": "ad9d92f1",
   "metadata": {},
   "source": [
    ">With that we will conduct pre-processing to clean up the text itself in the `selftext` column as well as the `title` column."
   ]
  },
  {
   "cell_type": "markdown",
   "id": "0cec167a",
   "metadata": {},
   "source": [
    "---"
   ]
  },
  {
   "cell_type": "markdown",
   "id": "a17ff36c",
   "metadata": {},
   "source": [
    "# Text Preprocessing"
   ]
  },
  {
   "cell_type": "markdown",
   "id": "2bc59c83",
   "metadata": {},
   "source": [
    "We have created 2 custom functions below.\n",
    "1. `links_dropper` will take in text, check if there is any link in the text, and then remove that link. After removal, the function will return the cleaned text.\n",
    "2. `text_cleaner` will take in text, change the case to lower-case for all words, while checking for non-alphanumeric characters and some other special characters and remove them. After which it will return the cleaned text."
   ]
  },
  {
   "cell_type": "code",
   "execution_count": 17,
   "id": "4fd27685",
   "metadata": {},
   "outputs": [],
   "source": [
    "def links_dropper(text):\n",
    "    \"\"\"This function takes in text, and removes any website links \n",
    "    found within it. After removal, it returns the cleaned text. \n",
    "    If no links exist, it will return the same text.\"\"\"\n",
    "    \n",
    "    # splitting words by spaces to get a list of all words\n",
    "    words = text.split(' ')\n",
    "    \n",
    "    # checking each word for 'http' and adding that identified\n",
    "    # link to a list called 'links'\n",
    "    links = [word for word in words if 'http' in word]\n",
    "    \n",
    "    # if statement to check if any links found\n",
    "    if links:\n",
    "        \n",
    "        # for loop to remove any links found, and \n",
    "        # return cleaned text\n",
    "        for link in links: \n",
    "            text = re.sub(link, '', text).strip()\n",
    "        return text\n",
    "    \n",
    "    # if no links found in text, just return text\n",
    "    else:\n",
    "        return text"
   ]
  },
  {
   "cell_type": "code",
   "execution_count": 18,
   "id": "b6411b74",
   "metadata": {},
   "outputs": [],
   "source": [
    "def text_cleaner(text):\n",
    "    \"\"\"This function takes in text, and removes any special \n",
    "    characters (e.g. '\\n, non-alphanumeric, etc) found within it.\n",
    "    After removal, it returns the cleaned text.\"\"\"\n",
    "    \n",
    "    # removal of 'new line' -->(\\n) characted from text\n",
    "    text = re.sub(r'\\n', ' ', text).lower()\n",
    "    \n",
    "    # removal of non-alphanumeric characters\n",
    "    text = re.sub(r\"[^A-Za-z0-9\\s']\", '', text)\n",
    "    \n",
    "    # removing any extra white spaces\n",
    "    text = re.sub('\\s+', ' ', text).strip()\n",
    "    \n",
    "    # returning cleaned text\n",
    "    return text"
   ]
  },
  {
   "cell_type": "markdown",
   "id": "63f738b5",
   "metadata": {},
   "source": [
    ">We will pass our function over the `selftext` and `title` columns via the `.apply` method. The `text_cleaner` function must be applied first as special characters in the website links may cause issue within `regex`, e.g. any 'dashes' will be interpreted as a range of characters."
   ]
  },
  {
   "cell_type": "markdown",
   "id": "11b95a7c",
   "metadata": {},
   "source": [
    "#### `r/keto` subreddit"
   ]
  },
  {
   "cell_type": "code",
   "execution_count": 19,
   "id": "1f7231af",
   "metadata": {},
   "outputs": [],
   "source": [
    "# applying both 'text_cleaner' and 'links_dropper' to 'selftext'\n",
    "keto['selftext'] = keto['selftext'].apply(text_cleaner)\n",
    "keto['selftext'] = keto['selftext'].apply(links_dropper)\n",
    "\n",
    "# applying both 'text_cleaner' and 'links_dropper' to 'title'\n",
    "keto['title'] = keto['title'].apply(text_cleaner)\n",
    "keto['title'] = keto['title'].apply(links_dropper)"
   ]
  },
  {
   "cell_type": "markdown",
   "id": "91666be9",
   "metadata": {},
   "source": [
    "#### `r/zerocarb` subreddit"
   ]
  },
  {
   "cell_type": "code",
   "execution_count": 20,
   "id": "2359529a",
   "metadata": {},
   "outputs": [],
   "source": [
    "# applying both 'text_cleaner' and 'links_dropper' to 'selftext'\n",
    "zerocarb['selftext'] = zerocarb['selftext'].apply(text_cleaner)\n",
    "zerocarb['selftext'] = zerocarb['selftext'].apply(links_dropper)\n",
    "\n",
    "# applying both 'text_cleaner' and 'links_dropper' to 'title'\n",
    "zerocarb['title'] = zerocarb['title'].apply(text_cleaner)\n",
    "zerocarb['title'] = zerocarb['title'].apply(links_dropper)"
   ]
  },
  {
   "cell_type": "markdown",
   "id": "8c9d28e7",
   "metadata": {},
   "source": [
    "Now that we have cleaned our text columns, we will combine them into 1 so that we can pass it in as a series into our model later on. For EDA as well, it will make it easier as we will need to have our text in 1 column in order to vectorize it."
   ]
  },
  {
   "cell_type": "code",
   "execution_count": 21,
   "id": "71ef33e5",
   "metadata": {},
   "outputs": [],
   "source": [
    "# combining 'selftext' and 'title' into one combined text column\n",
    "# c_text for short\n",
    "\n",
    "keto['c_text'] = keto['selftext'] + ' ' + keto['title']\n",
    "zerocarb['c_text'] = zerocarb['selftext'] + ' ' + zerocarb['title']"
   ]
  },
  {
   "cell_type": "markdown",
   "id": "e1fa4844",
   "metadata": {},
   "source": [
    "---"
   ]
  },
  {
   "cell_type": "markdown",
   "id": "985d2f62",
   "metadata": {},
   "source": [
    "# Datetime Conversion"
   ]
  },
  {
   "cell_type": "markdown",
   "id": "91de9e49",
   "metadata": {},
   "source": [
    "We have created a custom function below.\n",
    "1. `convert_to_date` will take in a timestamp and convert it to datetime format."
   ]
  },
  {
   "cell_type": "markdown",
   "id": "972acd18",
   "metadata": {},
   "source": [
    "Now the last thing we need to do is to convert the `created_utc` column to datetime."
   ]
  },
  {
   "cell_type": "code",
   "execution_count": 22,
   "id": "d3b0e639",
   "metadata": {},
   "outputs": [],
   "source": [
    "def convert_to_date(timestamp):\n",
    "    # using datetime library to convert timestamp to date time\n",
    "    date = datetime.datetime.fromtimestamp(timestamp)\n",
    "    return date"
   ]
  },
  {
   "cell_type": "code",
   "execution_count": 23,
   "id": "e9f7c1e2",
   "metadata": {},
   "outputs": [],
   "source": [
    "# applying custom 'conver_to_date' function to both subreddits data\n",
    "keto['date'] = keto['created_utc'].apply(convert_to_date)\n",
    "zerocarb['date'] = zerocarb['created_utc'].apply(convert_to_date)"
   ]
  },
  {
   "cell_type": "markdown",
   "id": "2c45b5ea",
   "metadata": {},
   "source": [
    "For the sake of EDA, and visualization, we will create a column with Month-Year in each dataset."
   ]
  },
  {
   "cell_type": "code",
   "execution_count": 24,
   "id": "b4cbe21c",
   "metadata": {},
   "outputs": [],
   "source": [
    "# pulling out 'month-year' in case it is useful during EDA\n",
    "keto['month_year'] = pd.to_datetime(keto['date']).dt.to_period('M')\n",
    "zerocarb['month_year'] = pd.to_datetime(zerocarb['date']).dt.to_period('M')"
   ]
  },
  {
   "cell_type": "markdown",
   "id": "879c1002",
   "metadata": {},
   "source": [
    "---"
   ]
  },
  {
   "cell_type": "markdown",
   "id": "41110ff5",
   "metadata": {},
   "source": [
    "# Accidental Null Values"
   ]
  },
  {
   "cell_type": "markdown",
   "id": "76a4890a",
   "metadata": {},
   "source": [
    "We will do one last check for null values, since we conducted preprocessing within `selftext`, `title` and `c_text`, it is possible that has generated additional null values. We will check the values with both the `isnull()` method as well as a mask."
   ]
  },
  {
   "cell_type": "code",
   "execution_count": 25,
   "id": "28d158c6",
   "metadata": {},
   "outputs": [
    {
     "data": {
      "text/plain": [
       "selftext    0\n",
       "title       0\n",
       "c_text      0\n",
       "dtype: int64"
      ]
     },
     "execution_count": 25,
     "metadata": {},
     "output_type": "execute_result"
    }
   ],
   "source": [
    "# final check for null values after text-preprocessing\n",
    "keto[['selftext', 'title', 'c_text']].isnull().sum()"
   ]
  },
  {
   "cell_type": "markdown",
   "id": "2080dcad",
   "metadata": {},
   "source": [
    "#### Manual Check in keto Subreddit"
   ]
  },
  {
   "cell_type": "code",
   "execution_count": 26,
   "id": "94b15875",
   "metadata": {},
   "outputs": [
    {
     "data": {
      "text/html": [
       "<div>\n",
       "<style scoped>\n",
       "    .dataframe tbody tr th:only-of-type {\n",
       "        vertical-align: middle;\n",
       "    }\n",
       "\n",
       "    .dataframe tbody tr th {\n",
       "        vertical-align: top;\n",
       "    }\n",
       "\n",
       "    .dataframe thead th {\n",
       "        text-align: right;\n",
       "    }\n",
       "</style>\n",
       "<table border=\"1\" class=\"dataframe\">\n",
       "  <thead>\n",
       "    <tr style=\"text-align: right;\">\n",
       "      <th></th>\n",
       "      <th>created_utc</th>\n",
       "      <th>num_comments</th>\n",
       "      <th>score</th>\n",
       "      <th>upvote_ratio</th>\n",
       "      <th>selftext</th>\n",
       "      <th>subreddit</th>\n",
       "      <th>subreddit_subscribers</th>\n",
       "      <th>subreddit_type</th>\n",
       "      <th>title</th>\n",
       "      <th>total_awards_received</th>\n",
       "      <th>whitelist_status</th>\n",
       "      <th>c_text</th>\n",
       "      <th>date</th>\n",
       "      <th>month_year</th>\n",
       "    </tr>\n",
       "  </thead>\n",
       "  <tbody>\n",
       "    <tr>\n",
       "      <th>919</th>\n",
       "      <td>1646342102</td>\n",
       "      <td>0</td>\n",
       "      <td>1</td>\n",
       "      <td>1.0</td>\n",
       "      <td></td>\n",
       "      <td>keto</td>\n",
       "      <td>2899125</td>\n",
       "      <td>public</td>\n",
       "      <td>fat cell metabolic rate slowed by highcarb die...</td>\n",
       "      <td>0</td>\n",
       "      <td>all_ads</td>\n",
       "      <td>fat cell metabolic rate slowed by highcarb di...</td>\n",
       "      <td>2022-03-04 05:15:02</td>\n",
       "      <td>2022-03</td>\n",
       "    </tr>\n",
       "    <tr>\n",
       "      <th>4141</th>\n",
       "      <td>1637886437</td>\n",
       "      <td>0</td>\n",
       "      <td>1</td>\n",
       "      <td>1.0</td>\n",
       "      <td></td>\n",
       "      <td>keto</td>\n",
       "      <td>2682814</td>\n",
       "      <td>public</td>\n",
       "      <td>the inside of my stomach post thanksgiving mea...</td>\n",
       "      <td>0</td>\n",
       "      <td>all_ads</td>\n",
       "      <td>the inside of my stomach post thanksgiving me...</td>\n",
       "      <td>2021-11-26 08:27:17</td>\n",
       "      <td>2021-11</td>\n",
       "    </tr>\n",
       "    <tr>\n",
       "      <th>7209</th>\n",
       "      <td>1630352840</td>\n",
       "      <td>0</td>\n",
       "      <td>1</td>\n",
       "      <td>1.0</td>\n",
       "      <td></td>\n",
       "      <td>keto</td>\n",
       "      <td>2541982</td>\n",
       "      <td>public</td>\n",
       "      <td>right now im not sure if im in a caloric surpl...</td>\n",
       "      <td>0</td>\n",
       "      <td>all_ads</td>\n",
       "      <td>right now im not sure if im in a caloric surp...</td>\n",
       "      <td>2021-08-31 03:47:20</td>\n",
       "      <td>2021-08</td>\n",
       "    </tr>\n",
       "    <tr>\n",
       "      <th>7661</th>\n",
       "      <td>1629307632</td>\n",
       "      <td>0</td>\n",
       "      <td>1</td>\n",
       "      <td>1.0</td>\n",
       "      <td></td>\n",
       "      <td>keto</td>\n",
       "      <td>2530225</td>\n",
       "      <td>public</td>\n",
       "      <td>how long until the brain is in full on ketone ...</td>\n",
       "      <td>0</td>\n",
       "      <td>all_ads</td>\n",
       "      <td>how long until the brain is in full on ketone...</td>\n",
       "      <td>2021-08-19 01:27:12</td>\n",
       "      <td>2021-08</td>\n",
       "    </tr>\n",
       "    <tr>\n",
       "      <th>9117</th>\n",
       "      <td>1626216916</td>\n",
       "      <td>0</td>\n",
       "      <td>1</td>\n",
       "      <td>1.0</td>\n",
       "      <td></td>\n",
       "      <td>keto</td>\n",
       "      <td>2486424</td>\n",
       "      <td>public</td>\n",
       "      <td>i finally got the courage to post my progress ...</td>\n",
       "      <td>0</td>\n",
       "      <td>all_ads</td>\n",
       "      <td>i finally got the courage to post my progress...</td>\n",
       "      <td>2021-07-14 06:55:16</td>\n",
       "      <td>2021-07</td>\n",
       "    </tr>\n",
       "    <tr>\n",
       "      <th>9483</th>\n",
       "      <td>1625480574</td>\n",
       "      <td>1</td>\n",
       "      <td>1</td>\n",
       "      <td>1.0</td>\n",
       "      <td></td>\n",
       "      <td>keto</td>\n",
       "      <td>2474911</td>\n",
       "      <td>public</td>\n",
       "      <td>what fat is this minced beef</td>\n",
       "      <td>0</td>\n",
       "      <td>all_ads</td>\n",
       "      <td>what fat is this minced beef</td>\n",
       "      <td>2021-07-05 18:22:54</td>\n",
       "      <td>2021-07</td>\n",
       "    </tr>\n",
       "  </tbody>\n",
       "</table>\n",
       "</div>"
      ],
      "text/plain": [
       "      created_utc  num_comments  score  upvote_ratio selftext subreddit  \\\n",
       "919    1646342102             0      1           1.0               keto   \n",
       "4141   1637886437             0      1           1.0               keto   \n",
       "7209   1630352840             0      1           1.0               keto   \n",
       "7661   1629307632             0      1           1.0               keto   \n",
       "9117   1626216916             0      1           1.0               keto   \n",
       "9483   1625480574             1      1           1.0               keto   \n",
       "\n",
       "      subreddit_subscribers subreddit_type  \\\n",
       "919                 2899125         public   \n",
       "4141                2682814         public   \n",
       "7209                2541982         public   \n",
       "7661                2530225         public   \n",
       "9117                2486424         public   \n",
       "9483                2474911         public   \n",
       "\n",
       "                                                  title  \\\n",
       "919   fat cell metabolic rate slowed by highcarb die...   \n",
       "4141  the inside of my stomach post thanksgiving mea...   \n",
       "7209  right now im not sure if im in a caloric surpl...   \n",
       "7661  how long until the brain is in full on ketone ...   \n",
       "9117  i finally got the courage to post my progress ...   \n",
       "9483                       what fat is this minced beef   \n",
       "\n",
       "      total_awards_received whitelist_status  \\\n",
       "919                       0          all_ads   \n",
       "4141                      0          all_ads   \n",
       "7209                      0          all_ads   \n",
       "7661                      0          all_ads   \n",
       "9117                      0          all_ads   \n",
       "9483                      0          all_ads   \n",
       "\n",
       "                                                 c_text                date  \\\n",
       "919    fat cell metabolic rate slowed by highcarb di... 2022-03-04 05:15:02   \n",
       "4141   the inside of my stomach post thanksgiving me... 2021-11-26 08:27:17   \n",
       "7209   right now im not sure if im in a caloric surp... 2021-08-31 03:47:20   \n",
       "7661   how long until the brain is in full on ketone... 2021-08-19 01:27:12   \n",
       "9117   i finally got the courage to post my progress... 2021-07-14 06:55:16   \n",
       "9483                       what fat is this minced beef 2021-07-05 18:22:54   \n",
       "\n",
       "     month_year  \n",
       "919     2022-03  \n",
       "4141    2021-11  \n",
       "7209    2021-08  \n",
       "7661    2021-08  \n",
       "9117    2021-07  \n",
       "9483    2021-07  "
      ]
     },
     "execution_count": 26,
     "metadata": {},
     "output_type": "execute_result"
    }
   ],
   "source": [
    "# mask to check for blank values in 'selftext'\n",
    "keto.loc[keto['selftext'] == '']"
   ]
  },
  {
   "cell_type": "code",
   "execution_count": 27,
   "id": "60949ae4",
   "metadata": {},
   "outputs": [
    {
     "data": {
      "text/html": [
       "<div>\n",
       "<style scoped>\n",
       "    .dataframe tbody tr th:only-of-type {\n",
       "        vertical-align: middle;\n",
       "    }\n",
       "\n",
       "    .dataframe tbody tr th {\n",
       "        vertical-align: top;\n",
       "    }\n",
       "\n",
       "    .dataframe thead th {\n",
       "        text-align: right;\n",
       "    }\n",
       "</style>\n",
       "<table border=\"1\" class=\"dataframe\">\n",
       "  <thead>\n",
       "    <tr style=\"text-align: right;\">\n",
       "      <th></th>\n",
       "      <th>created_utc</th>\n",
       "      <th>num_comments</th>\n",
       "      <th>score</th>\n",
       "      <th>upvote_ratio</th>\n",
       "      <th>selftext</th>\n",
       "      <th>subreddit</th>\n",
       "      <th>subreddit_subscribers</th>\n",
       "      <th>subreddit_type</th>\n",
       "      <th>title</th>\n",
       "      <th>total_awards_received</th>\n",
       "      <th>whitelist_status</th>\n",
       "      <th>c_text</th>\n",
       "      <th>date</th>\n",
       "      <th>month_year</th>\n",
       "    </tr>\n",
       "  </thead>\n",
       "  <tbody>\n",
       "    <tr>\n",
       "      <th>7162</th>\n",
       "      <td>1630458686</td>\n",
       "      <td>0</td>\n",
       "      <td>1</td>\n",
       "      <td>1.0</td>\n",
       "      <td>i've been struggling with my weight since i wa...</td>\n",
       "      <td>keto</td>\n",
       "      <td>2543159</td>\n",
       "      <td>public</td>\n",
       "      <td></td>\n",
       "      <td>0</td>\n",
       "      <td>all_ads</td>\n",
       "      <td>i've been struggling with my weight since i wa...</td>\n",
       "      <td>2021-09-01 09:11:26</td>\n",
       "      <td>2021-09</td>\n",
       "    </tr>\n",
       "  </tbody>\n",
       "</table>\n",
       "</div>"
      ],
      "text/plain": [
       "      created_utc  num_comments  score  upvote_ratio  \\\n",
       "7162   1630458686             0      1           1.0   \n",
       "\n",
       "                                               selftext subreddit  \\\n",
       "7162  i've been struggling with my weight since i wa...      keto   \n",
       "\n",
       "      subreddit_subscribers subreddit_type title  total_awards_received  \\\n",
       "7162                2543159         public                            0   \n",
       "\n",
       "     whitelist_status                                             c_text  \\\n",
       "7162          all_ads  i've been struggling with my weight since i wa...   \n",
       "\n",
       "                    date month_year  \n",
       "7162 2021-09-01 09:11:26    2021-09  "
      ]
     },
     "execution_count": 27,
     "metadata": {},
     "output_type": "execute_result"
    }
   ],
   "source": [
    "# mask to check for blank values in 'title'\n",
    "keto.loc[keto['title'] == '']"
   ]
  },
  {
   "cell_type": "code",
   "execution_count": 28,
   "id": "6dd2c3cd",
   "metadata": {},
   "outputs": [
    {
     "data": {
      "text/html": [
       "<div>\n",
       "<style scoped>\n",
       "    .dataframe tbody tr th:only-of-type {\n",
       "        vertical-align: middle;\n",
       "    }\n",
       "\n",
       "    .dataframe tbody tr th {\n",
       "        vertical-align: top;\n",
       "    }\n",
       "\n",
       "    .dataframe thead th {\n",
       "        text-align: right;\n",
       "    }\n",
       "</style>\n",
       "<table border=\"1\" class=\"dataframe\">\n",
       "  <thead>\n",
       "    <tr style=\"text-align: right;\">\n",
       "      <th></th>\n",
       "      <th>created_utc</th>\n",
       "      <th>num_comments</th>\n",
       "      <th>score</th>\n",
       "      <th>upvote_ratio</th>\n",
       "      <th>selftext</th>\n",
       "      <th>subreddit</th>\n",
       "      <th>subreddit_subscribers</th>\n",
       "      <th>subreddit_type</th>\n",
       "      <th>title</th>\n",
       "      <th>total_awards_received</th>\n",
       "      <th>whitelist_status</th>\n",
       "      <th>c_text</th>\n",
       "      <th>date</th>\n",
       "      <th>month_year</th>\n",
       "    </tr>\n",
       "  </thead>\n",
       "  <tbody>\n",
       "  </tbody>\n",
       "</table>\n",
       "</div>"
      ],
      "text/plain": [
       "Empty DataFrame\n",
       "Columns: [created_utc, num_comments, score, upvote_ratio, selftext, subreddit, subreddit_subscribers, subreddit_type, title, total_awards_received, whitelist_status, c_text, date, month_year]\n",
       "Index: []"
      ]
     },
     "execution_count": 28,
     "metadata": {},
     "output_type": "execute_result"
    }
   ],
   "source": [
    "# mask to check for blank values in 'c_text'\n",
    "keto.loc[keto['c_text'] == '']"
   ]
  },
  {
   "cell_type": "markdown",
   "id": "7473383a",
   "metadata": {},
   "source": [
    "---"
   ]
  },
  {
   "cell_type": "markdown",
   "id": "c86932af",
   "metadata": {},
   "source": [
    "#### Manual Check in zerocarb Subreddit"
   ]
  },
  {
   "cell_type": "code",
   "execution_count": 29,
   "id": "b166b597",
   "metadata": {},
   "outputs": [
    {
     "data": {
      "text/html": [
       "<div>\n",
       "<style scoped>\n",
       "    .dataframe tbody tr th:only-of-type {\n",
       "        vertical-align: middle;\n",
       "    }\n",
       "\n",
       "    .dataframe tbody tr th {\n",
       "        vertical-align: top;\n",
       "    }\n",
       "\n",
       "    .dataframe thead th {\n",
       "        text-align: right;\n",
       "    }\n",
       "</style>\n",
       "<table border=\"1\" class=\"dataframe\">\n",
       "  <thead>\n",
       "    <tr style=\"text-align: right;\">\n",
       "      <th></th>\n",
       "      <th>created_utc</th>\n",
       "      <th>num_comments</th>\n",
       "      <th>score</th>\n",
       "      <th>upvote_ratio</th>\n",
       "      <th>selftext</th>\n",
       "      <th>subreddit</th>\n",
       "      <th>subreddit_subscribers</th>\n",
       "      <th>subreddit_type</th>\n",
       "      <th>title</th>\n",
       "      <th>total_awards_received</th>\n",
       "      <th>whitelist_status</th>\n",
       "      <th>c_text</th>\n",
       "      <th>date</th>\n",
       "      <th>month_year</th>\n",
       "    </tr>\n",
       "  </thead>\n",
       "  <tbody>\n",
       "    <tr>\n",
       "      <th>29</th>\n",
       "      <td>1645405297</td>\n",
       "      <td>0</td>\n",
       "      <td>1</td>\n",
       "      <td>1.0</td>\n",
       "      <td></td>\n",
       "      <td>zerocarb</td>\n",
       "      <td>119242.0</td>\n",
       "      <td>public</td>\n",
       "      <td>you know science</td>\n",
       "      <td>0.0</td>\n",
       "      <td>all_ads</td>\n",
       "      <td>you know science</td>\n",
       "      <td>2022-02-21 09:01:37</td>\n",
       "      <td>2022-02</td>\n",
       "    </tr>\n",
       "    <tr>\n",
       "      <th>142</th>\n",
       "      <td>1634908534</td>\n",
       "      <td>17</td>\n",
       "      <td>1</td>\n",
       "      <td>1.0</td>\n",
       "      <td></td>\n",
       "      <td>zerocarb</td>\n",
       "      <td>117578.0</td>\n",
       "      <td>public</td>\n",
       "      <td>is it okay if i eat authentic proscuitto di pa...</td>\n",
       "      <td>0.0</td>\n",
       "      <td>all_ads</td>\n",
       "      <td>is it okay if i eat authentic proscuitto di p...</td>\n",
       "      <td>2021-10-22 21:15:34</td>\n",
       "      <td>2021-10</td>\n",
       "    </tr>\n",
       "    <tr>\n",
       "      <th>145</th>\n",
       "      <td>1634831750</td>\n",
       "      <td>44</td>\n",
       "      <td>1</td>\n",
       "      <td>1.0</td>\n",
       "      <td></td>\n",
       "      <td>zerocarb</td>\n",
       "      <td>117565.0</td>\n",
       "      <td>public</td>\n",
       "      <td>what is the best salt for seasoning food addin...</td>\n",
       "      <td>0.0</td>\n",
       "      <td>all_ads</td>\n",
       "      <td>what is the best salt for seasoning food addi...</td>\n",
       "      <td>2021-10-21 23:55:50</td>\n",
       "      <td>2021-10</td>\n",
       "    </tr>\n",
       "    <tr>\n",
       "      <th>147</th>\n",
       "      <td>1634756267</td>\n",
       "      <td>36</td>\n",
       "      <td>1</td>\n",
       "      <td>1.0</td>\n",
       "      <td></td>\n",
       "      <td>zerocarb</td>\n",
       "      <td>117569.0</td>\n",
       "      <td>public</td>\n",
       "      <td>are salmon eggs allowed</td>\n",
       "      <td>0.0</td>\n",
       "      <td>all_ads</td>\n",
       "      <td>are salmon eggs allowed</td>\n",
       "      <td>2021-10-21 02:57:47</td>\n",
       "      <td>2021-10</td>\n",
       "    </tr>\n",
       "    <tr>\n",
       "      <th>738</th>\n",
       "      <td>1603485062</td>\n",
       "      <td>0</td>\n",
       "      <td>1</td>\n",
       "      <td>1.0</td>\n",
       "      <td></td>\n",
       "      <td>zerocarb</td>\n",
       "      <td>113232.0</td>\n",
       "      <td>public</td>\n",
       "      <td>study on negative effects of fat consumption</td>\n",
       "      <td>0.0</td>\n",
       "      <td>all_ads</td>\n",
       "      <td>study on negative effects of fat consumption</td>\n",
       "      <td>2020-10-24 04:31:02</td>\n",
       "      <td>2020-10</td>\n",
       "    </tr>\n",
       "    <tr>\n",
       "      <th>...</th>\n",
       "      <td>...</td>\n",
       "      <td>...</td>\n",
       "      <td>...</td>\n",
       "      <td>...</td>\n",
       "      <td>...</td>\n",
       "      <td>...</td>\n",
       "      <td>...</td>\n",
       "      <td>...</td>\n",
       "      <td>...</td>\n",
       "      <td>...</td>\n",
       "      <td>...</td>\n",
       "      <td>...</td>\n",
       "      <td>...</td>\n",
       "      <td>...</td>\n",
       "    </tr>\n",
       "    <tr>\n",
       "      <th>8160</th>\n",
       "      <td>1518050737</td>\n",
       "      <td>45</td>\n",
       "      <td>22</td>\n",
       "      <td>NaN</td>\n",
       "      <td></td>\n",
       "      <td>zerocarb</td>\n",
       "      <td>NaN</td>\n",
       "      <td>public</td>\n",
       "      <td>any tips on going zero carb in college with ba...</td>\n",
       "      <td>NaN</td>\n",
       "      <td>all_ads</td>\n",
       "      <td>any tips on going zero carb in college with b...</td>\n",
       "      <td>2018-02-08 08:45:37</td>\n",
       "      <td>2018-02</td>\n",
       "    </tr>\n",
       "    <tr>\n",
       "      <th>8416</th>\n",
       "      <td>1511947752</td>\n",
       "      <td>4</td>\n",
       "      <td>1</td>\n",
       "      <td>NaN</td>\n",
       "      <td></td>\n",
       "      <td>zerocarb</td>\n",
       "      <td>NaN</td>\n",
       "      <td>NaN</td>\n",
       "      <td>can you use vegetable scrap sauce video</td>\n",
       "      <td>NaN</td>\n",
       "      <td>all_ads</td>\n",
       "      <td>can you use vegetable scrap sauce video</td>\n",
       "      <td>2017-11-29 17:29:12</td>\n",
       "      <td>2017-11</td>\n",
       "    </tr>\n",
       "    <tr>\n",
       "      <th>8689</th>\n",
       "      <td>1498282536</td>\n",
       "      <td>1</td>\n",
       "      <td>0</td>\n",
       "      <td>NaN</td>\n",
       "      <td></td>\n",
       "      <td>zerocarb</td>\n",
       "      <td>NaN</td>\n",
       "      <td>NaN</td>\n",
       "      <td>who says vegansvegetarians can't be violent bi...</td>\n",
       "      <td>NaN</td>\n",
       "      <td>NaN</td>\n",
       "      <td>who says vegansvegetarians can't be violent b...</td>\n",
       "      <td>2017-06-24 13:35:36</td>\n",
       "      <td>2017-06</td>\n",
       "    </tr>\n",
       "    <tr>\n",
       "      <th>8933</th>\n",
       "      <td>1486236007</td>\n",
       "      <td>5</td>\n",
       "      <td>0</td>\n",
       "      <td>NaN</td>\n",
       "      <td></td>\n",
       "      <td>zerocarb</td>\n",
       "      <td>NaN</td>\n",
       "      <td>NaN</td>\n",
       "      <td>the red meatdiverticulitis connection</td>\n",
       "      <td>NaN</td>\n",
       "      <td>NaN</td>\n",
       "      <td>the red meatdiverticulitis connection</td>\n",
       "      <td>2017-02-05 03:20:07</td>\n",
       "      <td>2017-02</td>\n",
       "    </tr>\n",
       "    <tr>\n",
       "      <th>9373</th>\n",
       "      <td>1462387677</td>\n",
       "      <td>12</td>\n",
       "      <td>6</td>\n",
       "      <td>NaN</td>\n",
       "      <td></td>\n",
       "      <td>zerocarb</td>\n",
       "      <td>NaN</td>\n",
       "      <td>NaN</td>\n",
       "      <td>how much protein you really need in your diet</td>\n",
       "      <td>NaN</td>\n",
       "      <td>NaN</td>\n",
       "      <td>how much protein you really need in your diet</td>\n",
       "      <td>2016-05-05 02:47:57</td>\n",
       "      <td>2016-05</td>\n",
       "    </tr>\n",
       "  </tbody>\n",
       "</table>\n",
       "<p>117 rows × 14 columns</p>\n",
       "</div>"
      ],
      "text/plain": [
       "      created_utc  num_comments  score  upvote_ratio selftext subreddit  \\\n",
       "29     1645405297             0      1           1.0           zerocarb   \n",
       "142    1634908534            17      1           1.0           zerocarb   \n",
       "145    1634831750            44      1           1.0           zerocarb   \n",
       "147    1634756267            36      1           1.0           zerocarb   \n",
       "738    1603485062             0      1           1.0           zerocarb   \n",
       "...           ...           ...    ...           ...      ...       ...   \n",
       "8160   1518050737            45     22           NaN           zerocarb   \n",
       "8416   1511947752             4      1           NaN           zerocarb   \n",
       "8689   1498282536             1      0           NaN           zerocarb   \n",
       "8933   1486236007             5      0           NaN           zerocarb   \n",
       "9373   1462387677            12      6           NaN           zerocarb   \n",
       "\n",
       "      subreddit_subscribers subreddit_type  \\\n",
       "29                 119242.0         public   \n",
       "142                117578.0         public   \n",
       "145                117565.0         public   \n",
       "147                117569.0         public   \n",
       "738                113232.0         public   \n",
       "...                     ...            ...   \n",
       "8160                    NaN         public   \n",
       "8416                    NaN            NaN   \n",
       "8689                    NaN            NaN   \n",
       "8933                    NaN            NaN   \n",
       "9373                    NaN            NaN   \n",
       "\n",
       "                                                  title  \\\n",
       "29                                     you know science   \n",
       "142   is it okay if i eat authentic proscuitto di pa...   \n",
       "145   what is the best salt for seasoning food addin...   \n",
       "147                             are salmon eggs allowed   \n",
       "738        study on negative effects of fat consumption   \n",
       "...                                                 ...   \n",
       "8160  any tips on going zero carb in college with ba...   \n",
       "8416            can you use vegetable scrap sauce video   \n",
       "8689  who says vegansvegetarians can't be violent bi...   \n",
       "8933              the red meatdiverticulitis connection   \n",
       "9373      how much protein you really need in your diet   \n",
       "\n",
       "      total_awards_received whitelist_status  \\\n",
       "29                      0.0          all_ads   \n",
       "142                     0.0          all_ads   \n",
       "145                     0.0          all_ads   \n",
       "147                     0.0          all_ads   \n",
       "738                     0.0          all_ads   \n",
       "...                     ...              ...   \n",
       "8160                    NaN          all_ads   \n",
       "8416                    NaN          all_ads   \n",
       "8689                    NaN              NaN   \n",
       "8933                    NaN              NaN   \n",
       "9373                    NaN              NaN   \n",
       "\n",
       "                                                 c_text                date  \\\n",
       "29                                     you know science 2022-02-21 09:01:37   \n",
       "142    is it okay if i eat authentic proscuitto di p... 2021-10-22 21:15:34   \n",
       "145    what is the best salt for seasoning food addi... 2021-10-21 23:55:50   \n",
       "147                             are salmon eggs allowed 2021-10-21 02:57:47   \n",
       "738        study on negative effects of fat consumption 2020-10-24 04:31:02   \n",
       "...                                                 ...                 ...   \n",
       "8160   any tips on going zero carb in college with b... 2018-02-08 08:45:37   \n",
       "8416            can you use vegetable scrap sauce video 2017-11-29 17:29:12   \n",
       "8689   who says vegansvegetarians can't be violent b... 2017-06-24 13:35:36   \n",
       "8933              the red meatdiverticulitis connection 2017-02-05 03:20:07   \n",
       "9373      how much protein you really need in your diet 2016-05-05 02:47:57   \n",
       "\n",
       "     month_year  \n",
       "29      2022-02  \n",
       "142     2021-10  \n",
       "145     2021-10  \n",
       "147     2021-10  \n",
       "738     2020-10  \n",
       "...         ...  \n",
       "8160    2018-02  \n",
       "8416    2017-11  \n",
       "8689    2017-06  \n",
       "8933    2017-02  \n",
       "9373    2016-05  \n",
       "\n",
       "[117 rows x 14 columns]"
      ]
     },
     "execution_count": 29,
     "metadata": {},
     "output_type": "execute_result"
    }
   ],
   "source": [
    "# mask to check for blank values in 'selftext'\n",
    "zerocarb.loc[zerocarb['selftext'] == '']"
   ]
  },
  {
   "cell_type": "code",
   "execution_count": 30,
   "id": "bcc20d2b",
   "metadata": {},
   "outputs": [
    {
     "data": {
      "text/html": [
       "<div>\n",
       "<style scoped>\n",
       "    .dataframe tbody tr th:only-of-type {\n",
       "        vertical-align: middle;\n",
       "    }\n",
       "\n",
       "    .dataframe tbody tr th {\n",
       "        vertical-align: top;\n",
       "    }\n",
       "\n",
       "    .dataframe thead th {\n",
       "        text-align: right;\n",
       "    }\n",
       "</style>\n",
       "<table border=\"1\" class=\"dataframe\">\n",
       "  <thead>\n",
       "    <tr style=\"text-align: right;\">\n",
       "      <th></th>\n",
       "      <th>created_utc</th>\n",
       "      <th>num_comments</th>\n",
       "      <th>score</th>\n",
       "      <th>upvote_ratio</th>\n",
       "      <th>selftext</th>\n",
       "      <th>subreddit</th>\n",
       "      <th>subreddit_subscribers</th>\n",
       "      <th>subreddit_type</th>\n",
       "      <th>title</th>\n",
       "      <th>total_awards_received</th>\n",
       "      <th>whitelist_status</th>\n",
       "      <th>c_text</th>\n",
       "      <th>date</th>\n",
       "      <th>month_year</th>\n",
       "    </tr>\n",
       "  </thead>\n",
       "  <tbody>\n",
       "    <tr>\n",
       "      <th>855</th>\n",
       "      <td>1598369141</td>\n",
       "      <td>0</td>\n",
       "      <td>1</td>\n",
       "      <td>1.0</td>\n",
       "      <td>ht to udem0n0cracy for this find the aim of th...</td>\n",
       "      <td>zerocarb</td>\n",
       "      <td>112467.0</td>\n",
       "      <td>public</td>\n",
       "      <td></td>\n",
       "      <td>0.0</td>\n",
       "      <td>no_ads</td>\n",
       "      <td>ht to udem0n0cracy for this find the aim of th...</td>\n",
       "      <td>2020-08-25 23:25:41</td>\n",
       "      <td>2020-08</td>\n",
       "    </tr>\n",
       "    <tr>\n",
       "      <th>2579</th>\n",
       "      <td>1572634081</td>\n",
       "      <td>0</td>\n",
       "      <td>1</td>\n",
       "      <td>NaN</td>\n",
       "      <td>i think i am finally realizing that my body ju...</td>\n",
       "      <td>zerocarb</td>\n",
       "      <td>103170.0</td>\n",
       "      <td>public</td>\n",
       "      <td></td>\n",
       "      <td>0.0</td>\n",
       "      <td>all_ads</td>\n",
       "      <td>i think i am finally realizing that my body ju...</td>\n",
       "      <td>2019-11-02 02:48:01</td>\n",
       "      <td>2019-11</td>\n",
       "    </tr>\n",
       "    <tr>\n",
       "      <th>6127</th>\n",
       "      <td>1536793036</td>\n",
       "      <td>8</td>\n",
       "      <td>8</td>\n",
       "      <td>NaN</td>\n",
       "      <td>how much bacon is to much bacon every day</td>\n",
       "      <td>zerocarb</td>\n",
       "      <td>54671.0</td>\n",
       "      <td>public</td>\n",
       "      <td></td>\n",
       "      <td>NaN</td>\n",
       "      <td>all_ads</td>\n",
       "      <td>how much bacon is to much bacon every day</td>\n",
       "      <td>2018-09-13 06:57:16</td>\n",
       "      <td>2018-09</td>\n",
       "    </tr>\n",
       "  </tbody>\n",
       "</table>\n",
       "</div>"
      ],
      "text/plain": [
       "      created_utc  num_comments  score  upvote_ratio  \\\n",
       "855    1598369141             0      1           1.0   \n",
       "2579   1572634081             0      1           NaN   \n",
       "6127   1536793036             8      8           NaN   \n",
       "\n",
       "                                               selftext subreddit  \\\n",
       "855   ht to udem0n0cracy for this find the aim of th...  zerocarb   \n",
       "2579  i think i am finally realizing that my body ju...  zerocarb   \n",
       "6127          how much bacon is to much bacon every day  zerocarb   \n",
       "\n",
       "      subreddit_subscribers subreddit_type title  total_awards_received  \\\n",
       "855                112467.0         public                          0.0   \n",
       "2579               103170.0         public                          0.0   \n",
       "6127                54671.0         public                          NaN   \n",
       "\n",
       "     whitelist_status                                             c_text  \\\n",
       "855            no_ads  ht to udem0n0cracy for this find the aim of th...   \n",
       "2579          all_ads  i think i am finally realizing that my body ju...   \n",
       "6127          all_ads         how much bacon is to much bacon every day    \n",
       "\n",
       "                    date month_year  \n",
       "855  2020-08-25 23:25:41    2020-08  \n",
       "2579 2019-11-02 02:48:01    2019-11  \n",
       "6127 2018-09-13 06:57:16    2018-09  "
      ]
     },
     "execution_count": 30,
     "metadata": {},
     "output_type": "execute_result"
    }
   ],
   "source": [
    "# mask to check for blank values in 'title'\n",
    "zerocarb.loc[zerocarb['title'] == '']"
   ]
  },
  {
   "cell_type": "code",
   "execution_count": 31,
   "id": "181a4db6",
   "metadata": {},
   "outputs": [
    {
     "data": {
      "text/html": [
       "<div>\n",
       "<style scoped>\n",
       "    .dataframe tbody tr th:only-of-type {\n",
       "        vertical-align: middle;\n",
       "    }\n",
       "\n",
       "    .dataframe tbody tr th {\n",
       "        vertical-align: top;\n",
       "    }\n",
       "\n",
       "    .dataframe thead th {\n",
       "        text-align: right;\n",
       "    }\n",
       "</style>\n",
       "<table border=\"1\" class=\"dataframe\">\n",
       "  <thead>\n",
       "    <tr style=\"text-align: right;\">\n",
       "      <th></th>\n",
       "      <th>created_utc</th>\n",
       "      <th>num_comments</th>\n",
       "      <th>score</th>\n",
       "      <th>upvote_ratio</th>\n",
       "      <th>selftext</th>\n",
       "      <th>subreddit</th>\n",
       "      <th>subreddit_subscribers</th>\n",
       "      <th>subreddit_type</th>\n",
       "      <th>title</th>\n",
       "      <th>total_awards_received</th>\n",
       "      <th>whitelist_status</th>\n",
       "      <th>c_text</th>\n",
       "      <th>date</th>\n",
       "      <th>month_year</th>\n",
       "    </tr>\n",
       "  </thead>\n",
       "  <tbody>\n",
       "  </tbody>\n",
       "</table>\n",
       "</div>"
      ],
      "text/plain": [
       "Empty DataFrame\n",
       "Columns: [created_utc, num_comments, score, upvote_ratio, selftext, subreddit, subreddit_subscribers, subreddit_type, title, total_awards_received, whitelist_status, c_text, date, month_year]\n",
       "Index: []"
      ]
     },
     "execution_count": 31,
     "metadata": {},
     "output_type": "execute_result"
    }
   ],
   "source": [
    "# mask to check for blank values in 'c_text'\n",
    "zerocarb.loc[zerocarb['c_text'] == '']"
   ]
  },
  {
   "cell_type": "markdown",
   "id": "9e993cf6",
   "metadata": {},
   "source": [
    "As we can see, our preprocessing has indeed created null values. This is most likely due to the post containing only special characters, e.g. an emoji \":P\", or a url. Those would have been removed by our preprocessing functions.<br>\n",
    "We will proceed to drop these rows containing blank text."
   ]
  },
  {
   "cell_type": "markdown",
   "id": "3b0d6f8a",
   "metadata": {},
   "source": [
    "---"
   ]
  },
  {
   "cell_type": "markdown",
   "id": "2a287d0b",
   "metadata": {},
   "source": [
    "## Dropping Accidental Null Values"
   ]
  },
  {
   "cell_type": "code",
   "execution_count": 32,
   "id": "c5a516cc",
   "metadata": {},
   "outputs": [],
   "source": [
    "# dropping values based on index for 'selftext' and 'title'\n",
    "keto.drop(index=keto.loc[keto['selftext'] == ''].index, inplace=True)\n",
    "keto.drop(index=keto.loc[keto['title'] == ''].index, inplace=True)\n",
    "\n",
    "# dropping values based on index for 'selftext' and 'title'\n",
    "zerocarb.drop(index=zerocarb.loc[zerocarb['selftext'] == ''].index, inplace=True)\n",
    "zerocarb.drop(index=zerocarb.loc[zerocarb['title'] == ''].index, inplace=True)"
   ]
  },
  {
   "cell_type": "markdown",
   "id": "6208ffeb",
   "metadata": {},
   "source": [
    "Let's do a sanity check to ensure that those rows were indeed dropped."
   ]
  },
  {
   "cell_type": "code",
   "execution_count": 33,
   "id": "c6929210",
   "metadata": {},
   "outputs": [
    {
     "data": {
      "text/html": [
       "<div>\n",
       "<style scoped>\n",
       "    .dataframe tbody tr th:only-of-type {\n",
       "        vertical-align: middle;\n",
       "    }\n",
       "\n",
       "    .dataframe tbody tr th {\n",
       "        vertical-align: top;\n",
       "    }\n",
       "\n",
       "    .dataframe thead th {\n",
       "        text-align: right;\n",
       "    }\n",
       "</style>\n",
       "<table border=\"1\" class=\"dataframe\">\n",
       "  <thead>\n",
       "    <tr style=\"text-align: right;\">\n",
       "      <th></th>\n",
       "      <th>created_utc</th>\n",
       "      <th>num_comments</th>\n",
       "      <th>score</th>\n",
       "      <th>upvote_ratio</th>\n",
       "      <th>selftext</th>\n",
       "      <th>subreddit</th>\n",
       "      <th>subreddit_subscribers</th>\n",
       "      <th>subreddit_type</th>\n",
       "      <th>title</th>\n",
       "      <th>total_awards_received</th>\n",
       "      <th>whitelist_status</th>\n",
       "      <th>c_text</th>\n",
       "      <th>date</th>\n",
       "      <th>month_year</th>\n",
       "    </tr>\n",
       "  </thead>\n",
       "  <tbody>\n",
       "  </tbody>\n",
       "</table>\n",
       "</div>"
      ],
      "text/plain": [
       "Empty DataFrame\n",
       "Columns: [created_utc, num_comments, score, upvote_ratio, selftext, subreddit, subreddit_subscribers, subreddit_type, title, total_awards_received, whitelist_status, c_text, date, month_year]\n",
       "Index: []"
      ]
     },
     "execution_count": 33,
     "metadata": {},
     "output_type": "execute_result"
    }
   ],
   "source": [
    "# mask for sanity checking\n",
    "keto.loc[keto['selftext'] == '']"
   ]
  },
  {
   "cell_type": "code",
   "execution_count": 34,
   "id": "ed5ec639",
   "metadata": {},
   "outputs": [
    {
     "data": {
      "text/html": [
       "<div>\n",
       "<style scoped>\n",
       "    .dataframe tbody tr th:only-of-type {\n",
       "        vertical-align: middle;\n",
       "    }\n",
       "\n",
       "    .dataframe tbody tr th {\n",
       "        vertical-align: top;\n",
       "    }\n",
       "\n",
       "    .dataframe thead th {\n",
       "        text-align: right;\n",
       "    }\n",
       "</style>\n",
       "<table border=\"1\" class=\"dataframe\">\n",
       "  <thead>\n",
       "    <tr style=\"text-align: right;\">\n",
       "      <th></th>\n",
       "      <th>created_utc</th>\n",
       "      <th>num_comments</th>\n",
       "      <th>score</th>\n",
       "      <th>upvote_ratio</th>\n",
       "      <th>selftext</th>\n",
       "      <th>subreddit</th>\n",
       "      <th>subreddit_subscribers</th>\n",
       "      <th>subreddit_type</th>\n",
       "      <th>title</th>\n",
       "      <th>total_awards_received</th>\n",
       "      <th>whitelist_status</th>\n",
       "      <th>c_text</th>\n",
       "      <th>date</th>\n",
       "      <th>month_year</th>\n",
       "    </tr>\n",
       "  </thead>\n",
       "  <tbody>\n",
       "  </tbody>\n",
       "</table>\n",
       "</div>"
      ],
      "text/plain": [
       "Empty DataFrame\n",
       "Columns: [created_utc, num_comments, score, upvote_ratio, selftext, subreddit, subreddit_subscribers, subreddit_type, title, total_awards_received, whitelist_status, c_text, date, month_year]\n",
       "Index: []"
      ]
     },
     "execution_count": 34,
     "metadata": {},
     "output_type": "execute_result"
    }
   ],
   "source": [
    "# mask for sanity checking\n",
    "keto.loc[keto['title'] == '']"
   ]
  },
  {
   "cell_type": "code",
   "execution_count": 35,
   "id": "ef0ffe06",
   "metadata": {},
   "outputs": [
    {
     "data": {
      "text/html": [
       "<div>\n",
       "<style scoped>\n",
       "    .dataframe tbody tr th:only-of-type {\n",
       "        vertical-align: middle;\n",
       "    }\n",
       "\n",
       "    .dataframe tbody tr th {\n",
       "        vertical-align: top;\n",
       "    }\n",
       "\n",
       "    .dataframe thead th {\n",
       "        text-align: right;\n",
       "    }\n",
       "</style>\n",
       "<table border=\"1\" class=\"dataframe\">\n",
       "  <thead>\n",
       "    <tr style=\"text-align: right;\">\n",
       "      <th></th>\n",
       "      <th>created_utc</th>\n",
       "      <th>num_comments</th>\n",
       "      <th>score</th>\n",
       "      <th>upvote_ratio</th>\n",
       "      <th>selftext</th>\n",
       "      <th>subreddit</th>\n",
       "      <th>subreddit_subscribers</th>\n",
       "      <th>subreddit_type</th>\n",
       "      <th>title</th>\n",
       "      <th>total_awards_received</th>\n",
       "      <th>whitelist_status</th>\n",
       "      <th>c_text</th>\n",
       "      <th>date</th>\n",
       "      <th>month_year</th>\n",
       "    </tr>\n",
       "  </thead>\n",
       "  <tbody>\n",
       "  </tbody>\n",
       "</table>\n",
       "</div>"
      ],
      "text/plain": [
       "Empty DataFrame\n",
       "Columns: [created_utc, num_comments, score, upvote_ratio, selftext, subreddit, subreddit_subscribers, subreddit_type, title, total_awards_received, whitelist_status, c_text, date, month_year]\n",
       "Index: []"
      ]
     },
     "execution_count": 35,
     "metadata": {},
     "output_type": "execute_result"
    }
   ],
   "source": [
    "# mask for sanity checking\n",
    "zerocarb.loc[zerocarb['selftext'] == '']"
   ]
  },
  {
   "cell_type": "code",
   "execution_count": 36,
   "id": "fcecd23c",
   "metadata": {},
   "outputs": [
    {
     "data": {
      "text/html": [
       "<div>\n",
       "<style scoped>\n",
       "    .dataframe tbody tr th:only-of-type {\n",
       "        vertical-align: middle;\n",
       "    }\n",
       "\n",
       "    .dataframe tbody tr th {\n",
       "        vertical-align: top;\n",
       "    }\n",
       "\n",
       "    .dataframe thead th {\n",
       "        text-align: right;\n",
       "    }\n",
       "</style>\n",
       "<table border=\"1\" class=\"dataframe\">\n",
       "  <thead>\n",
       "    <tr style=\"text-align: right;\">\n",
       "      <th></th>\n",
       "      <th>created_utc</th>\n",
       "      <th>num_comments</th>\n",
       "      <th>score</th>\n",
       "      <th>upvote_ratio</th>\n",
       "      <th>selftext</th>\n",
       "      <th>subreddit</th>\n",
       "      <th>subreddit_subscribers</th>\n",
       "      <th>subreddit_type</th>\n",
       "      <th>title</th>\n",
       "      <th>total_awards_received</th>\n",
       "      <th>whitelist_status</th>\n",
       "      <th>c_text</th>\n",
       "      <th>date</th>\n",
       "      <th>month_year</th>\n",
       "    </tr>\n",
       "  </thead>\n",
       "  <tbody>\n",
       "  </tbody>\n",
       "</table>\n",
       "</div>"
      ],
      "text/plain": [
       "Empty DataFrame\n",
       "Columns: [created_utc, num_comments, score, upvote_ratio, selftext, subreddit, subreddit_subscribers, subreddit_type, title, total_awards_received, whitelist_status, c_text, date, month_year]\n",
       "Index: []"
      ]
     },
     "execution_count": 36,
     "metadata": {},
     "output_type": "execute_result"
    }
   ],
   "source": [
    "# mask for sanity checking\n",
    "zerocarb.loc[zerocarb['title'] == '']"
   ]
  },
  {
   "cell_type": "markdown",
   "id": "2190b886",
   "metadata": {},
   "source": [
    "---"
   ]
  },
  {
   "cell_type": "markdown",
   "id": "46dc62c5",
   "metadata": {},
   "source": [
    "Now we can save our datasets and proceed with Exploratory Data Analysis and Visualization in the next jupyter noteboook."
   ]
  },
  {
   "cell_type": "code",
   "execution_count": 37,
   "id": "ab84aa83",
   "metadata": {},
   "outputs": [],
   "source": [
    "# data from r/keto\n",
    "keto.to_csv('datasets/keto_cleaned.csv', index=False)"
   ]
  },
  {
   "cell_type": "code",
   "execution_count": 38,
   "id": "3831df19",
   "metadata": {},
   "outputs": [],
   "source": [
    "# data from r/zerocarb\n",
    "zerocarb.to_csv('datasets/zerocarb_cleaned.csv', index=False)"
   ]
  }
 ],
 "metadata": {
  "kernelspec": {
   "display_name": "Python 3 (ipykernel)",
   "language": "python",
   "name": "python3"
  },
  "language_info": {
   "codemirror_mode": {
    "name": "ipython",
    "version": 3
   },
   "file_extension": ".py",
   "mimetype": "text/x-python",
   "name": "python",
   "nbconvert_exporter": "python",
   "pygments_lexer": "ipython3",
   "version": "3.8.12"
  }
 },
 "nbformat": 4,
 "nbformat_minor": 5
}
